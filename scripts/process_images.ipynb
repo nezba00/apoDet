{
 "cells": [
  {
   "cell_type": "code",
   "execution_count": 30,
   "metadata": {
    "vscode": {
     "languageId": "plaintext"
    }
   },
   "outputs": [],
   "source": [
    "### Imports\n",
    "# Standard library imports\n",
    "import json\n",
    "import os\n",
    "import shutil\n",
    "import logging\n",
    "import sys\n",
    "\n",
    "# Third-party imports\n",
    "# Data handling\n",
    "import numpy as np\n",
    "import pandas as pd\n",
    "\n",
    "# Image I/O and processing\n",
    "import tifffile as tiff\n",
    "from nd2reader import ND2Reader\n",
    "from skimage.morphology import remove_small_objects\n",
    "\n",
    "# Deep learning and segmentation\n",
    "from csbdeep.utils import Path, normalize\n",
    "from stardist import (\n",
    "    fill_label_holes,\n",
    "    random_label_cmap,\n",
    "    calculate_extents,\n",
    "    gputools_available,\n",
    ")\n",
    "from stardist.matching import matching, matching_dataset\n",
    "from stardist.models import Config2D, StarDist2D, StarDistData2D\n",
    "from tensorflow.keras.utils import Sequence\n",
    "\n",
    "# Tracking\n",
    "import btrack\n",
    "from btrack.constants import BayesianUpdates\n",
    "\n",
    "# Visualization\n",
    "import matplotlib.cm as cm\n",
    "import matplotlib.pyplot as plt\n",
    "\n",
    "# Utilities\n",
    "from tqdm import tqdm\n",
    "\n",
    "from datetime import datetime"
   ]
  },
  {
   "cell_type": "code",
   "execution_count": 31,
   "metadata": {},
   "outputs": [],
   "source": [
    "## Variables\n",
    "## Directory Paths\n",
    "# Input\n",
    "IMG_DIR = '/mnt/imaging.data/PertzLab/apoDetection/TIFFs'\n",
    "APO_DIR = '/mnt/imaging.data/PertzLab/apoDetection/ApoptosisAnnotation'\n",
    "EXPERIMENT_INFO = '/mnt/imaging.data/PertzLab/apoDetection/List of the experiments.csv'\n",
    "# Output\n",
    "MASK_DIR = '../data/apo_masks'    # Stardist label predictions\n",
    "CSV_DIR = '../data/apo_match_csv'    # File with manual and stardist centroids\n",
    "DF_DIR = '../data/summary_dfs'\n",
    "CROPS_DIR = '../data/apo_crops_test'    # Directory with .tif files for QC\n",
    "WINDOWS_DIR = '/home/nbahou/myimaging/apoDet/data/windows_test'    # Directory with crops for scDINO\n",
    "RANDOM_DIR = os.path.join(WINDOWS_DIR, 'random')\n",
    "CLASS_DCT_PATH = './extras/class_dicts'\n",
    "\n",
    "\n",
    "## Processing Configuration\n",
    "COMPARE_2D_VERS = True\n",
    "SAVE_MASKS = True\n",
    "LOAD_MASKS = True\n",
    "USE_GPU = True\n",
    "MIN_NUC_SIZE = 200\n",
    "\n",
    "## Tracking Parameters\n",
    "BT_CONFIG_FILE = \"extras/cell_config.json\"  # Path to btrack config file\n",
    "EPS_TRACK = 70         # Tracking radius [px]\n",
    "TRK_MIN_LEN = 25       # Minimum track length [frames]\n",
    "\n",
    "#\n",
    "MAX_TRACKING_DURATION = 20    # In minutes\n",
    "FRAME_INTERVAL = 5    # minutes between images we want\n",
    "\n",
    "WINDOW_SIZE = 61\n",
    "\n",
    "\n",
    "## Logger Set Up\n",
    "#logging.shutdown()    # For jupyter notebooks\n",
    "logger = logging.getLogger(__name__)\n",
    "#if logger.hasHandlers():\n",
    "#    logger.handlers.clear()\n",
    "# Get the current timestamp\n",
    "timestamp = datetime.now().strftime(\"%Y-%m-%d_%H-%M-%S\")\n",
    "\n",
    "# Define log directory and ensure it exists\n",
    "log_dir = \"./logs\"  # Folder for logs\n",
    "os.makedirs(log_dir, exist_ok=True)  # Create directory if it doesn't exist\n",
    "\n",
    "log_filename = f\"cell_analysis_{timestamp}.log\"\n",
    "log_path = os.path.join(log_dir, log_filename)\n",
    "\n",
    "# Set up logging\n",
    "logging.basicConfig(\n",
    "    level=logging.INFO,\n",
    "    format='%(asctime)s - %(name)s - %(levelname)s - %(message)s',\n",
    "    handlers=[\n",
    "        logging.FileHandler(log_path),\n",
    "        logging.StreamHandler(sys.stdout)  # Outputs to console too\n",
    "    ],\n",
    "    force = True\n",
    ")\n",
    "\n",
    "# Create a logger instance\n",
    "logger = logging.getLogger(__name__)\n",
    "\n",
    "# Only forward Warnings/Errors/Critical from btrack\n",
    "logging.getLogger('btrack').setLevel(logging.WARNING)\n"
   ]
  },
  {
   "cell_type": "code",
   "execution_count": 32,
   "metadata": {},
   "outputs": [],
   "source": [
    "def load_image_stack(path):\n",
    "    \"\"\"\n",
    "    Load an image stack from a file based on its extension.\n",
    "    \n",
    "    Uses tifffile for TIFF files and ND2Reader for ND2 files.\n",
    "    \"\"\"\n",
    "    if path.endswith(('.tif', '.tiff')):\n",
    "        # Load TIFF file using tifffile\n",
    "        return tiff.imread(path)\n",
    "    elif path.endswith('.nd2'):\n",
    "        # Load ND2 file using ND2Reader and convert it to a numpy array\n",
    "        with ND2Reader(path) as nd2:\n",
    "            return np.array(nd2)\n",
    "    else:\n",
    "        raise ValueError(f\"Unsupported file format for file: {path}\")\n",
    "\n",
    "def get_image_paths(directory):\n",
    "    \"\"\"\n",
    "    Returns a list of absolute paths of all TIFF and ND2 files in a directory.\n",
    "    \"\"\"\n",
    "    valid_extensions = ('.tif', '.tiff', '.nd2')\n",
    "    paths = [\n",
    "        os.path.abspath(os.path.join(directory, f))\n",
    "        for f in os.listdir(directory)\n",
    "        if f.endswith(valid_extensions)\n",
    "    ]\n",
    "    return sorted(paths)\n",
    "\n",
    "def crop_window(img, center_x, center_y, window_size):\n",
    "    # Check if number is even, add one if so\n",
    "    if window_size%2 == 0:\n",
    "        window_size += 1\n",
    "        logger.warning(f'\\t\\tWindow size even, adding 1. New window size: {window_size}')\n",
    "    half_window_size = window_size // 2\n",
    "    x_from = max(center_x - half_window_size, 0)\n",
    "    x_to = min(center_x + half_window_size + 1, img.shape[1])\n",
    "    y_from = max(center_y - half_window_size, 0)\n",
    "    y_to = min(center_y + half_window_size + 1, img.shape[0])\n",
    "    window = img[y_from:y_to, x_from:x_to]\n",
    "\n",
    "    return window\n",
    "    "
   ]
  },
  {
   "cell_type": "code",
   "execution_count": 33,
   "metadata": {
    "scrolled": true
   },
   "outputs": [
    {
     "name": "stdout",
     "output_type": "stream",
     "text": [
      "2025-03-19 12:31:52,462 - __main__ - INFO - Starting Image Processing\n",
      "2025-03-19 12:31:52,528 - __main__ - INFO - Detected 2 files in specified directories.\n",
      "Found model '2D_versatile_fluo' for 'StarDist2D'.\n",
      "Loading network weights from 'weights_best.h5'.\n",
      "Loading thresholds from 'thresholds.json'.\n",
      "Using default values: prob_thresh=0.479071, nms_thresh=0.3.\n",
      "2025-03-19 12:31:52,897 - __main__ - INFO - Starting to process files.\n",
      "2025-03-19 12:31:52,899 - __main__ - INFO - Processing Exp01_Site01\n",
      "2025-03-19 12:31:52,949 - __main__ - INFO - \tStarting with Stardist segmentation.\n"
     ]
    },
    {
     "name": "stderr",
     "output_type": "stream",
     "text": [
      "functional.py (237): The structure of `inputs` doesn't match the expected structure.           | 0/1441 [00:00<?, ?it/s]\n",
      "Expected: ['input']\n",
      "Received: inputs=Tensor(shape=(1, 256, 256, 1))\n",
      "functional.py (237): The structure of `inputs` doesn't match the expected structure.\n",
      "Expected: ['input']\n",
      "Received: inputs=Tensor(shape=(1, None, None, 1))\n",
      "100%|███████████████████████████████████████████████████████████████████████████████| 1441/1441 [13:16<00:00,  1.81it/s]\n"
     ]
    },
    {
     "name": "stdout",
     "output_type": "stream",
     "text": [
      "2025-03-19 12:45:29,918 - __main__ - INFO - \t\tSegmentation successful.\n",
      "2025-03-19 12:45:29,924 - __main__ - INFO - \tRemoving objects smaller than 200.\n",
      "2025-03-19 12:45:58,326 - __main__ - INFO - \t\tDone!\n",
      "2025-03-19 12:45:58,327 - __main__ - INFO - \tStarting tracking for: Exp01_Site01\n"
     ]
    },
    {
     "name": "stderr",
     "output_type": "stream",
     "text": [
      "100%|███████████████████████████████████████████████████████████████████████████████| 1441/1441 [01:53<00:00, 12.65it/s]\n"
     ]
    },
    {
     "name": "stdout",
     "output_type": "stream",
     "text": [
      "GLPK Integer Optimizer 5.0\n",
      "29796 rows, 28305 columns, 42923 non-zeros\n",
      "28305 integer variables, all of which are binary\n",
      "Preprocessing...\n",
      "14898 rows, 28305 columns, 42923 non-zeros\n",
      "28305 integer variables, all of which are binary\n",
      "Scaling...\n",
      " A: min|aij| =  1.000e+00  max|aij| =  1.000e+00  ratio =  1.000e+00\n",
      "Problem data seem to be well scaled\n",
      "Constructing initial basis...\n",
      "Size of triangular part is 14898\n",
      "Solving LP relaxation...\n",
      "GLPK Simplex Optimizer 5.0\n",
      "14898 rows, 28305 columns, 42923 non-zeros\n",
      "*     0: obj =   8.451693242e+04 inf =   0.000e+00 (10678)\n",
      "Perturbing LP to avoid stalling [511]...\n",
      "*  8954: obj =   2.819904396e+04 inf =   2.000e-09 (1429) 5\n",
      "Removing LP perturbation [10417]...\n",
      "* 10417: obj =   2.708178225e+04 inf =   0.000e+00 (0) 4\n",
      "OPTIMAL LP SOLUTION FOUND\n",
      "Integer optimization begins...\n",
      "Long-step dual simplex will be used\n",
      "+ 10417: mip =     not found yet >=              -inf        (1; 0)\n",
      "+ 10438: >>>>>   2.709167410e+04 >=   2.708690811e+04 < 0.1% (16; 0)\n",
      "+ 10477: mip =   2.709167410e+04 >=     tree is empty   0.0% (0; 33)\n",
      "INTEGER OPTIMAL SOLUTION FOUND\n",
      "2025-03-19 12:48:18,514 - __main__ - INFO - \t\tTracking Done.\n",
      "2025-03-19 12:48:18,519 - __main__ - INFO - \tMerging information from Btrack and stardist.\n",
      "2025-03-19 12:48:18,647 - __main__ - INFO - \t\tComplete.\n",
      "2025-03-19 12:48:18,647 - __main__ - INFO - \tConverting Obj_IDs to Track_IDs in stardist masks.\n",
      "2025-03-19 12:50:02,381 - __main__ - INFO - \t\tDone!\n",
      "2025-03-19 12:50:02,383 - __main__ - INFO - \tMatching manual and stardist annotations\n"
     ]
    },
    {
     "name": "stderr",
     "output_type": "stream",
     "text": [
      "Processing Annotations: 100%|█████████████████████████████████████████████████████████| 51/51 [00:00<00:00, 7631.45it/s]"
     ]
    },
    {
     "name": "stdout",
     "output_type": "stream",
     "text": [
      "2025-03-19 12:50:02,402 - __main__ - INFO - \t\tApo-Annotations with stardist centroids saved at: ../data/apo_match_csv/Exp01_Site01.csv\n"
     ]
    },
    {
     "name": "stderr",
     "output_type": "stream",
     "text": [
      "\n"
     ]
    },
    {
     "name": "stdout",
     "output_type": "stream",
     "text": [
      "2025-03-19 12:50:02,867 - __main__ - INFO - \t\tSummary-Df saved at: ../data/summary_dfs/Exp01_Site01_pd_df.csv\n",
      "2025-03-19 12:50:28,494 - __main__ - INFO - \t\tSummary-Df saved at: ../data/apo_masks/Exp01_Site01.npz\n",
      "2025-03-19 12:50:28,497 - __main__ - INFO - \t\tMatching finished.\n",
      "2025-03-19 12:50:30,412 - __main__ - INFO - \tStartign cropping for apo cells\n"
     ]
    },
    {
     "name": "stderr",
     "output_type": "stream",
     "text": [
      "Processing Annotations:   6%|███▌                                                        | 3/51 [00:00<00:01, 28.56it/s]"
     ]
    },
    {
     "name": "stdout",
     "output_type": "stream",
     "text": [
      "2025-03-19 12:50:30,577 - __main__ - WARNING - \t\tSkipping current track: 470. Reason: Track lost too quickly after anno. len = 2\n"
     ]
    },
    {
     "name": "stderr",
     "output_type": "stream",
     "text": [
      "Processing Annotations:  16%|█████████▍                                                  | 8/51 [00:00<00:01, 37.31it/s]"
     ]
    },
    {
     "name": "stdout",
     "output_type": "stream",
     "text": [
      "2025-03-19 12:50:30,663 - __main__ - WARNING - \t\tNo valid start point for a sequence with correct intervals found.\n"
     ]
    },
    {
     "name": "stderr",
     "output_type": "stream",
     "text": [
      "Processing Annotations:  25%|███████████████                                            | 13/51 [00:00<00:01, 37.20it/s]"
     ]
    },
    {
     "name": "stdout",
     "output_type": "stream",
     "text": [
      "2025-03-19 12:50:30,781 - __main__ - WARNING - \t\tNo valid start point for a sequence with correct intervals found.\n"
     ]
    },
    {
     "name": "stderr",
     "output_type": "stream",
     "text": [
      "Processing Annotations:  39%|███████████████████████▏                                   | 20/51 [00:00<00:00, 43.82it/s]"
     ]
    },
    {
     "name": "stdout",
     "output_type": "stream",
     "text": [
      "2025-03-19 12:50:30,989 - __main__ - WARNING - \t\tNo valid start point for a sequence with correct intervals found.\n"
     ]
    },
    {
     "name": "stderr",
     "output_type": "stream",
     "text": [
      "Processing Annotations: 100%|███████████████████████████████████████████████████████████| 51/51 [00:02<00:00, 23.75it/s]"
     ]
    },
    {
     "name": "stdout",
     "output_type": "stream",
     "text": [
      "2025-03-19 12:50:32,563 - __main__ - INFO - \t\tValid crops of apo cells found for 47/51\n",
      "2025-03-19 12:50:32,564 - __main__ - INFO - \tStarting cropping for non-apo cells.\n"
     ]
    },
    {
     "name": "stderr",
     "output_type": "stream",
     "text": [
      "\n",
      "Cropping non-apo Windows: 100%|█████████████████████████████████████████████████████| 1115/1115 [00:17<00:00, 62.35it/s]"
     ]
    },
    {
     "name": "stdout",
     "output_type": "stream",
     "text": [
      "2025-03-19 12:50:50,502 - __main__ - INFO - \t\tFound 609 valid crops of healthy cells.\n",
      "2025-03-19 12:50:50,502 - __main__ - WARNING - \t\t506 windows were rejected due to incorrect size.\n",
      "2025-03-19 12:50:50,503 - __main__ - INFO - \tStarting cropping for 47 random locations.\n"
     ]
    },
    {
     "name": "stderr",
     "output_type": "stream",
     "text": [
      "\n"
     ]
    },
    {
     "name": "stdout",
     "output_type": "stream",
     "text": [
      "2025-03-19 12:50:52,989 - __main__ - INFO - Finished processing Exp01_Site01: apo (47), healthy (609), random (47)\n",
      "2025-03-19 12:50:52,990 - __main__ - INFO - Processing Exp01_Site02\n",
      "2025-03-19 12:50:53,000 - __main__ - INFO - \tStarting with Stardist segmentation.\n"
     ]
    },
    {
     "name": "stderr",
     "output_type": "stream",
     "text": [
      "100%|███████████████████████████████████████████████████████████████████████████████| 1441/1441 [13:10<00:00,  1.82it/s]\n"
     ]
    },
    {
     "name": "stdout",
     "output_type": "stream",
     "text": [
      "2025-03-19 13:04:22,574 - __main__ - INFO - \t\tSegmentation successful.\n",
      "2025-03-19 13:04:22,575 - __main__ - INFO - \tRemoving objects smaller than 200.\n",
      "2025-03-19 13:04:51,063 - __main__ - INFO - \t\tDone!\n",
      "2025-03-19 13:04:51,064 - __main__ - INFO - \tStarting tracking for: Exp01_Site02\n"
     ]
    },
    {
     "name": "stderr",
     "output_type": "stream",
     "text": [
      "100%|███████████████████████████████████████████████████████████████████████████████| 1441/1441 [01:48<00:00, 13.29it/s]\n"
     ]
    },
    {
     "name": "stdout",
     "output_type": "stream",
     "text": [
      "GLPK Integer Optimizer 5.0\n",
      "22416 rows, 20738 columns, 31011 non-zeros\n",
      "20738 integer variables, all of which are binary\n",
      "Preprocessing...\n",
      "11208 rows, 20738 columns, 31011 non-zeros\n",
      "20738 integer variables, all of which are binary\n",
      "Scaling...\n",
      " A: min|aij| =  1.000e+00  max|aij| =  1.000e+00  ratio =  1.000e+00\n",
      "Problem data seem to be well scaled\n",
      "Constructing initial basis...\n",
      "Size of triangular part is 11208\n",
      "Solving LP relaxation...\n",
      "GLPK Simplex Optimizer 5.0\n",
      "11208 rows, 20738 columns, 31011 non-zeros\n",
      "*     0: obj =   5.898442483e+04 inf =   0.000e+00 (7433)\n",
      "Perturbing LP to avoid stalling [557]...\n",
      "Removing LP perturbation [7305]...\n",
      "*  7305: obj =   1.977132116e+04 inf =   1.332e-15 (0) 5\n",
      "OPTIMAL LP SOLUTION FOUND\n",
      "Integer optimization begins...\n",
      "Long-step dual simplex will be used\n",
      "+  7305: mip =     not found yet >=              -inf        (1; 0)\n",
      "+  7318: >>>>>   1.978664682e+04 >=   1.977801456e+04 < 0.1% (13; 0)\n",
      "+  7362: mip =   1.978664682e+04 >=     tree is empty   0.0% (0; 45)\n",
      "INTEGER OPTIMAL SOLUTION FOUND\n",
      "2025-03-19 13:06:59,660 - __main__ - INFO - \t\tTracking Done.\n",
      "2025-03-19 13:06:59,671 - __main__ - INFO - \tMerging information from Btrack and stardist.\n",
      "2025-03-19 13:06:59,802 - __main__ - INFO - \t\tComplete.\n",
      "2025-03-19 13:06:59,802 - __main__ - INFO - \tConverting Obj_IDs to Track_IDs in stardist masks.\n",
      "2025-03-19 13:08:41,402 - __main__ - INFO - \t\tDone!\n",
      "2025-03-19 13:08:41,404 - __main__ - INFO - \tMatching manual and stardist annotations\n"
     ]
    },
    {
     "name": "stderr",
     "output_type": "stream",
     "text": [
      "Processing Annotations: 100%|█████████████████████████████████████████████████████████| 38/38 [00:00<00:00, 4596.90it/s]"
     ]
    },
    {
     "name": "stdout",
     "output_type": "stream",
     "text": [
      "2025-03-19 13:08:41,462 - __main__ - INFO - \t\tApo-Annotations with stardist centroids saved at: ../data/apo_match_csv/Exp01_Site02.csv\n"
     ]
    },
    {
     "name": "stderr",
     "output_type": "stream",
     "text": [
      "\n"
     ]
    },
    {
     "name": "stdout",
     "output_type": "stream",
     "text": [
      "2025-03-19 13:08:41,951 - __main__ - INFO - \t\tSummary-Df saved at: ../data/summary_dfs/Exp01_Site02_pd_df.csv\n",
      "2025-03-19 13:09:07,345 - __main__ - INFO - \t\tSummary-Df saved at: ../data/apo_masks/Exp01_Site02.npz\n",
      "2025-03-19 13:09:07,349 - __main__ - INFO - \t\tMatching finished.\n",
      "2025-03-19 13:09:08,563 - __main__ - INFO - \tStartign cropping for apo cells\n"
     ]
    },
    {
     "name": "stderr",
     "output_type": "stream",
     "text": [
      "Processing Annotations:   0%|                                                                    | 0/38 [00:00<?, ?it/s]"
     ]
    },
    {
     "name": "stdout",
     "output_type": "stream",
     "text": [
      "2025-03-19 13:09:08,603 - __main__ - WARNING - \t\tNo valid start point for a sequence with correct intervals found.\n",
      "2025-03-19 13:09:08,605 - __main__ - WARNING - \t\tSkipping current track: 246. Reason: Track lost too quickly after anno. len = 18\n",
      "2025-03-19 13:09:08,662 - __main__ - WARNING - \t\tNo valid start point for a sequence with correct intervals found.\n"
     ]
    },
    {
     "name": "stderr",
     "output_type": "stream",
     "text": [
      "Processing Annotations:  18%|███████████                                                 | 7/38 [00:00<00:00, 65.49it/s]"
     ]
    },
    {
     "name": "stdout",
     "output_type": "stream",
     "text": [
      "2025-03-19 13:09:08,894 - __main__ - WARNING - \t\tNo valid start point for a sequence with correct intervals found.\n",
      "2025-03-19 13:09:08,902 - __main__ - WARNING - \t\tNo valid start point for a sequence with correct intervals found.\n"
     ]
    },
    {
     "name": "stderr",
     "output_type": "stream",
     "text": [
      "Processing Annotations:  37%|█████████████████████▋                                     | 14/38 [00:00<00:00, 36.12it/s]"
     ]
    },
    {
     "name": "stdout",
     "output_type": "stream",
     "text": [
      "2025-03-19 13:09:08,931 - __main__ - WARNING - \t\tSkipping current track: 1372. Reason: Track lost too quickly after anno. len = 11\n",
      "2025-03-19 13:09:08,951 - __main__ - WARNING - \t\tSkipping current track: 223. Reason: Track lost too quickly after anno. len = 12\n",
      "2025-03-19 13:09:08,971 - __main__ - WARNING - \t\tSkipping current track: 58. Reason: Track lost too quickly after anno. len = 16\n"
     ]
    },
    {
     "name": "stderr",
     "output_type": "stream",
     "text": [
      "Processing Annotations:  79%|██████████████████████████████████████████████▌            | 30/38 [00:00<00:00, 42.63it/s]"
     ]
    },
    {
     "name": "stdout",
     "output_type": "stream",
     "text": [
      "2025-03-19 13:09:09,332 - __main__ - WARNING - \t\tSkipping current track: 655. Reason: Track lost too quickly after anno. len = 11\n",
      "2025-03-19 13:09:09,336 - __main__ - WARNING - \t\tNo valid start point for a sequence with correct intervals found.\n"
     ]
    },
    {
     "name": "stderr",
     "output_type": "stream",
     "text": [
      "Processing Annotations: 100%|███████████████████████████████████████████████████████████| 38/38 [00:00<00:00, 48.57it/s]"
     ]
    },
    {
     "name": "stdout",
     "output_type": "stream",
     "text": [
      "2025-03-19 13:09:09,349 - __main__ - INFO - \t\tValid crops of apo cells found for 28/38\n",
      "2025-03-19 13:09:09,349 - __main__ - INFO - \tStarting cropping for non-apo cells.\n"
     ]
    },
    {
     "name": "stderr",
     "output_type": "stream",
     "text": [
      "\n",
      "Cropping non-apo Windows: 100%|███████████████████████████████████████████████████████| 894/894 [00:15<00:00, 59.41it/s]"
     ]
    },
    {
     "name": "stdout",
     "output_type": "stream",
     "text": [
      "2025-03-19 13:09:24,430 - __main__ - INFO - \t\tFound 457 valid crops of healthy cells.\n",
      "2025-03-19 13:09:24,431 - __main__ - WARNING - \t\t437 windows were rejected due to incorrect size.\n",
      "2025-03-19 13:09:24,431 - __main__ - INFO - \tStarting cropping for 28 random locations.\n"
     ]
    },
    {
     "name": "stderr",
     "output_type": "stream",
     "text": [
      "\n"
     ]
    },
    {
     "name": "stdout",
     "output_type": "stream",
     "text": [
      "2025-03-19 13:09:26,084 - __main__ - INFO - Finished processing Exp01_Site02: apo (28), healthy (457), random (28)\n"
     ]
    }
   ],
   "source": [
    "# Load image paths in specified directory\n",
    "logger.info(\"Starting Image Processing\")\n",
    "image_paths = get_image_paths(os.path.join(IMG_DIR))\n",
    "filenames = [os.path.splitext(os.path.basename(path))[0] for path in image_paths[:2]]    ### TODO remove :2 here, was only for testing\n",
    "logger.info(f\"Detected {len(filenames)} files in specified directories.\")\n",
    "#print(filenames)\n",
    "\n",
    "# Create directories for saving if they do not exist\n",
    "output_dirs = [CSV_DIR, MASK_DIR, DF_DIR, CROPS_DIR, CLASS_DCT_PATH, WINDOWS_DIR]\n",
    "for path in output_dirs:\n",
    "    os.makedirs(path, exist_ok=True)\n",
    "\n",
    "# Set up GT_mask prediction with stardist\n",
    "if USE_GPU:\n",
    "    import gputools\n",
    "    from csbdeep.utils.tf import limit_gpu_memory\n",
    "    limit_gpu_memory(None, allow_growth=True)\n",
    "model = StarDist2D.from_pretrained(\"2D_versatile_fluo\")    # Load standard model to create GT\n",
    "axis_norm = (0,1)    # for normalization\n",
    "\n",
    "# Frame rate and movie length for crops\n",
    "try:\n",
    "    experiments_list = pd.read_csv(EXPERIMENT_INFO, header=0)\n",
    "except FileNotFoundError as e:\n",
    "    logger.critical(f\"Critical error: experiment list file not found: {EXPERIMENT_INFO}. Aborting script.\")\n",
    "    sys.exit(1)\n",
    "num_timepoints = MAX_TRACKING_DURATION // FRAME_INTERVAL    # eg 20mins/5min = 4 images. \n",
    "\n",
    "## Lists and counters for evaluation of the matching and cropping process\n",
    "# Initialize list to collect distances between stardist and manual annotations for evaluation\n",
    "dist_paolo_stardist = []\n",
    "dist_alt_matching = []\n",
    "# Initialize counter for evaluation of num matches/mismatches\n",
    "num_matches = 0\n",
    "num_mismatches = 0\n",
    "# initalize a list to investigate track lengths after apoptosis\n",
    "survival_times = []\n",
    "\n",
    "\n",
    "# Loop over all files in target directory (predict labels, track and crop windows for each)\n",
    "logger.info(\"Starting to process files.\")\n",
    "for path, filename in zip(image_paths, filenames):\n",
    "    logger.info(f\"Processing {filename}\")\n",
    "    # Skip file if not in experiment info csv\n",
    "    experiment_num = filename.split('_')[0]\n",
    "    matching_row = experiments_list[experiments_list['Experiment'] == experiment_num] \n",
    "    if matching_row.empty:\n",
    "        logger.warning(f\"\\tExperiment {experiment_num} not found in the list. Skipping.\")\n",
    "        continue  # Skip this iteration\n",
    "    # Skip file if specified interval between frames is not a multiple of that in input images\n",
    "    acquisition_freq = matching_row['Acquisition_frequency(min)'].iloc[0]\n",
    "    if FRAME_INTERVAL%acquisition_freq != 0:\n",
    "        logger.warning(f\"\\tSkipping {filename}: {FRAME_INTERVAL} is not a multiple of {acquisition_freq}.\")\n",
    "        continue\n",
    "\n",
    "    # Define step size to achieve target delta t between images\n",
    "    step = FRAME_INTERVAL // acquisition_freq    # e.g. 5 // 1 = 1 image every 5 frames\n",
    "\n",
    "    logger.debug(f\"\\tTime Info:\")\n",
    "    logger.debug(f\"\\t\\t File Interval: {acquisition_freq} min/image\")\n",
    "    logger.debug(f\"\\t\\tTarget Interval: {FRAME_INTERVAL} min/img\")\n",
    "    logger.debug(f\"\\t\\tStep Size: {step}\")\n",
    "    logger.debug(f\"\\t\\t Imgs in Crops: {num_timepoints} -> +1 for t0\")\n",
    "\n",
    "    # Create directory for cropped windows\n",
    "    os.makedirs(os.path.join(CROPS_DIR, filename), exist_ok=True)\n",
    "    os.makedirs(os.path.join(WINDOWS_DIR, 'apo'), exist_ok=True)\n",
    "    os.makedirs(os.path.join(CROPS_DIR, f'no_apo_{filename}'), exist_ok=True)\n",
    "    os.makedirs(os.path.join(WINDOWS_DIR, 'no_apo'), exist_ok=True)\n",
    "    os.makedirs(os.path.join(CROPS_DIR, f'random_{filename}'), exist_ok=True)\n",
    "    os.makedirs(os.path.join(WINDOWS_DIR, 'random'), exist_ok=True)\n",
    "\n",
    "    ### Stardist nuclei segmentation\n",
    "    # Load and normalize image stack\n",
    "    logger.info(\"\\tStarting with Stardist segmentation.\")\n",
    "    h2b_imgs = load_image_stack(path) #[::step_size,:,:]\n",
    "    h2b_imgs_normal = np.asarray([normalize(img,1,99.8,axis=axis_norm) for img in h2b_imgs])\n",
    "\n",
    "    # Predict labels with pretrained stardist model\n",
    "    gt = []    #--> lables\n",
    "    details = []    # centroids and more\n",
    "    for x in tqdm(h2b_imgs_normal):\n",
    "        labels, det = model.predict_instances(x, n_tiles=model._guess_n_tiles(x), show_tile_progress=False)\n",
    "        gt.append(labels)\n",
    "        details.append(det)\n",
    "    gt = np.asarray(gt)\n",
    "    logger.info(\"\\t\\tSegmentation successful.\")\n",
    "\n",
    "    logger.info(f\"\\tRemoving objects smaller than {MIN_NUC_SIZE}.\")\n",
    "    # Remove small objects and create DF with segmentation info (object_id, t, x, y)\n",
    "    gt_filtered = np.zeros_like(gt, dtype=np.uint16)\n",
    "    num_frames = gt.shape[0]\n",
    "    df_list = []\n",
    "    for frame in range(num_frames):\n",
    "        gt_filtered[frame] = remove_small_objects(\n",
    "            gt[frame],\n",
    "            min_size = MIN_NUC_SIZE\n",
    "        )\n",
    "\n",
    "        # Create DF after removing small objects\n",
    "        unique_ids = np.unique(gt_filtered[frame])\n",
    "        unique_ids = unique_ids[unique_ids > 0]    # Not interested in background ID\n",
    "        x = []\n",
    "        y = []\n",
    "        timepoint = np.full_like(unique_ids, frame)\n",
    "\n",
    "        current_details = details[frame]['points']    # --> centroids\n",
    "        for obj_id in unique_ids:\n",
    "            position = current_details[obj_id - 1]    # -1 because obj have 1 indexing, centroids start from 0\n",
    "            x.append(position[1])\n",
    "            y.append(position[0])\n",
    "\n",
    "        d = {\n",
    "            'obj_id': unique_ids,\n",
    "            't': timepoint,\n",
    "            'x': x,\n",
    "            'y': y\n",
    "        }\n",
    "        current_df = pd.DataFrame(d)\n",
    "        df_list.append(current_df)    # One df for every frame\n",
    "\n",
    "    # Concatenate DFs for each t so we get one DF per file\n",
    "    summary_df = pd.concat(df_list, ignore_index = True)\n",
    "    logger.info(\"\\t\\tDone!\")\n",
    "\n",
    "\n",
    "    # Create btrack objects (with properties) from the segmentation data\n",
    "    # By setting properties=('area',) the tracking algorithm takes into account the mask's area in addition to x/y.\n",
    "    # By setting assign_class_ID=True adds the object ID that will be used later in merging tracking results with the dfProp table.\n",
    "    logger.info(f'\\tStarting tracking for: {filename}')\n",
    "    btObj = btrack.utils.segmentation_to_objects(\n",
    "            gt_filtered, properties=(\"area\",), assign_class_ID=True\n",
    "    )\n",
    "    _, fovY, fovX = gt_filtered.shape\n",
    "\n",
    "    with btrack.BayesianTracker() as tracker:\n",
    "        # configure the tracker using a config JSON file\n",
    "        tracker.configure(BT_CONFIG_FILE)\n",
    "        tracker.update_method = BayesianUpdates.APPROXIMATE\n",
    "        tracker.max_search_radius = EPS_TRACK\n",
    "    \n",
    "        # append the objects to be tracked\n",
    "        tracker.append(btObj)\n",
    "    \n",
    "        # set the volume (Z axis volume limits default to [-1e5, 1e5] for 2D data)\n",
    "        tracker.volume = ((0, fovX), (0, fovY))\n",
    "    \n",
    "        # track them (in interactive mode)\n",
    "        tracker.track(step_size=100)\n",
    "    \n",
    "        # generate hypotheses and run the global optimizer\n",
    "        tracker.optimize()\n",
    "    \n",
    "        # get the tracks as a python list\n",
    "        btTracks = tracker.tracks\n",
    "\n",
    "\n",
    "    dfBTracks = pd.concat(pd.DataFrame(t.to_dict([\"ID\", \"t\", \"x\", \"y\"])) for t in btTracks)\n",
    "\n",
    "    dfBTracks.rename(\n",
    "        columns={\n",
    "            \"ID\": \"track_id\",\n",
    "            \"t\": \"t\",\n",
    "            \"x\": \"x\",\n",
    "            \"y\": \"y\",\n",
    "            \"class_id\": \"obj_id\"\n",
    "        }, inplace = True\n",
    "    )\n",
    "\n",
    "    dfBTracks[\"obj_id\"] = dfBTracks[\"obj_id\"].astype(\"Int32\")\n",
    "    logger.info(\"\\t\\tTracking Done.\")\n",
    "\n",
    "    logger.info(\"\\tMerging information from Btrack and stardist.\")\n",
    "    merged_df = summary_df.merge(dfBTracks.drop(columns=[\"x\", \"y\", \"area\"]), on=[\"obj_id\", \"t\"], how=\"left\")\n",
    "    merged_df_long = merged_df[merged_df.groupby(\"track_id\")[\"track_id\"].transform('size') >= TRK_MIN_LEN].copy()\n",
    "    logger.info(\"\\t\\tComplete.\")\n",
    "\n",
    "    ### Create a mask with btrack track_ids instead of stardists obj_ids\n",
    "    logger.info(\"\\tConverting Obj_IDs to Track_IDs in stardist masks.\")\n",
    "    # Create a list of lookup dicts for every timepoint\n",
    "    mappings = []\n",
    "    tracked_masks = np.zeros_like(gt_filtered)\n",
    "    for t, mask_frame in enumerate(gt_filtered):\n",
    "        current_df = merged_df[merged_df['t'] == t]\n",
    "        # Set obj_id as index and only use track_id col --> obj_id as key, track_id as val\n",
    "        obj_to_track = current_df.set_index('obj_id')['track_id'].to_dict()\n",
    "        mappings.append(obj_to_track)\n",
    "        \n",
    "        for obj_id, track_id in obj_to_track.items():\n",
    "            tracked_masks[t][mask_frame == obj_id] = track_id\n",
    "            \n",
    "    # Create dict with switched key value pairs (value becomes key)\n",
    "    rev_mappings = []\n",
    "    for obj_to_track in mappings:\n",
    "        track_to_obj = {y: x for x, y in obj_to_track.items()}\n",
    "        rev_mappings.append(track_to_obj)\n",
    "    logger.info(\"\\t\\tDone!\")\n",
    "\n",
    "\n",
    "    ### Match manual and stardist annotations\n",
    "    logger.info(\"\\tMatching manual and stardist annotations\")\n",
    "    # Read CSV with manual apoptosis annotations \n",
    "    apo_file = os.path.join(APO_DIR, f'{filename}.csv')\n",
    "    apo_annotations = pd.read_csv(apo_file, header=None, names=['filename', 'x', 'y', 't'])\n",
    "\n",
    "    # Initialize lists to complete apo_annotations later\n",
    "    delta_ts = []\n",
    "    corresponding_objs = []\n",
    "    corresponding_tracks = []\n",
    "    strdst_x = []\n",
    "    strdst_y = []\n",
    "    for _, row in tqdm(apo_annotations.iterrows(), total=len(apo_annotations), desc=\"Processing Annotations\"):\n",
    "        t, x, y = int(row['t']), int(row['x']), int(row['y'])\n",
    "        centroids = details[t]['points']\n",
    "        # Convert to NumPy array\n",
    "        centroids = np.array(centroids)  # Shape: (N, 2)\n",
    "        \n",
    "        # Compute L2 norm (Euclidean distance), could be used for aleternative matching\n",
    "        distances = np.linalg.norm(centroids - np.array([x, y]), axis=1)\n",
    "\n",
    "        # At this point only here to compare performance to real matching\n",
    "        match_index = np.argmin(distances)    \n",
    "        match_centroid = centroids[match_index]\n",
    "        #strdst_x.append(match_centroid[1])\n",
    "        #strdst_y.append(match_centroid[0])\n",
    "        alt_distance_to_paolo = distances[match_index]\n",
    "        dist_alt_matching.append(alt_distance_to_paolo)\n",
    "\n",
    "        \n",
    "        # Perfect match\n",
    "        if tracked_masks[t, y, x] != 0:\n",
    "            corresponding_tracks.append(tracked_masks[t, y, x])\n",
    "            corresponding_objs.append(gt_filtered[t, y, x])\n",
    "            delta_ts.append(0)\n",
    "            num_matches += 1\n",
    "        # Also search previous and coming frames if position is background at time t\n",
    "        else:\n",
    "            t_start = max(0, t-3)\n",
    "            t_end = min(t+3+1, tracked_masks.shape[0])\n",
    "            previous_frames = tracked_masks[t_start:t_end, y, x]\n",
    "            if previous_frames.size > 0:\n",
    "                counts = np.bincount(previous_frames)\n",
    "                match_id = np.argmax(counts)\n",
    "            else:\n",
    "                match_id = 0 \n",
    "\n",
    "            if match_id == 0:\n",
    "                num_mismatches += 1\n",
    "            else:\n",
    "                num_matches += 1\n",
    "            \n",
    "            for delta in [0, 1, -1, 2, -2, 3, -3]:\n",
    "                if (t + delta) in range(t_start, t_end):\n",
    "                    if tracked_masks[t + delta, y, x] == match_id:\n",
    "                        corresponding_tracks.append(match_id)\n",
    "                        corresponding_objs.append(gt_filtered[t + delta, y, x])\n",
    "                        delta_ts.append(delta)\n",
    "                        break\n",
    "                            \n",
    "        # Extract centroid of best matching object\n",
    "        centroids = details[t + delta_ts[-1]]['points']\n",
    "        match_centroid = centroids[corresponding_objs[-1]-1] if corresponding_objs[-1] > 0 else (9999, 9999)\n",
    "        strdst_x.append(match_centroid[1])\n",
    "        strdst_y.append(match_centroid[0])\n",
    "        # Euclidean distance, used for plotting and validation\n",
    "        distance_to_paolo = np.sqrt(((match_centroid[1]- row['x'])**2 + (match_centroid[0] - row['y'])**2))\n",
    "        dist_paolo_stardist.append(distance_to_paolo)\n",
    "\n",
    "    # Add object ID and centroids to apo annotation dataframe    \n",
    "    apo_annotations['matching_object'] = corresponding_objs\n",
    "    apo_annotations['matching_track'] = corresponding_tracks\n",
    "    apo_annotations['strdst_x'] = strdst_x\n",
    "    apo_annotations['strdst_y'] = strdst_y\n",
    "    apo_annotations['delta_ts'] = delta_ts\n",
    "\n",
    "    # Save again as CSV with added stardist centroids      \n",
    "    apo_annotations.to_csv(os.path.join(CSV_DIR, f'{filename}.csv'), index=False)\n",
    "    logger.info(f\"\\t\\tApo-Annotations with stardist centroids saved at: {os.path.join(CSV_DIR, f'{filename}.csv')}\")\n",
    "\n",
    "    # Save summary df as CSV\n",
    "    summary_df.to_csv(os.path.join(DF_DIR, f'{filename}_pd_df.csv'), index=False)\n",
    "    logger.info(f\"\\t\\tSummary-Df saved at: {os.path.join(DF_DIR, f'{filename}_pd_df.csv')}\")\n",
    "    \n",
    "    # Save labels\n",
    "    if SAVE_MASKS:\n",
    "        mask_path = os.path.join(MASK_DIR, f'{filename}.npz')\n",
    "        np.savez_compressed(mask_path, gt=gt_filtered)\n",
    "        logger.info(f\"\\t\\tSummary-Df saved at: {mask_path}\")\n",
    "    logger.info(\"\\t\\tMatching finished.\")\n",
    "\n",
    "\n",
    "    # Load images to extract windows\n",
    "    imgs = load_image_stack(os.path.join(IMG_DIR, f'{filename}.tif'))\n",
    "    \n",
    "    # Counter so we can sample same amount of random tracks as apoptotic\n",
    "    num_apo_crops = 0 \n",
    "\n",
    "    # Vars for window cropping\n",
    "    num_frames = MAX_TRACKING_DURATION // acquisition_freq\n",
    "    target_size = WINDOW_SIZE if WINDOW_SIZE%2 != 0 else WINDOW_SIZE + 1\n",
    "    merged_df_long.loc[:, 'apoptotic'] = 0\n",
    "\n",
    "    apo_track_ids = pd.DataFrame(columns=['track_id', 'apo_start_t'])\n",
    "\n",
    "    logger.info(\"\\tStarting cropping for apo cells\")\n",
    "    for i, row in tqdm(apo_annotations.iterrows(), total=len(apo_annotations), desc=\"Processing Annotations\"):\n",
    "        current_track_id = row.loc['matching_track']\n",
    "        current_t = row.loc['t'] + row.loc['delta_ts']\n",
    "\n",
    "        apo_track_ids.loc[i, 'track_id'] = current_track_id\n",
    "        apo_track_ids.loc[i, 'apo_start_t'] = current_t\n",
    "\n",
    "        #current_track_id = current_track_id.squeeze()\n",
    "        if not np.isscalar(current_track_id):\n",
    "            current_track_id = current_track_id.iloc[0]\n",
    "\n",
    "        \n",
    "        single_cell_df = merged_df_long.loc[(merged_df_long['track_id'] == current_track_id) & (merged_df_long['t'] >= current_t)]\n",
    "        if len(single_cell_df) < num_frames + 1:\n",
    "            logger.warning(f\"\\t\\tSkipping current track: {current_track_id}. Reason: Track lost too quickly after anno. len = {len(single_cell_df)}\")\n",
    "            continue\n",
    "        \n",
    "        # Count track length after manual apoptosis annotation (for histogram later)\n",
    "        num_entries = single_cell_df.shape[0]\n",
    "        survival_times.append(num_entries)\n",
    "\n",
    "        # merged_df_long.loc[single_cell_df.index, 'apoptotic'] = 1\n",
    "        merged_df_long.loc[(merged_df_long['track_id'] == current_track_id) & (merged_df_long['t'] >= current_t), 'apoptotic'] = 1\n",
    "        single_cell_df = single_cell_df.loc[single_cell_df['t'] < current_t + num_frames + step]\n",
    "        \n",
    "        \n",
    "        windows = []\n",
    "        for _, sc_row in single_cell_df.iterrows():\n",
    "            window = crop_window(imgs[int(sc_row['t'])], int(sc_row['x']), int(sc_row['y']), WINDOW_SIZE)\n",
    "            if window.shape == (target_size, target_size):    ### This is a bit dangerous! can mess up time if we simply leave a window out\n",
    "                windows.append(window)\n",
    "            else:\n",
    "                windows.append(None)\n",
    "\n",
    "\n",
    "        chosen_offset = None\n",
    "        for offset in range(step):\n",
    "            sub_windows = windows[offset::step]\n",
    "            if all(x is not None for x in sub_windows):  \n",
    "                chosen_offset = offset\n",
    "                break  # Stop as soon as a valid sequence is found\n",
    "\n",
    "        if chosen_offset is None:\n",
    "            logger.warning(\"\\t\\tNo valid start point for a sequence with correct intervals found.\")\n",
    "        else:\n",
    "            sub_windows = windows[chosen_offset::step]\n",
    "            sub_windows = np.asarray(sub_windows)\n",
    "            if len(sub_windows) == (MAX_TRACKING_DURATION // step) + 1:\n",
    "                tiff.imwrite(os.path.join(CROPS_DIR, filename, f'trackID_{current_track_id}.tif'), sub_windows)\n",
    "                tiff.imwrite(os.path.join(WINDOWS_DIR, 'apo', f'apo_{filename}_{i}.tif'), sub_windows)\n",
    "                num_apo_crops += 1\n",
    "            else:\n",
    "                logger.warning(f'\\t\\tAt least one of the images has the wrong size after cropping and could not be used. Length = {len(windows)}. Pos = {sc_row[\"x\"]}, {sc_row[\"y\"]}.')\n",
    "    logger.info(f\"\\t\\tValid crops of apo cells found for {num_apo_crops}/{len(apo_annotations)}\")\n",
    "\n",
    "    num_random_tracks = num_apo_crops\n",
    "    \n",
    "    logger.info('\\tStarting cropping for non-apo cells.')\n",
    "    # Get crops of healthy cells\n",
    "    long_no_apo_df = merged_df_long[merged_df_long['apoptotic'] == 0]\n",
    "    unique_track_ids = np.unique(long_no_apo_df['track_id'])\n",
    "\n",
    "    num_healthy_crops = 0\n",
    "    rejected_windows = 0\n",
    "\n",
    "    for i, track_id in tqdm(enumerate(unique_track_ids), total=len(unique_track_ids), desc=\"Cropping non-apo Windows\"):\n",
    "        single_cell_df = long_no_apo_df.loc[long_no_apo_df['track_id'] == track_id]\n",
    "        start_t = min(single_cell_df['t'])\n",
    "        # same length as for apoptotic cells\n",
    "        single_cell_df = single_cell_df.loc[single_cell_df['t'] <= start_t + num_frames]\n",
    "        windows = []\n",
    "        for _, sc_row in single_cell_df.iterrows():\n",
    "            window = crop_window(imgs[int(sc_row['t'])], int(sc_row['x']), int(sc_row['y']), WINDOW_SIZE)\n",
    "            if window.shape == (target_size, target_size):    ### This is a bit dangerous! can mess up time if we simply leave a window out\n",
    "                windows.append(window)\n",
    "\n",
    "        if len(windows) == (MAX_TRACKING_DURATION) + 1:\n",
    "            windows = np.asarray(windows)\n",
    "            tiff.imwrite(os.path.join(CROPS_DIR, f'no_apo_{filename}', f'trackID_{track_id}.tif'), windows[::step])\n",
    "            tiff.imwrite(os.path.join(WINDOWS_DIR, 'no_apo', f'no_apo_{filename}_{i}.tif'), windows[::step])\n",
    "            num_healthy_crops += 1\n",
    "        else:\n",
    "            rejected_windows += 1\n",
    "\n",
    "            logger.debug(f'\\t\\tAt least one of the images has the wrong size. Length = {len(windows)}. Pos = {sc_row[\"x\"]}, {sc_row[\"y\"]}.')\n",
    "    logger.info(f\"\\t\\tFound {num_healthy_crops} valid crops of healthy cells.\")\n",
    "    if rejected_windows > 0:\n",
    "        logger.warning(f\"\\t\\t{rejected_windows} windows were rejected due to incorrect size.\")\n",
    "    \n",
    "    # Gather random crops \n",
    "    ### I think this could be problematic, oftentimes is full of cells so not really background or negative\n",
    "    logger.info(f'\\tStarting cropping for {num_random_tracks} random locations.')\n",
    "\n",
    "    # Assuming imgs is a list/array of your image frames,\n",
    "    # and each image has dimensions: img_height x img_width\n",
    "    img_height, img_width = imgs[0].shape\n",
    "\n",
    "    iter_count = 0\n",
    "    crop_count = 0\n",
    "    while (crop_count <= num_random_tracks) and (iter_count <= 100):    # Iter count only to stop runaway code\n",
    "    # for track in range(num_random_tracks):\n",
    "        # Randomly choose a start time such that the track fits in your image sequence\n",
    "        start_t = np.random.randint(0, len(imgs) - num_frames)\n",
    "        \n",
    "        # Randomly generate valid (x, y) coordinates for the crop center\n",
    "        random_x = np.random.randint(WINDOW_SIZE//2, img_width - WINDOW_SIZE//2)\n",
    "        random_y = np.random.randint(WINDOW_SIZE//2, img_height - WINDOW_SIZE//2)\n",
    "        \n",
    "        windows = []\n",
    "        # Extract a window for each frame in the track duration\n",
    "        for t in range(start_t, start_t + num_frames + 1, step):\n",
    "            window = crop_window(imgs[t], random_x, random_y, WINDOW_SIZE)\n",
    "            track_id_mask_crop = crop_window(tracked_masks[t], random_x, random_y, WINDOW_SIZE)\n",
    "            present_track_ids = track_id_mask_crop.flatten().tolist()\n",
    "            \n",
    "\n",
    "            ### Continue here\n",
    "            current_apo_track_ids = apo_track_ids.loc[apo_track_ids['apo_start_t'] <= t]\n",
    "            current_apo_ids = set(current_apo_track_ids['track_id'])\n",
    "\n",
    "            \n",
    "            if not any(pixel in current_apo_ids for pixel in present_track_ids) and (window.shape == (target_size, target_size)):\n",
    "                windows.append(window)\n",
    "            else:\n",
    "                logger.warning(\"\\t\\tCurrent window contains an apoptotic cell or the shape is not matching the target size.\")\n",
    "\n",
    "    \n",
    "        if len(windows) == (MAX_TRACKING_DURATION//FRAME_INTERVAL) + 1:\n",
    "            windows = np.asarray(windows)\n",
    "            tiff.imwrite(os.path.join(CROPS_DIR, f'random_{filename}', f'ID_{crop_count}.tif'), windows)\n",
    "            tiff.imwrite(os.path.join(WINDOWS_DIR, 'random', f'random_{filename}_{crop_count}.tif'), windows)\n",
    "            crop_count += 1\n",
    "            iter_count += 1\n",
    "        else:\n",
    "            logger.warning(f'\\t\\tUnable to collect the desired number of images. Length windows = {len(windows)}')\n",
    "            iter_count += 1\n",
    "\n",
    "    logger.info(f\"Finished processing {filename}: apo ({num_apo_crops}), healthy ({num_healthy_crops}), random ({num_random_tracks})\")\n",
    "\n",
    "logging.shutdown()"
   ]
  },
  {
   "cell_type": "markdown",
   "metadata": {},
   "source": [
    "### Rest"
   ]
  },
  {
   "cell_type": "code",
   "execution_count": 5,
   "metadata": {},
   "outputs": [
    {
     "name": "stderr",
     "output_type": "stream",
     "text": [
      "functional.py (237): The structure of `inputs` doesn't match the expected structure.           | 0/1441 [00:00<?, ?it/s]\n",
      "Expected: ['input']\n",
      "Received: inputs=Tensor(shape=(1, 256, 256, 1))\n",
      "WARNING: All log messages before absl::InitializeLog() is called are written to STDERR\n",
      "I0000 00:00:1742220729.837531 3728137 service.cc:148] XLA service 0x79f0f4005ee0 initialized for platform CUDA (this does not guarantee that XLA will be used). Devices:\n",
      "I0000 00:00:1742220729.837559 3728137 service.cc:156]   StreamExecutor device (0): NVIDIA GeForce RTX 4090, Compute Capability 8.9\n",
      "2025-03-17 15:12:09.856362: I tensorflow/compiler/mlir/tensorflow/utils/dump_mlir_util.cc:268] disabling MLIR crash reproducer, set env var `MLIR_CRASH_REPRODUCER_DIRECTORY` to enable.\n",
      "I0000 00:00:1742220729.920234 3728137 cuda_dnn.cc:529] Loaded cuDNN version 90300\n",
      "I0000 00:00:1742220730.860387 3728137 device_compiler.h:188] Compiled cluster using XLA!  This line is logged at most once for the lifetime of the process.\n",
      "functional.py (237): The structure of `inputs` doesn't match the expected structure.\n",
      "Expected: ['input']\n",
      "Received: inputs=Tensor(shape=(1, None, None, 1))\n",
      "100%|███████████████████████████████████████████████████████████████████████████████| 1441/1441 [13:49<00:00,  1.74it/s]\n"
     ]
    }
   ],
   "source": [
    "# Loop over all files in target directory\n",
    "for path, filename in zip(image_paths, filenames):\n",
    "    # Skip file if not in experiment info csv\n",
    "    experiment_num = filename.split('_')[0]\n",
    "    matching_row = experiments_list[experiments_list['Experiment'] == experiment_num] \n",
    "    if matching_row.empty:\n",
    "        print(f\"Warning: Experiment {experiment_num} not found in the list. Skipping.\")\n",
    "        continue  # Skip this iteration\n",
    "    # Skip file if specified interval between frames is not a multiple of that in input images\n",
    "    acquisition_freq = matching_row['Acquisition_frequency(min)'].iloc[0]\n",
    "    if FRAME_INTERVAL%acquisition_freq != 0:\n",
    "        print(f\"Skipping {filename}: {FRAME_INTERVAL} is not a multiple of {acquisition_freq}.\")\n",
    "        continue\n",
    "    step = FRAME_INTERVAL // acquisition_freq\n",
    "\n",
    "    # Create directory for cropped windows\n",
    "    os.makedirs(os.path.join(CROPS_DIR, filename), exist_ok=True)\n",
    "    os.makedirs(os.path.join(WINDOWS_DIR, 'apo'), exist_ok=True)\n",
    "    os.makedirs(os.path.join(CROPS_DIR, f'no_apo_{filename}'), exist_ok=True)\n",
    "    os.makedirs(os.path.join(WINDOWS_DIR, 'no_apo'), exist_ok=True)\n",
    "    os.makedirs(os.path.join(CROPS_DIR, f'random_{filename}'), exist_ok=True)\n",
    "    os.makedirs(os.path.join(WINDOWS_DIR, 'random'), exist_ok=True)\n",
    "\n",
    "    \n",
    "    # Load and normalize image stack\n",
    "    h2b_imgs = load_image_stack(path) #[::step_size,:,:]\n",
    "    h2b_imgs_normal = np.asarray([normalize(img,1,99.8,axis=axis_norm) for img in h2b_imgs])\n",
    "\n",
    "    # Predict labels with pretrained stardist model\n",
    "    gt = []    #--> lables\n",
    "    details = []    # centroids and more\n",
    "    for x in tqdm(h2b_imgs_normal):\n",
    "        labels, det = model.predict_instances(x, n_tiles=model._guess_n_tiles(x), show_tile_progress=False)\n",
    "        gt.append(labels)\n",
    "        details.append(det)\n",
    "    gt = np.asarray(gt)\n",
    "\n",
    "         \n",
    "    # Remove small objects and create DF with segmentation info (object_id, t, x, y)\n",
    "    gt_filtered = np.zeros_like(gt, dtype=np.uint16)\n",
    "    num_frames = gt.shape[0]\n",
    "    df_list = []\n",
    "    for frame in range(num_frames):\n",
    "        gt_filtered[frame] = remove_small_objects(\n",
    "            gt[frame],\n",
    "            min_size = MIN_NUC_SIZE\n",
    "        )\n",
    "\n",
    "        # Create DF after removing small objects\n",
    "        unique_ids = np.unique(gt_filtered[frame])\n",
    "        unique_ids = unique_ids[unique_ids > 0]\n",
    "        x = []\n",
    "        y = []\n",
    "        timepoint = np.full_like(unique_ids, frame)\n",
    "\n",
    "        current_details = details[frame]['points']    # --> centroids\n",
    "        for obj_id in unique_ids:\n",
    "            position = current_details[obj_id - 1]    # -1 because obj have 1 indexing, centroids start from 0\n",
    "            x.append(position[1])\n",
    "            y.append(position[0])\n",
    "\n",
    "        d = {\n",
    "            'obj_id': unique_ids,\n",
    "            't': timepoint,\n",
    "            'x': x,\n",
    "            'y': y\n",
    "        }\n",
    "        current_df = pd.DataFrame(d)\n",
    "        df_list.append(current_df)\n",
    "\n",
    "    # Concatenate DFs for each t so we get one DF per file\n",
    "    summary_df = pd.concat(df_list, ignore_index = True)"
   ]
  },
  {
   "cell_type": "code",
   "execution_count": 47,
   "metadata": {
    "scrolled": true
   },
   "outputs": [
    {
     "name": "stderr",
     "output_type": "stream",
     "text": [
      "[INFO][2025/03/17 04:38:29 PM] Localizing objects from segmentation...\n",
      "INFO:btrack.io._localization | Localizing objects from segmentation...\n"
     ]
    },
    {
     "name": "stdout",
     "output_type": "stream",
     "text": [
      "Starting tracking for: Exp01_Site01\n"
     ]
    },
    {
     "name": "stderr",
     "output_type": "stream",
     "text": [
      "100%|███████████████████████████████████████████████████████████████████████████████| 1441/1441 [01:46<00:00, 13.57it/s]\n",
      "[INFO][2025/03/17 04:40:15 PM] Objects are of type: <class 'dict'>\n",
      "INFO:btrack.io.utils | Objects are of type: <class 'dict'>\n",
      "[INFO][2025/03/17 04:40:19 PM] ...Found 612856 objects in 1441 frames.\n",
      "INFO:btrack.io._localization | ...Found 612856 objects in 1441 frames.\n",
      "[INFO][2025/03/17 04:40:19 PM] Loaded btrack: /home/nbahou/miniforge3/envs/ERK_gpu/lib/python3.10/site-packages/btrack/libs/libtracker.so\n",
      "INFO:btrack.libwrapper | Loaded btrack: /home/nbahou/miniforge3/envs/ERK_gpu/lib/python3.10/site-packages/btrack/libs/libtracker.so\n",
      "[INFO][2025/03/17 04:40:19 PM] Starting BayesianTracker session\n",
      "INFO:btrack.core | Starting BayesianTracker session\n",
      "[INFO][2025/03/17 04:40:19 PM] Loading configuration file: extras/cell_config.json\n",
      "INFO:btrack.config | Loading configuration file: extras/cell_config.json\n",
      "[INFO][2025/03/17 04:40:19 PM] Objects are of type: <class 'list'>\n",
      "INFO:btrack.io.utils | Objects are of type: <class 'list'>\n",
      "[WARNING][2025/03/17 04:40:20 PM] `track_interactive` will be deprecated. Use `track` instead.\n",
      "WARNING:btrack.core | `track_interactive` will be deprecated. Use `track` instead.\n",
      "[INFO][2025/03/17 04:40:20 PM] Starting tracking... \n",
      "INFO:btrack.core | Starting tracking... \n",
      "[INFO][2025/03/17 04:40:20 PM] Update using: ['MOTION']\n",
      "INFO:btrack.core | Update using: ['MOTION']\n",
      "[INFO][2025/03/17 04:40:20 PM] Tracking objects in frames 0 to 99 (of 1441)...\n",
      "INFO:btrack.core | Tracking objects in frames 0 to 99 (of 1441)...\n",
      "[INFO][2025/03/17 04:40:21 PM]  - Timing (Bayesian updates: 3.85ms, Linking: 1.68ms)\n",
      "INFO:btrack.utils |  - Timing (Bayesian updates: 3.85ms, Linking: 1.68ms)\n",
      "[INFO][2025/03/17 04:40:21 PM]  - Probabilities (Link: 1.00000, Lost: 1.00000)\n",
      "INFO:btrack.utils |  - Probabilities (Link: 1.00000, Lost: 1.00000)\n",
      "[INFO][2025/03/17 04:40:21 PM]  - Stats (Active: 448, Lost: 2073, Conflicts resolved: 24)\n",
      "INFO:btrack.utils |  - Stats (Active: 448, Lost: 2073, Conflicts resolved: 24)\n",
      "[INFO][2025/03/17 04:40:21 PM] Tracking objects in frames 100 to 199 (of 1441)...\n",
      "INFO:btrack.core | Tracking objects in frames 100 to 199 (of 1441)...\n",
      "[INFO][2025/03/17 04:40:21 PM]  - Timing (Bayesian updates: 3.78ms, Linking: 1.68ms)\n",
      "INFO:btrack.utils |  - Timing (Bayesian updates: 3.78ms, Linking: 1.68ms)\n",
      "[INFO][2025/03/17 04:40:21 PM]  - Probabilities (Link: 1.00000, Lost: 0.67601)\n",
      "INFO:btrack.utils |  - Probabilities (Link: 1.00000, Lost: 0.67601)\n",
      "[INFO][2025/03/17 04:40:21 PM]  - Stats (Active: 441, Lost: 3981, Conflicts resolved: 39)\n",
      "INFO:btrack.utils |  - Stats (Active: 441, Lost: 3981, Conflicts resolved: 39)\n",
      "[INFO][2025/03/17 04:40:21 PM] Tracking objects in frames 200 to 299 (of 1441)...\n",
      "INFO:btrack.core | Tracking objects in frames 200 to 299 (of 1441)...\n",
      "[INFO][2025/03/17 04:40:22 PM]  - Timing (Bayesian updates: 4.06ms, Linking: 1.70ms)\n",
      "INFO:btrack.utils |  - Timing (Bayesian updates: 4.06ms, Linking: 1.70ms)\n",
      "[INFO][2025/03/17 04:40:22 PM]  - Probabilities (Link: 1.00000, Lost: 1.00000)\n",
      "INFO:btrack.utils |  - Probabilities (Link: 1.00000, Lost: 1.00000)\n",
      "[INFO][2025/03/17 04:40:22 PM]  - Stats (Active: 457, Lost: 6165, Conflicts resolved: 69)\n",
      "INFO:btrack.utils |  - Stats (Active: 457, Lost: 6165, Conflicts resolved: 69)\n",
      "[INFO][2025/03/17 04:40:22 PM] Tracking objects in frames 300 to 399 (of 1441)...\n",
      "INFO:btrack.core | Tracking objects in frames 300 to 399 (of 1441)...\n",
      "[INFO][2025/03/17 04:40:22 PM]  - Timing (Bayesian updates: 3.87ms, Linking: 1.71ms)\n",
      "INFO:btrack.utils |  - Timing (Bayesian updates: 3.87ms, Linking: 1.71ms)\n",
      "[INFO][2025/03/17 04:40:22 PM]  - Probabilities (Link: 1.00000, Lost: 1.00000)\n",
      "INFO:btrack.utils |  - Probabilities (Link: 1.00000, Lost: 1.00000)\n",
      "[INFO][2025/03/17 04:40:22 PM]  - Stats (Active: 453, Lost: 9460, Conflicts resolved: 110)\n",
      "INFO:btrack.utils |  - Stats (Active: 453, Lost: 9460, Conflicts resolved: 110)\n",
      "[INFO][2025/03/17 04:40:22 PM] Tracking objects in frames 400 to 499 (of 1441)...\n",
      "INFO:btrack.core | Tracking objects in frames 400 to 499 (of 1441)...\n",
      "[INFO][2025/03/17 04:40:23 PM]  - Timing (Bayesian updates: 3.88ms, Linking: 1.66ms)\n",
      "INFO:btrack.utils |  - Timing (Bayesian updates: 3.88ms, Linking: 1.66ms)\n",
      "[INFO][2025/03/17 04:40:23 PM]  - Probabilities (Link: 1.00000, Lost: 1.00000)\n",
      "INFO:btrack.utils |  - Probabilities (Link: 1.00000, Lost: 1.00000)\n",
      "[INFO][2025/03/17 04:40:23 PM]  - Stats (Active: 458, Lost: 14116, Conflicts resolved: 153)\n",
      "INFO:btrack.utils |  - Stats (Active: 458, Lost: 14116, Conflicts resolved: 153)\n",
      "[INFO][2025/03/17 04:40:23 PM] Tracking objects in frames 500 to 599 (of 1441)...\n",
      "INFO:btrack.core | Tracking objects in frames 500 to 599 (of 1441)...\n",
      "[INFO][2025/03/17 04:40:23 PM]  - Timing (Bayesian updates: 3.91ms, Linking: 1.72ms)\n",
      "INFO:btrack.utils |  - Timing (Bayesian updates: 3.91ms, Linking: 1.72ms)\n",
      "[INFO][2025/03/17 04:40:23 PM]  - Probabilities (Link: 1.00000, Lost: 0.83601)\n",
      "INFO:btrack.utils |  - Probabilities (Link: 1.00000, Lost: 0.83601)\n",
      "[INFO][2025/03/17 04:40:23 PM]  - Stats (Active: 455, Lost: 17831, Conflicts resolved: 179)\n",
      "INFO:btrack.utils |  - Stats (Active: 455, Lost: 17831, Conflicts resolved: 179)\n",
      "[INFO][2025/03/17 04:40:23 PM] Tracking objects in frames 600 to 699 (of 1441)...\n",
      "INFO:btrack.core | Tracking objects in frames 600 to 699 (of 1441)...\n",
      "[INFO][2025/03/17 04:40:24 PM]  - Timing (Bayesian updates: 3.91ms, Linking: 1.73ms)\n",
      "INFO:btrack.utils |  - Timing (Bayesian updates: 3.91ms, Linking: 1.73ms)\n",
      "[INFO][2025/03/17 04:40:24 PM]  - Probabilities (Link: 1.00000, Lost: 0.76902)\n",
      "INFO:btrack.utils |  - Probabilities (Link: 1.00000, Lost: 0.76902)\n",
      "[INFO][2025/03/17 04:40:24 PM]  - Stats (Active: 455, Lost: 21270, Conflicts resolved: 219)\n",
      "INFO:btrack.utils |  - Stats (Active: 455, Lost: 21270, Conflicts resolved: 219)\n",
      "[INFO][2025/03/17 04:40:24 PM] Tracking objects in frames 700 to 799 (of 1441)...\n",
      "INFO:btrack.core | Tracking objects in frames 700 to 799 (of 1441)...\n",
      "[INFO][2025/03/17 04:40:25 PM]  - Timing (Bayesian updates: 3.96ms, Linking: 1.71ms)\n",
      "INFO:btrack.utils |  - Timing (Bayesian updates: 3.96ms, Linking: 1.71ms)\n",
      "[INFO][2025/03/17 04:40:25 PM]  - Probabilities (Link: 1.00000, Lost: 0.58028)\n",
      "INFO:btrack.utils |  - Probabilities (Link: 1.00000, Lost: 0.58028)\n",
      "[INFO][2025/03/17 04:40:25 PM]  - Stats (Active: 467, Lost: 24560, Conflicts resolved: 240)\n",
      "INFO:btrack.utils |  - Stats (Active: 467, Lost: 24560, Conflicts resolved: 240)\n",
      "[INFO][2025/03/17 04:40:25 PM] Tracking objects in frames 800 to 899 (of 1441)...\n",
      "INFO:btrack.core | Tracking objects in frames 800 to 899 (of 1441)...\n",
      "[INFO][2025/03/17 04:40:25 PM]  - Timing (Bayesian updates: 3.78ms, Linking: 1.74ms)\n",
      "INFO:btrack.utils |  - Timing (Bayesian updates: 3.78ms, Linking: 1.74ms)\n",
      "[INFO][2025/03/17 04:40:25 PM]  - Probabilities (Link: 1.00000, Lost: 0.81172)\n",
      "INFO:btrack.utils |  - Probabilities (Link: 1.00000, Lost: 0.81172)\n",
      "[INFO][2025/03/17 04:40:25 PM]  - Stats (Active: 450, Lost: 27315, Conflicts resolved: 267)\n",
      "INFO:btrack.utils |  - Stats (Active: 450, Lost: 27315, Conflicts resolved: 267)\n",
      "[INFO][2025/03/17 04:40:25 PM] Tracking objects in frames 900 to 999 (of 1441)...\n",
      "INFO:btrack.core | Tracking objects in frames 900 to 999 (of 1441)...\n",
      "[INFO][2025/03/17 04:40:26 PM]  - Timing (Bayesian updates: 3.53ms, Linking: 1.62ms)\n",
      "INFO:btrack.utils |  - Timing (Bayesian updates: 3.53ms, Linking: 1.62ms)\n",
      "[INFO][2025/03/17 04:40:26 PM]  - Probabilities (Link: 1.00000, Lost: 1.00000)\n",
      "INFO:btrack.utils |  - Probabilities (Link: 1.00000, Lost: 1.00000)\n",
      "[INFO][2025/03/17 04:40:26 PM]  - Stats (Active: 432, Lost: 30261, Conflicts resolved: 283)\n",
      "INFO:btrack.utils |  - Stats (Active: 432, Lost: 30261, Conflicts resolved: 283)\n",
      "[INFO][2025/03/17 04:40:26 PM] Tracking objects in frames 1000 to 1099 (of 1441)...\n",
      "INFO:btrack.core | Tracking objects in frames 1000 to 1099 (of 1441)...\n",
      "[INFO][2025/03/17 04:40:26 PM]  - Timing (Bayesian updates: 3.70ms, Linking: 1.81ms)\n",
      "INFO:btrack.utils |  - Timing (Bayesian updates: 3.70ms, Linking: 1.81ms)\n",
      "[INFO][2025/03/17 04:40:26 PM]  - Probabilities (Link: 1.00000, Lost: 0.99999)\n",
      "INFO:btrack.utils |  - Probabilities (Link: 1.00000, Lost: 0.99999)\n",
      "[INFO][2025/03/17 04:40:26 PM]  - Stats (Active: 445, Lost: 32678, Conflicts resolved: 292)\n",
      "INFO:btrack.utils |  - Stats (Active: 445, Lost: 32678, Conflicts resolved: 292)\n",
      "[INFO][2025/03/17 04:40:26 PM] Tracking objects in frames 1100 to 1199 (of 1441)...\n",
      "INFO:btrack.core | Tracking objects in frames 1100 to 1199 (of 1441)...\n",
      "[INFO][2025/03/17 04:40:27 PM]  - Timing (Bayesian updates: 3.78ms, Linking: 1.74ms)\n",
      "INFO:btrack.utils |  - Timing (Bayesian updates: 3.78ms, Linking: 1.74ms)\n",
      "[INFO][2025/03/17 04:40:27 PM]  - Probabilities (Link: 1.00000, Lost: 1.00000)\n",
      "INFO:btrack.utils |  - Probabilities (Link: 1.00000, Lost: 1.00000)\n",
      "[INFO][2025/03/17 04:40:27 PM]  - Stats (Active: 459, Lost: 35754, Conflicts resolved: 320)\n",
      "INFO:btrack.utils |  - Stats (Active: 459, Lost: 35754, Conflicts resolved: 320)\n",
      "[INFO][2025/03/17 04:40:27 PM] Tracking objects in frames 1200 to 1299 (of 1441)...\n",
      "INFO:btrack.core | Tracking objects in frames 1200 to 1299 (of 1441)...\n",
      "[INFO][2025/03/17 04:40:28 PM]  - Timing (Bayesian updates: 3.54ms, Linking: 1.67ms)\n",
      "INFO:btrack.utils |  - Timing (Bayesian updates: 3.54ms, Linking: 1.67ms)\n",
      "[INFO][2025/03/17 04:40:28 PM]  - Probabilities (Link: 1.00000, Lost: 1.00000)\n",
      "INFO:btrack.utils |  - Probabilities (Link: 1.00000, Lost: 1.00000)\n",
      "[INFO][2025/03/17 04:40:28 PM]  - Stats (Active: 441, Lost: 38686, Conflicts resolved: 345)\n",
      "INFO:btrack.utils |  - Stats (Active: 441, Lost: 38686, Conflicts resolved: 345)\n",
      "[INFO][2025/03/17 04:40:28 PM] Tracking objects in frames 1300 to 1399 (of 1441)...\n",
      "INFO:btrack.core | Tracking objects in frames 1300 to 1399 (of 1441)...\n",
      "[INFO][2025/03/17 04:40:28 PM]  - Timing (Bayesian updates: 3.68ms, Linking: 1.65ms)\n",
      "INFO:btrack.utils |  - Timing (Bayesian updates: 3.68ms, Linking: 1.65ms)\n",
      "[INFO][2025/03/17 04:40:28 PM]  - Probabilities (Link: 1.00000, Lost: 0.99623)\n",
      "INFO:btrack.utils |  - Probabilities (Link: 1.00000, Lost: 0.99623)\n",
      "[INFO][2025/03/17 04:40:28 PM]  - Stats (Active: 446, Lost: 42148, Conflicts resolved: 373)\n",
      "INFO:btrack.utils |  - Stats (Active: 446, Lost: 42148, Conflicts resolved: 373)\n",
      "[INFO][2025/03/17 04:40:28 PM] Tracking objects in frames 1400 to 1441 (of 1441)...\n",
      "INFO:btrack.core | Tracking objects in frames 1400 to 1441 (of 1441)...\n",
      "[INFO][2025/03/17 04:40:28 PM]  - Timing (Bayesian updates: 3.61ms, Linking: 1.70ms)\n",
      "INFO:btrack.utils |  - Timing (Bayesian updates: 3.61ms, Linking: 1.70ms)\n",
      "[INFO][2025/03/17 04:40:28 PM]  - Probabilities (Link: 1.00000, Lost: 0.99929)\n",
      "INFO:btrack.utils |  - Probabilities (Link: 1.00000, Lost: 0.99929)\n",
      "[INFO][2025/03/17 04:40:28 PM] SUCCESS.\n",
      "INFO:btrack.core | SUCCESS.\n",
      "[INFO][2025/03/17 04:40:28 PM]  - Found 7449 tracks in 1441 frames (in 0.0s)\n",
      "INFO:btrack.core |  - Found 7449 tracks in 1441 frames (in 0.0s)\n",
      "[INFO][2025/03/17 04:40:28 PM]  - Inserted 1718 dummy objects to fill tracking gaps\n",
      "INFO:btrack.core |  - Inserted 1718 dummy objects to fill tracking gaps\n",
      "[INFO][2025/03/17 04:40:28 PM] Loading hypothesis model: cell_hypothesis\n",
      "INFO:btrack.core | Loading hypothesis model: cell_hypothesis\n",
      "[INFO][2025/03/17 04:40:28 PM] Calculating hypotheses (relax: True)...\n",
      "INFO:btrack.core | Calculating hypotheses (relax: True)...\n",
      "[INFO][2025/03/17 04:40:28 PM] Setting up constraints matrix for global optimisation...\n",
      "INFO:btrack.optimise.optimiser | Setting up constraints matrix for global optimisation...\n",
      "[INFO][2025/03/17 04:40:29 PM] Optimizing...\n",
      "INFO:btrack.optimise.optimiser | Optimizing...\n",
      "[INFO][2025/03/17 04:40:36 PM] Optimization complete. (Solution: optimal)\n",
      "INFO:btrack.optimise.optimiser | Optimization complete. (Solution: optimal)\n",
      "[INFO][2025/03/17 04:40:36 PM]  - Fates.FALSE_POSITIVE: 2772 (of 7449)\n",
      "INFO:btrack.core |  - Fates.FALSE_POSITIVE: 2772 (of 7449)\n",
      "[INFO][2025/03/17 04:40:36 PM]  - Fates.LINK: 2520 (of 4747)\n",
      "INFO:btrack.core |  - Fates.LINK: 2520 (of 4747)\n",
      "[INFO][2025/03/17 04:40:36 PM]  - Fates.DIVIDE: 195 (of 1211)\n",
      "INFO:btrack.core |  - Fates.DIVIDE: 195 (of 1211)\n",
      "[INFO][2025/03/17 04:40:36 PM]  - Fates.INITIALIZE_BORDER: 450 (of 1159)\n",
      "INFO:btrack.core |  - Fates.INITIALIZE_BORDER: 450 (of 1159)\n",
      "[INFO][2025/03/17 04:40:36 PM]  - Fates.INITIALIZE_FRONT: 412 (of 431)\n",
      "INFO:btrack.core |  - Fates.INITIALIZE_FRONT: 412 (of 431)\n",
      "[INFO][2025/03/17 04:40:36 PM]  - Fates.INITIALIZE_LAZY: 905 (of 5859)\n",
      "INFO:btrack.core |  - Fates.INITIALIZE_LAZY: 905 (of 5859)\n",
      "[INFO][2025/03/17 04:40:36 PM]  - Fates.TERMINATE_BORDER: 423 (of 1118)\n",
      "INFO:btrack.core |  - Fates.TERMINATE_BORDER: 423 (of 1118)\n",
      "[INFO][2025/03/17 04:40:36 PM]  - Fates.TERMINATE_BACK: 422 (of 437)\n",
      "INFO:btrack.core |  - Fates.TERMINATE_BACK: 422 (of 437)\n",
      "[INFO][2025/03/17 04:40:36 PM]  - Fates.TERMINATE_LAZY: 1117 (of 5894)\n",
      "INFO:btrack.core |  - Fates.TERMINATE_LAZY: 1117 (of 5894)\n",
      "[INFO][2025/03/17 04:40:36 PM]  - TOTAL: 28305 hypotheses\n",
      "INFO:btrack.core |  - TOTAL: 28305 hypotheses\n"
     ]
    },
    {
     "name": "stdout",
     "output_type": "stream",
     "text": [
      "GLPK Integer Optimizer 5.0\n",
      "29796 rows, 28305 columns, 42923 non-zeros\n",
      "28305 integer variables, all of which are binary\n",
      "Preprocessing...\n",
      "14898 rows, 28305 columns, 42923 non-zeros\n",
      "28305 integer variables, all of which are binary\n",
      "Scaling...\n",
      " A: min|aij| =  1.000e+00  max|aij| =  1.000e+00  ratio =  1.000e+00\n",
      "Problem data seem to be well scaled\n",
      "Constructing initial basis...\n",
      "Size of triangular part is 14898\n",
      "Solving LP relaxation...\n",
      "GLPK Simplex Optimizer 5.0\n",
      "14898 rows, 28305 columns, 42923 non-zeros\n",
      "*     0: obj =   8.451693242e+04 inf =   0.000e+00 (10678)\n",
      "Perturbing LP to avoid stalling [511]...\n",
      "*  8968: obj =   2.817981991e+04 inf =   2.000e-09 (1410) 5\n",
      "Removing LP perturbation [10417]...\n",
      "* 10417: obj =   2.708178225e+04 inf =   0.000e+00 (0) 4\n",
      "OPTIMAL LP SOLUTION FOUND\n",
      "Integer optimization begins...\n",
      "Long-step dual simplex will be used\n",
      "+ 10417: mip =     not found yet >=              -inf        (1; 0)\n",
      "+ 10438: >>>>>   2.709167410e+04 >=   2.708690811e+04 < 0.1% (16; 0)\n",
      "+ 10477: mip =   2.709167410e+04 >=     tree is empty   0.0% (0; 33)\n",
      "INTEGER OPTIMAL SOLUTION FOUND\n"
     ]
    },
    {
     "name": "stderr",
     "output_type": "stream",
     "text": [
      "[INFO][2025/03/17 04:40:36 PM] Completed optimization with 4929 tracks\n",
      "INFO:btrack.core | Completed optimization with 4929 tracks\n",
      "[INFO][2025/03/17 04:40:37 PM] Ending BayesianTracker session\n",
      "INFO:btrack.core | Ending BayesianTracker session\n"
     ]
    },
    {
     "name": "stdout",
     "output_type": "stream",
     "text": [
      "\t Tracking done.\n",
      "\n",
      "Start merging btrack output with stardist output.\n",
      "\tDone!\n",
      "\n",
      "Converting Obj_IDs to Track_IDs in stardist masks.\n",
      "\tDone!\n",
      "\n",
      "Matching manual and stardist annotations\n"
     ]
    },
    {
     "name": "stderr",
     "output_type": "stream",
     "text": [
      "Processing Annotations: 100%|█████████████████████████████████████████████████████████| 51/51 [00:00<00:00, 7357.16it/s]"
     ]
    },
    {
     "name": "stdout",
     "output_type": "stream",
     "text": [
      "\tMatching finished.\n",
      "\n"
     ]
    },
    {
     "name": "stderr",
     "output_type": "stream",
     "text": [
      "\n",
      "1237419405.py (171): \n",
      "A value is trying to be set on a copy of a slice from a DataFrame.\n",
      "Try using .loc[row_indexer,col_indexer] = value instead\n",
      "\n",
      "See the caveats in the documentation: https://pandas.pydata.org/pandas-docs/stable/user_guide/indexing.html#returning-a-view-versus-a-copy\n"
     ]
    },
    {
     "name": "stdout",
     "output_type": "stream",
     "text": [
      "Starting cropping for apo cells.\n"
     ]
    },
    {
     "name": "stderr",
     "output_type": "stream",
     "text": [
      "Processing Annotations:  18%|██████████▌                                                 | 9/51 [00:00<00:00, 87.18it/s]"
     ]
    },
    {
     "name": "stdout",
     "output_type": "stream",
     "text": [
      "\tSkipping current track: 470. Reason: Track lost too quickly after anno.\n",
      "No valid start point found.\n",
      "No valid start point found.\n"
     ]
    },
    {
     "name": "stderr",
     "output_type": "stream",
     "text": [
      "Processing Annotations:  37%|█████████████████████▉                                     | 19/51 [00:00<00:00, 92.20it/s]"
     ]
    },
    {
     "name": "stdout",
     "output_type": "stream",
     "text": [
      "No valid start point found.\n"
     ]
    },
    {
     "name": "stderr",
     "output_type": "stream",
     "text": [
      "Processing Annotations: 100%|███████████████████████████████████████████████████████████| 51/51 [00:00<00:00, 88.35it/s]\n"
     ]
    },
    {
     "name": "stdout",
     "output_type": "stream",
     "text": [
      "Starting cropping for non-apo cells.\n"
     ]
    },
    {
     "name": "stderr",
     "output_type": "stream",
     "text": [
      "Cropping non-apo Windows:   1%|▌                                                     | 11/1115 [00:00<00:10, 101.48it/s]"
     ]
    },
    {
     "name": "stdout",
     "output_type": "stream",
     "text": [
      "\tAt least one of the images has the wrong size. Length = 0. Pos = 1006, 666.\n",
      "\tAt least one of the images has the wrong size. Length = 0. Pos = 10, 654.\n"
     ]
    },
    {
     "name": "stderr",
     "output_type": "stream",
     "text": [
      "Cropping non-apo Windows:   4%|██▏                                                   | 45/1115 [00:00<00:10, 105.05it/s]"
     ]
    },
    {
     "name": "stdout",
     "output_type": "stream",
     "text": [
      "\tAt least one of the images has the wrong size. Length = 0. Pos = 24, 734.\n",
      "\tAt least one of the images has the wrong size. Length = 0. Pos = 1014, 728.\n",
      "\tAt least one of the images has the wrong size. Length = 0. Pos = 18, 690.\n",
      "\tAt least one of the images has the wrong size. Length = 0. Pos = 996, 560.\n"
     ]
    },
    {
     "name": "stderr",
     "output_type": "stream",
     "text": [
      "Cropping non-apo Windows:   7%|███▉                                                  | 81/1115 [00:00<00:09, 110.69it/s]"
     ]
    },
    {
     "name": "stdout",
     "output_type": "stream",
     "text": [
      "\tAt least one of the images has the wrong size. Length = 0. Pos = 4, 524.\n",
      "\tAt least one of the images has the wrong size. Length = 0. Pos = 1008, 506.\n",
      "\tAt least one of the images has the wrong size. Length = 0. Pos = 8, 622.\n"
     ]
    },
    {
     "name": "stderr",
     "output_type": "stream",
     "text": [
      "Cropping non-apo Windows:   9%|████▉                                                | 105/1115 [00:00<00:09, 108.85it/s]"
     ]
    },
    {
     "name": "stdout",
     "output_type": "stream",
     "text": [
      "\tAt least one of the images has the wrong size. Length = 1. Pos = 24, 576.\n",
      "\tAt least one of the images has the wrong size. Length = 17. Pos = 990, 916.\n"
     ]
    },
    {
     "name": "stderr",
     "output_type": "stream",
     "text": [
      "Cropping non-apo Windows:  14%|███████▏                                             | 151/1115 [00:01<00:07, 135.38it/s]"
     ]
    },
    {
     "name": "stdout",
     "output_type": "stream",
     "text": [
      "\tAt least one of the images has the wrong size. Length = 0. Pos = 10, 894.\n",
      "\tAt least one of the images has the wrong size. Length = 0. Pos = 1010, 888.\n",
      "\tAt least one of the images has the wrong size. Length = 0. Pos = 12, 988.\n",
      "\tAt least one of the images has the wrong size. Length = 0. Pos = 16, 1014.\n",
      "\tAt least one of the images has the wrong size. Length = 0. Pos = 974, 1006.\n",
      "\tAt least one of the images has the wrong size. Length = 0. Pos = 454, 1010.\n",
      "\tAt least one of the images has the wrong size. Length = 0. Pos = 686, 1008.\n",
      "\tAt least one of the images has the wrong size. Length = 0. Pos = 930, 994.\n",
      "\tAt least one of the images has the wrong size. Length = 0. Pos = 826, 1000.\n",
      "\tAt least one of the images has the wrong size. Length = 0. Pos = 246, 1002.\n",
      "\tAt least one of the images has the wrong size. Length = 0. Pos = 416, 994.\n",
      "\tAt least one of the images has the wrong size. Length = 3. Pos = 614, 992.\n",
      "\tAt least one of the images has the wrong size. Length = 5. Pos = 150, 992.\n",
      "\tAt least one of the images has the wrong size. Length = 7. Pos = 318, 992.\n",
      "\tAt least one of the images has the wrong size. Length = 13. Pos = 540, 986.\n",
      "\tAt least one of the images has the wrong size. Length = 20. Pos = 288, 986.\n",
      "\tAt least one of the images has the wrong size. Length = 0. Pos = 1006, 986.\n"
     ]
    },
    {
     "name": "stderr",
     "output_type": "stream",
     "text": [
      "Cropping non-apo Windows:  17%|█████████                                            | 190/1115 [00:01<00:08, 113.13it/s]"
     ]
    },
    {
     "name": "stdout",
     "output_type": "stream",
     "text": [
      "\tAt least one of the images has the wrong size. Length = 20. Pos = 372, 760.\n",
      "\tAt least one of the images has the wrong size. Length = 0. Pos = 14, 854.\n",
      "\tAt least one of the images has the wrong size. Length = 0. Pos = 66, 4.\n",
      "\tAt least one of the images has the wrong size. Length = 0. Pos = 1010, 838.\n"
     ]
    },
    {
     "name": "stderr",
     "output_type": "stream",
     "text": [
      "Cropping non-apo Windows:  19%|██████████▏                                          | 215/1115 [00:01<00:08, 110.17it/s]"
     ]
    },
    {
     "name": "stdout",
     "output_type": "stream",
     "text": [
      "\tAt least one of the images has the wrong size. Length = 0. Pos = 8, 196.\n",
      "\tAt least one of the images has the wrong size. Length = 0. Pos = 998, 190.\n",
      "\tAt least one of the images has the wrong size. Length = 20. Pos = 460, 176.\n",
      "\tAt least one of the images has the wrong size. Length = 0. Pos = 1016, 140.\n",
      "\tAt least one of the images has the wrong size. Length = 0. Pos = 8, 140.\n"
     ]
    },
    {
     "name": "stderr",
     "output_type": "stream",
     "text": [
      "Cropping non-apo Windows:  24%|████████████▉                                        | 272/1115 [00:02<00:06, 132.15it/s]"
     ]
    },
    {
     "name": "stdout",
     "output_type": "stream",
     "text": [
      "\tAt least one of the images has the wrong size. Length = 0. Pos = 670, 16.\n",
      "\tAt least one of the images has the wrong size. Length = 19. Pos = 838, 28.\n",
      "\tAt least one of the images has the wrong size. Length = 18. Pos = 282, 28.\n",
      "\tAt least one of the images has the wrong size. Length = 0. Pos = 888, 4.\n",
      "\tAt least one of the images has the wrong size. Length = 0. Pos = 16, 72.\n",
      "\tAt least one of the images has the wrong size. Length = 0. Pos = 802, 12.\n",
      "\tAt least one of the images has the wrong size. Length = 0. Pos = 968, 14.\n",
      "\tAt least one of the images has the wrong size. Length = 0. Pos = 928, 4.\n",
      "\tAt least one of the images has the wrong size. Length = 0. Pos = 760, 4.\n",
      "\tAt least one of the images has the wrong size. Length = 0. Pos = 720, 4.\n",
      "\tAt least one of the images has the wrong size. Length = 0. Pos = 560, 16.\n",
      "\tAt least one of the images has the wrong size. Length = 0. Pos = 506, 4.\n",
      "\tAt least one of the images has the wrong size. Length = 0. Pos = 442, 4.\n",
      "\tAt least one of the images has the wrong size. Length = 0. Pos = 336, 12.\n",
      "\tAt least one of the images has the wrong size. Length = 0. Pos = 244, 4.\n"
     ]
    },
    {
     "name": "stderr",
     "output_type": "stream",
     "text": [
      "Cropping non-apo Windows:  26%|█████████████▌                                       | 286/1115 [00:02<00:06, 120.10it/s]"
     ]
    },
    {
     "name": "stdout",
     "output_type": "stream",
     "text": [
      "\tAt least one of the images has the wrong size. Length = 0. Pos = 1018, 110.\n"
     ]
    },
    {
     "name": "stderr",
     "output_type": "stream",
     "text": [
      "Cropping non-apo Windows:  28%|██████████████▊                                      | 311/1115 [00:02<00:07, 106.39it/s]"
     ]
    },
    {
     "name": "stdout",
     "output_type": "stream",
     "text": [
      "\tAt least one of the images has the wrong size. Length = 0. Pos = 1008, 440.\n",
      "\tAt least one of the images has the wrong size. Length = 10. Pos = 26, 408.\n"
     ]
    },
    {
     "name": "stderr",
     "output_type": "stream",
     "text": [
      "Cropping non-apo Windows:  31%|████████████████▎                                    | 344/1115 [00:03<00:07, 105.54it/s]"
     ]
    },
    {
     "name": "stdout",
     "output_type": "stream",
     "text": [
      "\tAt least one of the images has the wrong size. Length = 0. Pos = 12, 480.\n",
      "\tAt least one of the images has the wrong size. Length = 0. Pos = 8, 450.\n"
     ]
    },
    {
     "name": "stderr",
     "output_type": "stream",
     "text": [
      "Cropping non-apo Windows:  34%|█████████████████▉                                   | 377/1115 [00:03<00:07, 102.92it/s]"
     ]
    },
    {
     "name": "stdout",
     "output_type": "stream",
     "text": [
      "\tAt least one of the images has the wrong size. Length = 12. Pos = 998, 302.\n",
      "\tAt least one of the images has the wrong size. Length = 0. Pos = 1002, 348.\n",
      "\tAt least one of the images has the wrong size. Length = 0. Pos = 4, 342.\n"
     ]
    },
    {
     "name": "stderr",
     "output_type": "stream",
     "text": [
      "Cropping non-apo Windows:  38%|███████████████████▉                                 | 419/1115 [00:03<00:05, 125.93it/s]"
     ]
    },
    {
     "name": "stdout",
     "output_type": "stream",
     "text": [
      "\tAt least one of the images has the wrong size. Length = 0. Pos = 1018, 600.\n",
      "\tAt least one of the images has the wrong size. Length = 0. Pos = 188, 1016.\n",
      "\tAt least one of the images has the wrong size. Length = 0. Pos = 840, 4.\n",
      "\tAt least one of the images has the wrong size. Length = 8. Pos = 76, 986.\n",
      "\tAt least one of the images has the wrong size. Length = 19. Pos = 968, 710.\n",
      "\tAt least one of the images has the wrong size. Length = 3. Pos = 1000, 796.\n",
      "\tAt least one of the images has the wrong size. Length = 0. Pos = 374, 4.\n",
      "\tAt least one of the images has the wrong size. Length = 20. Pos = 376, 246.\n",
      "\tAt least one of the images has the wrong size. Length = 20. Pos = 378, 210.\n",
      "\tAt least one of the images has the wrong size. Length = 19. Pos = 854, 84.\n",
      "\tAt least one of the images has the wrong size. Length = 20. Pos = 862, 60.\n",
      "\tAt least one of the images has the wrong size. Length = 19. Pos = 956, 878.\n",
      "\tAt least one of the images has the wrong size. Length = 0. Pos = 1004, 408.\n",
      "\tAt least one of the images has the wrong size. Length = 0. Pos = 1016, 320.\n",
      "\tAt least one of the images has the wrong size. Length = 0. Pos = 354, 1018.\n",
      "\tAt least one of the images has the wrong size. Length = 0. Pos = 226, 1016.\n",
      "\tAt least one of the images has the wrong size. Length = 0. Pos = 1014, 372.\n"
     ]
    },
    {
     "name": "stderr",
     "output_type": "stream",
     "text": [
      "Cropping non-apo Windows:  42%|██████████████████████                               | 463/1115 [00:03<00:03, 168.48it/s]"
     ]
    },
    {
     "name": "stdout",
     "output_type": "stream",
     "text": [
      "\tAt least one of the images has the wrong size. Length = 20. Pos = 640, 314.\n",
      "\tAt least one of the images has the wrong size. Length = 20. Pos = 660, 520.\n",
      "\tAt least one of the images has the wrong size. Length = 0. Pos = 1006, 794.\n",
      "\tAt least one of the images has the wrong size. Length = 19. Pos = 254, 870.\n",
      "\tAt least one of the images has the wrong size. Length = 0. Pos = 282, 1018.\n",
      "\tAt least one of the images has the wrong size. Length = 0. Pos = 1016, 554.\n",
      "\tAt least one of the images has the wrong size. Length = 0. Pos = 472, 1018.\n",
      "\tAt least one of the images has the wrong size. Length = 20. Pos = 52, 794.\n",
      "\tAt least one of the images has the wrong size. Length = 20. Pos = 968, 724.\n",
      "\tAt least one of the images has the wrong size. Length = 0. Pos = 1018, 46.\n",
      "\tAt least one of the images has the wrong size. Length = 20. Pos = 60, 612.\n",
      "\tAt least one of the images has the wrong size. Length = 0. Pos = 1018, 768.\n",
      "\tAt least one of the images has the wrong size. Length = 20. Pos = 712, 100.\n",
      "\tAt least one of the images has the wrong size. Length = 20. Pos = 172, 450.\n",
      "\tAt least one of the images has the wrong size. Length = 0. Pos = 618, 4.\n",
      "\tAt least one of the images has the wrong size. Length = 20. Pos = 852, 508.\n",
      "\tAt least one of the images has the wrong size. Length = 20. Pos = 814, 458.\n",
      "\tAt least one of the images has the wrong size. Length = 17. Pos = 826, 284.\n",
      "\tAt least one of the images has the wrong size. Length = 0. Pos = 1018, 1016.\n",
      "\tAt least one of the images has the wrong size. Length = 19. Pos = 724, 468.\n",
      "\tAt least one of the images has the wrong size. Length = 0. Pos = 346, 4.\n",
      "\tAt least one of the images has the wrong size. Length = 20. Pos = 652, 516.\n",
      "\tAt least one of the images has the wrong size. Length = 19. Pos = 820, 620.\n",
      "\tAt least one of the images has the wrong size. Length = 0. Pos = 634, 1018.\n",
      "\tAt least one of the images has the wrong size. Length = 0. Pos = 570, 1018.\n"
     ]
    },
    {
     "name": "stderr",
     "output_type": "stream",
     "text": [
      "Cropping non-apo Windows:  45%|███████████████████████▉                             | 504/1115 [00:04<00:03, 180.76it/s]"
     ]
    },
    {
     "name": "stdout",
     "output_type": "stream",
     "text": [
      "\tAt least one of the images has the wrong size. Length = 20. Pos = 852, 72.\n",
      "\tAt least one of the images has the wrong size. Length = 20. Pos = 324, 82.\n",
      "\tAt least one of the images has the wrong size. Length = 0. Pos = 1016, 952.\n",
      "\tAt least one of the images has the wrong size. Length = 0. Pos = 70, 1016.\n",
      "\tAt least one of the images has the wrong size. Length = 0. Pos = 38, 4.\n",
      "\tAt least one of the images has the wrong size. Length = 0. Pos = 740, 4.\n",
      "\tAt least one of the images has the wrong size. Length = 19. Pos = 606, 712.\n",
      "\tAt least one of the images has the wrong size. Length = 0. Pos = 1018, 50.\n",
      "\tAt least one of the images has the wrong size. Length = 20. Pos = 712, 476.\n",
      "\tAt least one of the images has the wrong size. Length = 0. Pos = 30, 1008.\n",
      "\tAt least one of the images has the wrong size. Length = 0. Pos = 792, 4.\n",
      "\tAt least one of the images has the wrong size. Length = 18. Pos = 746, 96.\n",
      "\tAt least one of the images has the wrong size. Length = 0. Pos = 1016, 1014.\n",
      "\tAt least one of the images has the wrong size. Length = 20. Pos = 866, 262.\n",
      "\tAt least one of the images has the wrong size. Length = 19. Pos = 638, 346.\n",
      "\tAt least one of the images has the wrong size. Length = 0. Pos = 1018, 906.\n",
      "\tAt least one of the images has the wrong size. Length = 0. Pos = 234, 1016.\n",
      "\tAt least one of the images has the wrong size. Length = 20. Pos = 718, 450.\n",
      "\tAt least one of the images has the wrong size. Length = 0. Pos = 4, 494.\n",
      "\tAt least one of the images has the wrong size. Length = 0. Pos = 514, 4.\n",
      "\tAt least one of the images has the wrong size. Length = 19. Pos = 854, 42.\n",
      "\tAt least one of the images has the wrong size. Length = 0. Pos = 4, 678.\n",
      "\tAt least one of the images has the wrong size. Length = 20. Pos = 504, 804.\n",
      "\tAt least one of the images has the wrong size. Length = 20. Pos = 780, 622.\n",
      "\tAt least one of the images has the wrong size. Length = 20. Pos = 546, 226.\n",
      "\tAt least one of the images has the wrong size. Length = 20. Pos = 318, 252.\n"
     ]
    },
    {
     "name": "stderr",
     "output_type": "stream",
     "text": [
      "Cropping non-apo Windows:  49%|█████████████████████████▊                           | 543/1115 [00:04<00:03, 183.62it/s]"
     ]
    },
    {
     "name": "stdout",
     "output_type": "stream",
     "text": [
      "\tAt least one of the images has the wrong size. Length = 0. Pos = 658, 1018.\n",
      "\tAt least one of the images has the wrong size. Length = 0. Pos = 730, 1018.\n",
      "\tAt least one of the images has the wrong size. Length = 20. Pos = 594, 796.\n",
      "\tAt least one of the images has the wrong size. Length = 0. Pos = 150, 1018.\n",
      "\tAt least one of the images has the wrong size. Length = 0. Pos = 1018, 878.\n",
      "\tAt least one of the images has the wrong size. Length = 18. Pos = 784, 624.\n",
      "\tAt least one of the images has the wrong size. Length = 0. Pos = 28, 1018.\n",
      "\tAt least one of the images has the wrong size. Length = 20. Pos = 622, 216.\n",
      "\tAt least one of the images has the wrong size. Length = 0. Pos = 28, 4.\n",
      "\tAt least one of the images has the wrong size. Length = 0. Pos = 1018, 782.\n",
      "\tAt least one of the images has the wrong size. Length = 20. Pos = 54, 700.\n",
      "\tAt least one of the images has the wrong size. Length = 19. Pos = 910, 416.\n",
      "\tAt least one of the images has the wrong size. Length = 0. Pos = 1018, 892.\n",
      "\tAt least one of the images has the wrong size. Length = 0. Pos = 1016, 384.\n",
      "\tAt least one of the images has the wrong size. Length = 20. Pos = 70, 740.\n",
      "\tAt least one of the images has the wrong size. Length = 19. Pos = 904, 800.\n",
      "\tAt least one of the images has the wrong size. Length = 20. Pos = 406, 168.\n",
      "\tAt least one of the images has the wrong size. Length = 0. Pos = 788, 4.\n",
      "\tAt least one of the images has the wrong size. Length = 0. Pos = 852, 1018.\n",
      "\tAt least one of the images has the wrong size. Length = 20. Pos = 954, 712.\n",
      "\tAt least one of the images has the wrong size. Length = 0. Pos = 100, 1018.\n",
      "\tAt least one of the images has the wrong size. Length = 20. Pos = 826, 538.\n",
      "\tAt least one of the images has the wrong size. Length = 0. Pos = 586, 1016.\n",
      "\tAt least one of the images has the wrong size. Length = 19. Pos = 430, 756.\n"
     ]
    },
    {
     "name": "stderr",
     "output_type": "stream",
     "text": [
      "Cropping non-apo Windows:  51%|██████████████████████████▉                          | 567/1115 [00:04<00:02, 196.60it/s]"
     ]
    },
    {
     "name": "stdout",
     "output_type": "stream",
     "text": [
      "\tAt least one of the images has the wrong size. Length = 19. Pos = 778, 230.\n",
      "\tAt least one of the images has the wrong size. Length = 0. Pos = 4, 490.\n",
      "\tAt least one of the images has the wrong size. Length = 19. Pos = 910, 414.\n",
      "\tAt least one of the images has the wrong size. Length = 19. Pos = 158, 646.\n",
      "\tAt least one of the images has the wrong size. Length = 19. Pos = 982, 838.\n",
      "\tAt least one of the images has the wrong size. Length = 19. Pos = 826, 794.\n",
      "\tAt least one of the images has the wrong size. Length = 19. Pos = 78, 704.\n",
      "\tAt least one of the images has the wrong size. Length = 0. Pos = 482, 1018.\n",
      "\tAt least one of the images has the wrong size. Length = 3. Pos = 28, 708.\n",
      "\tAt least one of the images has the wrong size. Length = 0. Pos = 366, 1018.\n",
      "\tAt least one of the images has the wrong size. Length = 0. Pos = 1016, 740.\n",
      "\tAt least one of the images has the wrong size. Length = 20. Pos = 922, 426.\n",
      "\tAt least one of the images has the wrong size. Length = 20. Pos = 852, 554.\n",
      "\tAt least one of the images has the wrong size. Length = 17. Pos = 714, 462.\n",
      "\tAt least one of the images has the wrong size. Length = 0. Pos = 1018, 396.\n",
      "\tAt least one of the images has the wrong size. Length = 20. Pos = 58, 720.\n",
      "\tAt least one of the images has the wrong size. Length = 0. Pos = 20, 594.\n",
      "\tAt least one of the images has the wrong size. Length = 20. Pos = 680, 72.\n"
     ]
    },
    {
     "name": "stderr",
     "output_type": "stream",
     "text": [
      "Cropping non-apo Windows:  54%|████████████████████████████▊                        | 606/1115 [00:04<00:02, 176.42it/s]"
     ]
    },
    {
     "name": "stdout",
     "output_type": "stream",
     "text": [
      "\tAt least one of the images has the wrong size. Length = 0. Pos = 62, 1018.\n",
      "\tAt least one of the images has the wrong size. Length = 0. Pos = 772, 1018.\n",
      "\tAt least one of the images has the wrong size. Length = 20. Pos = 334, 848.\n",
      "\tAt least one of the images has the wrong size. Length = 0. Pos = 1016, 112.\n",
      "\tAt least one of the images has the wrong size. Length = 0. Pos = 594, 1018.\n",
      "\tAt least one of the images has the wrong size. Length = 0. Pos = 932, 1018.\n",
      "\tAt least one of the images has the wrong size. Length = 0. Pos = 432, 1016.\n",
      "\tAt least one of the images has the wrong size. Length = 20. Pos = 618, 688.\n",
      "\tAt least one of the images has the wrong size. Length = 0. Pos = 782, 4.\n",
      "\tAt least one of the images has the wrong size. Length = 20. Pos = 822, 532.\n",
      "\tAt least one of the images has the wrong size. Length = 0. Pos = 138, 4.\n",
      "\tAt least one of the images has the wrong size. Length = 16. Pos = 742, 366.\n",
      "\tAt least one of the images has the wrong size. Length = 0. Pos = 1016, 848.\n",
      "\tAt least one of the images has the wrong size. Length = 19. Pos = 904, 428.\n",
      "\tAt least one of the images has the wrong size. Length = 0. Pos = 16, 460.\n",
      "\tAt least one of the images has the wrong size. Length = 20. Pos = 498, 512.\n",
      "\tAt least one of the images has the wrong size. Length = 17. Pos = 606, 444.\n",
      "\tAt least one of the images has the wrong size. Length = 20. Pos = 278, 584.\n",
      "\tAt least one of the images has the wrong size. Length = 0. Pos = 996, 1018.\n",
      "\tAt least one of the images has the wrong size. Length = 19. Pos = 572, 898.\n"
     ]
    },
    {
     "name": "stderr",
     "output_type": "stream",
     "text": [
      "Cropping non-apo Windows:  59%|███████████████████████████████                      | 653/1115 [00:04<00:02, 198.68it/s]"
     ]
    },
    {
     "name": "stdout",
     "output_type": "stream",
     "text": [
      "\tAt least one of the images has the wrong size. Length = 20. Pos = 852, 72.\n",
      "\tAt least one of the images has the wrong size. Length = 20. Pos = 590, 588.\n",
      "\tAt least one of the images has the wrong size. Length = 0. Pos = 42, 4.\n",
      "\tAt least one of the images has the wrong size. Length = 19. Pos = 666, 60.\n",
      "\tAt least one of the images has the wrong size. Length = 19. Pos = 760, 328.\n",
      "\tAt least one of the images has the wrong size. Length = 17. Pos = 30, 618.\n",
      "\tAt least one of the images has the wrong size. Length = 20. Pos = 316, 64.\n",
      "\tAt least one of the images has the wrong size. Length = 20. Pos = 700, 582.\n",
      "\tAt least one of the images has the wrong size. Length = 20. Pos = 702, 458.\n",
      "\tAt least one of the images has the wrong size. Length = 0. Pos = 278, 1018.\n",
      "\tAt least one of the images has the wrong size. Length = 0. Pos = 1004, 772.\n",
      "\tAt least one of the images has the wrong size. Length = 19. Pos = 164, 84.\n",
      "\tAt least one of the images has the wrong size. Length = 19. Pos = 622, 700.\n",
      "\tAt least one of the images has the wrong size. Length = 0. Pos = 922, 1018.\n",
      "\tAt least one of the images has the wrong size. Length = 19. Pos = 96, 792.\n",
      "\tAt least one of the images has the wrong size. Length = 0. Pos = 332, 1018.\n",
      "\tAt least one of the images has the wrong size. Length = 0. Pos = 740, 1008.\n",
      "\tAt least one of the images has the wrong size. Length = 0. Pos = 776, 1018.\n",
      "\tAt least one of the images has the wrong size. Length = 0. Pos = 150, 12.\n",
      "\tAt least one of the images has the wrong size. Length = 19. Pos = 758, 392.\n",
      "\tAt least one of the images has the wrong size. Length = 19. Pos = 678, 94.\n",
      "\tAt least one of the images has the wrong size. Length = 19. Pos = 612, 336.\n",
      "\tAt least one of the images has the wrong size. Length = 19. Pos = 274, 926.\n"
     ]
    },
    {
     "name": "stderr",
     "output_type": "stream",
     "text": [
      "Cropping non-apo Windows:  63%|█████████████████████████████████▏                   | 698/1115 [00:05<00:02, 195.73it/s]"
     ]
    },
    {
     "name": "stdout",
     "output_type": "stream",
     "text": [
      "\tAt least one of the images has the wrong size. Length = 20. Pos = 892, 896.\n",
      "\tAt least one of the images has the wrong size. Length = 0. Pos = 1016, 836.\n",
      "\tAt least one of the images has the wrong size. Length = 20. Pos = 358, 74.\n",
      "\tAt least one of the images has the wrong size. Length = 0. Pos = 1012, 584.\n",
      "\tAt least one of the images has the wrong size. Length = 20. Pos = 614, 692.\n",
      "\tAt least one of the images has the wrong size. Length = 0. Pos = 28, 900.\n",
      "\tAt least one of the images has the wrong size. Length = 20. Pos = 768, 352.\n",
      "\tAt least one of the images has the wrong size. Length = 19. Pos = 310, 46.\n",
      "\tAt least one of the images has the wrong size. Length = 19. Pos = 34, 950.\n",
      "\tAt least one of the images has the wrong size. Length = 0. Pos = 778, 4.\n",
      "\tAt least one of the images has the wrong size. Length = 20. Pos = 758, 372.\n",
      "\tAt least one of the images has the wrong size. Length = 0. Pos = 4, 748.\n",
      "\tAt least one of the images has the wrong size. Length = 20. Pos = 874, 448.\n",
      "\tAt least one of the images has the wrong size. Length = 0. Pos = 166, 16.\n",
      "\tAt least one of the images has the wrong size. Length = 0. Pos = 258, 1018.\n",
      "\tAt least one of the images has the wrong size. Length = 20. Pos = 604, 558.\n",
      "\tAt least one of the images has the wrong size. Length = 0. Pos = 66, 1018.\n",
      "\tAt least one of the images has the wrong size. Length = 20. Pos = 754, 386.\n",
      "\tAt least one of the images has the wrong size. Length = 0. Pos = 1018, 966.\n",
      "\tAt least one of the images has the wrong size. Length = 19. Pos = 274, 578.\n",
      "\tAt least one of the images has the wrong size. Length = 20. Pos = 168, 84.\n",
      "\tAt least one of the images has the wrong size. Length = 20. Pos = 818, 306.\n",
      "\tAt least one of the images has the wrong size. Length = 19. Pos = 272, 578.\n",
      "\tAt least one of the images has the wrong size. Length = 0. Pos = 824, 1016.\n",
      "\tAt least one of the images has the wrong size. Length = 19. Pos = 518, 252.\n",
      "\tAt least one of the images has the wrong size. Length = 20. Pos = 622, 840.\n",
      "\tAt least one of the images has the wrong size. Length = 0. Pos = 778, 4.\n",
      "\tAt least one of the images has the wrong size. Length = 19. Pos = 694, 72.\n",
      "\tAt least one of the images has the wrong size. Length = 19. Pos = 310, 948.\n",
      "\tAt least one of the images has the wrong size. Length = 0. Pos = 168, 10.\n",
      "\tAt least one of the images has the wrong size. Length = 0. Pos = 46, 4.\n",
      "\tAt least one of the images has the wrong size. Length = 0. Pos = 980, 1008.\n",
      "\tAt least one of the images has the wrong size. Length = 17. Pos = 986, 976.\n",
      "\tAt least one of the images has the wrong size. Length = 19. Pos = 450, 854.\n"
     ]
    },
    {
     "name": "stderr",
     "output_type": "stream",
     "text": [
      "Cropping non-apo Windows:  67%|███████████████████████████████████▎                 | 744/1115 [00:05<00:01, 192.62it/s]"
     ]
    },
    {
     "name": "stdout",
     "output_type": "stream",
     "text": [
      "\tAt least one of the images has the wrong size. Length = 18. Pos = 764, 378.\n",
      "\tAt least one of the images has the wrong size. Length = 20. Pos = 136, 278.\n",
      "\tAt least one of the images has the wrong size. Length = 19. Pos = 666, 90.\n",
      "\tAt least one of the images has the wrong size. Length = 18. Pos = 706, 98.\n",
      "\tAt least one of the images has the wrong size. Length = 19. Pos = 172, 88.\n",
      "\tAt least one of the images has the wrong size. Length = 0. Pos = 776, 1012.\n",
      "\tAt least one of the images has the wrong size. Length = 19. Pos = 876, 42.\n",
      "\tAt least one of the images has the wrong size. Length = 0. Pos = 1018, 308.\n",
      "\tAt least one of the images has the wrong size. Length = 0. Pos = 346, 1018.\n",
      "\tAt least one of the images has the wrong size. Length = 0. Pos = 4, 106.\n",
      "\tAt least one of the images has the wrong size. Length = 20. Pos = 268, 238.\n",
      "\tAt least one of the images has the wrong size. Length = 18. Pos = 886, 80.\n",
      "\tAt least one of the images has the wrong size. Length = 19. Pos = 896, 42.\n",
      "\tAt least one of the images has the wrong size. Length = 19. Pos = 706, 102.\n",
      "\tAt least one of the images has the wrong size. Length = 1. Pos = 28, 882.\n",
      "\tAt least one of the images has the wrong size. Length = 0. Pos = 4, 498.\n",
      "\tAt least one of the images has the wrong size. Length = 18. Pos = 70, 690.\n",
      "\tAt least one of the images has the wrong size. Length = 0. Pos = 1012, 494.\n",
      "\tAt least one of the images has the wrong size. Length = 19. Pos = 832, 78.\n"
     ]
    },
    {
     "name": "stderr",
     "output_type": "stream",
     "text": [
      "Cropping non-apo Windows:  70%|█████████████████████████████████████▎               | 784/1115 [00:05<00:01, 191.30it/s]"
     ]
    },
    {
     "name": "stdout",
     "output_type": "stream",
     "text": [
      "\tAt least one of the images has the wrong size. Length = 20. Pos = 262, 214.\n",
      "\tAt least one of the images has the wrong size. Length = 20. Pos = 290, 216.\n",
      "\tAt least one of the images has the wrong size. Length = 19. Pos = 922, 448.\n",
      "\tAt least one of the images has the wrong size. Length = 18. Pos = 810, 536.\n",
      "\tAt least one of the images has the wrong size. Length = 0. Pos = 242, 1018.\n",
      "\tAt least one of the images has the wrong size. Length = 20. Pos = 640, 828.\n",
      "\tAt least one of the images has the wrong size. Length = 0. Pos = 66, 4.\n",
      "\tAt least one of the images has the wrong size. Length = 20. Pos = 730, 364.\n",
      "\tAt least one of the images has the wrong size. Length = 0. Pos = 1018, 408.\n",
      "\tAt least one of the images has the wrong size. Length = 20. Pos = 170, 870.\n",
      "\tAt least one of the images has the wrong size. Length = 0. Pos = 144, 1018.\n",
      "\tAt least one of the images has the wrong size. Length = 17. Pos = 134, 622.\n",
      "\tAt least one of the images has the wrong size. Length = 18. Pos = 40, 710.\n",
      "\tAt least one of the images has the wrong size. Length = 20. Pos = 762, 350.\n",
      "\tAt least one of the images has the wrong size. Length = 20. Pos = 288, 66.\n",
      "\tAt least one of the images has the wrong size. Length = 19. Pos = 176, 752.\n",
      "\tAt least one of the images has the wrong size. Length = 20. Pos = 128, 536.\n",
      "\tAt least one of the images has the wrong size. Length = 18. Pos = 960, 868.\n",
      "\tAt least one of the images has the wrong size. Length = 0. Pos = 1018, 120.\n",
      "\tAt least one of the images has the wrong size. Length = 0. Pos = 4, 784.\n",
      "\tAt least one of the images has the wrong size. Length = 20. Pos = 550, 900.\n",
      "\tAt least one of the images has the wrong size. Length = 18. Pos = 54, 138.\n",
      "\tAt least one of the images has the wrong size. Length = 20. Pos = 708, 98.\n",
      "\tAt least one of the images has the wrong size. Length = 0. Pos = 108, 10.\n",
      "\tAt least one of the images has the wrong size. Length = 0. Pos = 686, 4.\n",
      "\tAt least one of the images has the wrong size. Length = 18. Pos = 118, 808.\n",
      "\tAt least one of the images has the wrong size. Length = 19. Pos = 562, 590.\n"
     ]
    },
    {
     "name": "stderr",
     "output_type": "stream",
     "text": [
      "Cropping non-apo Windows:  75%|███████████████████████████████████████▋             | 836/1115 [00:05<00:01, 221.38it/s]"
     ]
    },
    {
     "name": "stdout",
     "output_type": "stream",
     "text": [
      "\tAt least one of the images has the wrong size. Length = 20. Pos = 770, 930.\n",
      "\tAt least one of the images has the wrong size. Length = 18. Pos = 836, 74.\n",
      "\tAt least one of the images has the wrong size. Length = 0. Pos = 1018, 420.\n",
      "\tAt least one of the images has the wrong size. Length = 2. Pos = 834, 22.\n",
      "\tAt least one of the images has the wrong size. Length = 0. Pos = 860, 1018.\n",
      "\tAt least one of the images has the wrong size. Length = 20. Pos = 96, 798.\n",
      "\tAt least one of the images has the wrong size. Length = 19. Pos = 298, 58.\n",
      "\tAt least one of the images has the wrong size. Length = 20. Pos = 304, 950.\n",
      "\tAt least one of the images has the wrong size. Length = 19. Pos = 680, 498.\n",
      "\tAt least one of the images has the wrong size. Length = 0. Pos = 420, 1018.\n",
      "\tAt least one of the images has the wrong size. Length = 0. Pos = 740, 1010.\n",
      "\tAt least one of the images has the wrong size. Length = 19. Pos = 184, 118.\n",
      "\tAt least one of the images has the wrong size. Length = 20. Pos = 662, 62.\n",
      "\tAt least one of the images has the wrong size. Length = 0. Pos = 4, 50.\n",
      "\tAt least one of the images has the wrong size. Length = 19. Pos = 608, 480.\n",
      "\tAt least one of the images has the wrong size. Length = 19. Pos = 808, 766.\n",
      "\tAt least one of the images has the wrong size. Length = 19. Pos = 770, 532.\n",
      "\tAt least one of the images has the wrong size. Length = 0. Pos = 812, 4.\n",
      "\tAt least one of the images has the wrong size. Length = 0. Pos = 420, 1018.\n",
      "\tAt least one of the images has the wrong size. Length = 0. Pos = 842, 18.\n",
      "\tAt least one of the images has the wrong size. Length = 18. Pos = 112, 526.\n",
      "\tAt least one of the images has the wrong size. Length = 20. Pos = 850, 82.\n",
      "\tAt least one of the images has the wrong size. Length = 20. Pos = 678, 468.\n",
      "\tAt least one of the images has the wrong size. Length = 20. Pos = 46, 230.\n",
      "\tAt least one of the images has the wrong size. Length = 19. Pos = 694, 74.\n",
      "\tAt least one of the images has the wrong size. Length = 17. Pos = 562, 588.\n",
      "\tAt least one of the images has the wrong size. Length = 20. Pos = 182, 576.\n",
      "\tAt least one of the images has the wrong size. Length = 0. Pos = 998, 1018.\n",
      "\tAt least one of the images has the wrong size. Length = 20. Pos = 278, 560.\n",
      "\tAt least one of the images has the wrong size. Length = 20. Pos = 716, 210.\n",
      "\tAt least one of the images has the wrong size. Length = 20. Pos = 578, 874.\n",
      "\tAt least one of the images has the wrong size. Length = 0. Pos = 918, 1018.\n"
     ]
    },
    {
     "name": "stderr",
     "output_type": "stream",
     "text": [
      "Cropping non-apo Windows:  78%|█████████████████████████████████████████▎           | 868/1115 [00:05<00:01, 243.55it/s]"
     ]
    },
    {
     "name": "stdout",
     "output_type": "stream",
     "text": [
      "\tAt least one of the images has the wrong size. Length = 0. Pos = 812, 4.\n",
      "\tAt least one of the images has the wrong size. Length = 17. Pos = 838, 66.\n",
      "\tAt least one of the images has the wrong size. Length = 0. Pos = 460, 1014.\n",
      "\tAt least one of the images has the wrong size. Length = 18. Pos = 254, 410.\n",
      "\tAt least one of the images has the wrong size. Length = 19. Pos = 602, 478.\n",
      "\tAt least one of the images has the wrong size. Length = 0. Pos = 142, 1018.\n",
      "\tAt least one of the images has the wrong size. Length = 20. Pos = 942, 820.\n",
      "\tAt least one of the images has the wrong size. Length = 20. Pos = 308, 48.\n",
      "\tAt least one of the images has the wrong size. Length = 0. Pos = 162, 20.\n",
      "\tAt least one of the images has the wrong size. Length = 0. Pos = 1012, 858.\n",
      "\tAt least one of the images has the wrong size. Length = 20. Pos = 376, 178.\n",
      "\tAt least one of the images has the wrong size. Length = 19. Pos = 346, 164.\n",
      "\tAt least one of the images has the wrong size. Length = 0. Pos = 4, 420.\n",
      "\tAt least one of the images has the wrong size. Length = 0. Pos = 864, 1018.\n",
      "\tAt least one of the images has the wrong size. Length = 20. Pos = 850, 718.\n",
      "\tAt least one of the images has the wrong size. Length = 19. Pos = 62, 242.\n",
      "\tAt least one of the images has the wrong size. Length = 0. Pos = 24, 698.\n",
      "\tAt least one of the images has the wrong size. Length = 0. Pos = 576, 4.\n",
      "\tAt least one of the images has the wrong size. Length = 18. Pos = 238, 406.\n",
      "\tAt least one of the images has the wrong size. Length = 3. Pos = 32, 30.\n",
      "\tAt least one of the images has the wrong size. Length = 0. Pos = 8, 226.\n",
      "\tAt least one of the images has the wrong size. Length = 20. Pos = 294, 202.\n",
      "\tAt least one of the images has the wrong size. Length = 19. Pos = 508, 554.\n",
      "\tAt least one of the images has the wrong size. Length = 0. Pos = 260, 1018.\n",
      "\tAt least one of the images has the wrong size. Length = 0. Pos = 842, 18.\n",
      "\tAt least one of the images has the wrong size. Length = 20. Pos = 984, 898.\n",
      "\tAt least one of the images has the wrong size. Length = 0. Pos = 490, 1018.\n",
      "\tAt least one of the images has the wrong size. Length = 0. Pos = 914, 4.\n",
      "\tAt least one of the images has the wrong size. Length = 20. Pos = 610, 712.\n",
      "\tAt least one of the images has the wrong size. Length = 20. Pos = 182, 556.\n"
     ]
    },
    {
     "name": "stderr",
     "output_type": "stream",
     "text": [
      "Cropping non-apo Windows:  82%|███████████████████████████████████████████▌         | 916/1115 [00:06<00:00, 213.59it/s]"
     ]
    },
    {
     "name": "stdout",
     "output_type": "stream",
     "text": [
      "\tAt least one of the images has the wrong size. Length = 19. Pos = 650, 660.\n",
      "\tAt least one of the images has the wrong size. Length = 19. Pos = 510, 554.\n",
      "\tAt least one of the images has the wrong size. Length = 0. Pos = 4, 56.\n",
      "\tAt least one of the images has the wrong size. Length = 20. Pos = 700, 236.\n",
      "\tAt least one of the images has the wrong size. Length = 0. Pos = 148, 1018.\n",
      "\tAt least one of the images has the wrong size. Length = 20. Pos = 166, 88.\n",
      "\tAt least one of the images has the wrong size. Length = 0. Pos = 488, 1018.\n",
      "\tAt least one of the images has the wrong size. Length = 20. Pos = 88, 314.\n",
      "\tAt least one of the images has the wrong size. Length = 19. Pos = 670, 472.\n",
      "\tAt least one of the images has the wrong size. Length = 0. Pos = 1018, 134.\n",
      "\tAt least one of the images has the wrong size. Length = 0. Pos = 1016, 424.\n",
      "\tAt least one of the images has the wrong size. Length = 19. Pos = 852, 746.\n",
      "\tAt least one of the images has the wrong size. Length = 18. Pos = 162, 734.\n",
      "\tAt least one of the images has the wrong size. Length = 20. Pos = 610, 796.\n",
      "\tAt least one of the images has the wrong size. Length = 20. Pos = 628, 830.\n",
      "\tAt least one of the images has the wrong size. Length = 20. Pos = 414, 766.\n",
      "\tAt least one of the images has the wrong size. Length = 17. Pos = 644, 318.\n",
      "\tAt least one of the images has the wrong size. Length = 19. Pos = 576, 514.\n",
      "\tAt least one of the images has the wrong size. Length = 20. Pos = 150, 618.\n",
      "\tAt least one of the images has the wrong size. Length = 18. Pos = 668, 472.\n",
      "\tAt least one of the images has the wrong size. Length = 20. Pos = 970, 248.\n",
      "\tAt least one of the images has the wrong size. Length = 0. Pos = 1018, 550.\n",
      "\tAt least one of the images has the wrong size. Length = 19. Pos = 632, 832.\n",
      "\tAt least one of the images has the wrong size. Length = 20. Pos = 156, 728.\n",
      "\tAt least one of the images has the wrong size. Length = 19. Pos = 550, 764.\n",
      "\tAt least one of the images has the wrong size. Length = 19. Pos = 300, 196.\n",
      "\tAt least one of the images has the wrong size. Length = 20. Pos = 304, 522.\n",
      "\tAt least one of the images has the wrong size. Length = 18. Pos = 534, 46.\n",
      "\tAt least one of the images has the wrong size. Length = 18. Pos = 940, 750.\n",
      "\tAt least one of the images has the wrong size. Length = 20. Pos = 940, 258.\n",
      "\tAt least one of the images has the wrong size. Length = 0. Pos = 470, 1018.\n",
      "\tAt least one of the images has the wrong size. Length = 20. Pos = 786, 596.\n",
      "\tAt least one of the images has the wrong size. Length = 0. Pos = 910, 4.\n",
      "\tAt least one of the images has the wrong size. Length = 19. Pos = 678, 502.\n",
      "\tAt least one of the images has the wrong size. Length = 0. Pos = 350, 1018.\n",
      "\tAt least one of the images has the wrong size. Length = 20. Pos = 182, 786.\n",
      "\tAt least one of the images has the wrong size. Length = 20. Pos = 288, 46.\n",
      "\tAt least one of the images has the wrong size. Length = 19. Pos = 162, 770.\n",
      "\tAt least one of the images has the wrong size. Length = 0. Pos = 1018, 322.\n"
     ]
    },
    {
     "name": "stderr",
     "output_type": "stream",
     "text": [
      "Cropping non-apo Windows:  87%|██████████████████████████████████████████████▎      | 974/1115 [00:06<00:00, 241.93it/s]"
     ]
    },
    {
     "name": "stdout",
     "output_type": "stream",
     "text": [
      "\tAt least one of the images has the wrong size. Length = 19. Pos = 582, 472.\n",
      "\tAt least one of the images has the wrong size. Length = 19. Pos = 404, 760.\n",
      "\tAt least one of the images has the wrong size. Length = 0. Pos = 214, 1018.\n",
      "\tAt least one of the images has the wrong size. Length = 0. Pos = 58, 1018.\n",
      "\tAt least one of the images has the wrong size. Length = 0. Pos = 962, 1018.\n",
      "\tAt least one of the images has the wrong size. Length = 0. Pos = 18, 848.\n",
      "\tAt least one of the images has the wrong size. Length = 19. Pos = 708, 120.\n",
      "\tAt least one of the images has the wrong size. Length = 0. Pos = 4, 280.\n",
      "\tAt least one of the images has the wrong size. Length = 0. Pos = 966, 4.\n",
      "\tAt least one of the images has the wrong size. Length = 0. Pos = 348, 1004.\n",
      "\tAt least one of the images has the wrong size. Length = 19. Pos = 940, 262.\n",
      "\tAt least one of the images has the wrong size. Length = 0. Pos = 1018, 322.\n",
      "\tAt least one of the images has the wrong size. Length = 19. Pos = 496, 142.\n",
      "\tAt least one of the images has the wrong size. Length = 19. Pos = 376, 196.\n",
      "\tAt least one of the images has the wrong size. Length = 19. Pos = 286, 220.\n",
      "\tAt least one of the images has the wrong size. Length = 19. Pos = 100, 800.\n",
      "\tAt least one of the images has the wrong size. Length = 0. Pos = 1018, 498.\n",
      "\tAt least one of the images has the wrong size. Length = 20. Pos = 600, 350.\n",
      "\tAt least one of the images has the wrong size. Length = 0. Pos = 204, 1018.\n",
      "\tAt least one of the images has the wrong size. Length = 0. Pos = 352, 1010.\n",
      "\tAt least one of the images has the wrong size. Length = 0. Pos = 504, 10.\n",
      "\tAt least one of the images has the wrong size. Length = 0. Pos = 766, 1018.\n",
      "\tAt least one of the images has the wrong size. Length = 0. Pos = 12, 742.\n",
      "\tAt least one of the images has the wrong size. Length = 0. Pos = 1018, 558.\n",
      "\tAt least one of the images has the wrong size. Length = 0. Pos = 4, 280.\n",
      "\tAt least one of the images has the wrong size. Length = 20. Pos = 158, 720.\n",
      "\tAt least one of the images has the wrong size. Length = 18. Pos = 380, 204.\n",
      "\tAt least one of the images has the wrong size. Length = 20. Pos = 420, 620.\n",
      "\tAt least one of the images has the wrong size. Length = 16. Pos = 752, 926.\n",
      "\tAt least one of the images has the wrong size. Length = 0. Pos = 622, 4.\n",
      "\tAt least one of the images has the wrong size. Length = 20. Pos = 956, 962.\n",
      "\tAt least one of the images has the wrong size. Length = 20. Pos = 100, 564.\n",
      "\tAt least one of the images has the wrong size. Length = 19. Pos = 944, 312.\n",
      "\tAt least one of the images has the wrong size. Length = 0. Pos = 486, 1010.\n",
      "\tAt least one of the images has the wrong size. Length = 20. Pos = 652, 814.\n",
      "\tAt least one of the images has the wrong size. Length = 19. Pos = 90, 582.\n"
     ]
    },
    {
     "name": "stderr",
     "output_type": "stream",
     "text": [
      "Cropping non-apo Windows:  92%|███████████████████████████████████████████████▋    | 1023/1115 [00:06<00:00, 221.16it/s]"
     ]
    },
    {
     "name": "stdout",
     "output_type": "stream",
     "text": [
      "\tAt least one of the images has the wrong size. Length = 0. Pos = 10, 844.\n",
      "\tAt least one of the images has the wrong size. Length = 20. Pos = 254, 378.\n",
      "\tAt least one of the images has the wrong size. Length = 19. Pos = 544, 890.\n",
      "\tAt least one of the images has the wrong size. Length = 11. Pos = 472, 992.\n",
      "\tAt least one of the images has the wrong size. Length = 0. Pos = 1018, 58.\n",
      "\tAt least one of the images has the wrong size. Length = 19. Pos = 268, 540.\n",
      "\tAt least one of the images has the wrong size. Length = 19. Pos = 760, 536.\n",
      "\tAt least one of the images has the wrong size. Length = 6. Pos = 34, 720.\n",
      "\tAt least one of the images has the wrong size. Length = 16. Pos = 452, 982.\n",
      "\tAt least one of the images has the wrong size. Length = 0. Pos = 1018, 502.\n",
      "\tAt least one of the images has the wrong size. Length = 0. Pos = 382, 1018.\n",
      "\tAt least one of the images has the wrong size. Length = 0. Pos = 764, 1018.\n",
      "\tAt least one of the images has the wrong size. Length = 13. Pos = 474, 992.\n",
      "\tAt least one of the images has the wrong size. Length = 20. Pos = 450, 600.\n",
      "\tAt least one of the images has the wrong size. Length = 0. Pos = 12, 842.\n",
      "\tAt least one of the images has the wrong size. Length = 20. Pos = 620, 344.\n",
      "\tAt least one of the images has the wrong size. Length = 20. Pos = 512, 550.\n",
      "\tAt least one of the images has the wrong size. Length = 2. Pos = 450, 1000.\n",
      "\tAt least one of the images has the wrong size. Length = 19. Pos = 270, 542.\n",
      "\tAt least one of the images has the wrong size. Length = 20. Pos = 966, 290.\n",
      "\tAt least one of the images has the wrong size. Length = 20. Pos = 572, 862.\n",
      "\tAt least one of the images has the wrong size. Length = 20. Pos = 960, 624.\n",
      "\tAt least one of the images has the wrong size. Length = 0. Pos = 1018, 328.\n",
      "\tAt least one of the images has the wrong size. Length = 19. Pos = 258, 374.\n"
     ]
    },
    {
     "name": "stderr",
     "output_type": "stream",
     "text": [
      "Cropping non-apo Windows:  96%|█████████████████████████████████████████████████▊  | 1068/1115 [00:06<00:00, 198.05it/s]"
     ]
    },
    {
     "name": "stdout",
     "output_type": "stream",
     "text": [
      "\tAt least one of the images has the wrong size. Length = 19. Pos = 342, 544.\n",
      "\tAt least one of the images has the wrong size. Length = 19. Pos = 308, 694.\n",
      "\tAt least one of the images has the wrong size. Length = 20. Pos = 182, 784.\n",
      "\tAt least one of the images has the wrong size. Length = 19. Pos = 260, 404.\n",
      "\tAt least one of the images has the wrong size. Length = 0. Pos = 12, 744.\n",
      "\tAt least one of the images has the wrong size. Length = 20. Pos = 662, 480.\n",
      "\tAt least one of the images has the wrong size. Length = 20. Pos = 84, 800.\n",
      "\tAt least one of the images has the wrong size. Length = 19. Pos = 620, 346.\n",
      "\tAt least one of the images has the wrong size. Length = 0. Pos = 1018, 508.\n",
      "\tAt least one of the images has the wrong size. Length = 20. Pos = 302, 586.\n",
      "\tAt least one of the images has the wrong size. Length = 18. Pos = 290, 184.\n",
      "\tAt least one of the images has the wrong size. Length = 20. Pos = 378, 154.\n",
      "\tAt least one of the images has the wrong size. Length = 19. Pos = 262, 374.\n",
      "\tAt least one of the images has the wrong size. Length = 0. Pos = 1018, 332.\n",
      "\tAt least one of the images has the wrong size. Length = 19. Pos = 752, 918.\n",
      "\tAt least one of the images has the wrong size. Length = 20. Pos = 508, 548.\n",
      "\tAt least one of the images has the wrong size. Length = 20. Pos = 600, 678.\n",
      "\tAt least one of the images has the wrong size. Length = 19. Pos = 940, 240.\n",
      "\tAt least one of the images has the wrong size. Length = 0. Pos = 28, 72.\n",
      "\tAt least one of the images has the wrong size. Length = 0. Pos = 624, 4.\n",
      "\tAt least one of the images has the wrong size. Length = 0. Pos = 784, 1012.\n",
      "\tAt least one of the images has the wrong size. Length = 0. Pos = 1018, 330.\n"
     ]
    },
    {
     "name": "stderr",
     "output_type": "stream",
     "text": [
      "Cropping non-apo Windows: 100%|████████████████████████████████████████████████████| 1115/1115 [00:07<00:00, 157.10it/s]"
     ]
    },
    {
     "name": "stdout",
     "output_type": "stream",
     "text": [
      "\tAt least one of the images has the wrong size. Length = 20. Pos = 434, 606.\n",
      "\tAt least one of the images has the wrong size. Length = 20. Pos = 258, 60.\n",
      "\tAt least one of the images has the wrong size. Length = 18. Pos = 964, 292.\n",
      "\tAt least one of the images has the wrong size. Length = 17. Pos = 82, 606.\n",
      "\tAt least one of the images has the wrong size. Length = 20. Pos = 362, 592.\n",
      "\tAt least one of the images has the wrong size. Length = 0. Pos = 1004, 1018.\n",
      "\tAt least one of the images has the wrong size. Length = 0. Pos = 380, 1018.\n",
      "\tAt least one of the images has the wrong size. Length = 0. Pos = 24, 68.\n",
      "\tAt least one of the images has the wrong size. Length = 20. Pos = 856, 778.\n",
      "\tAt least one of the images has the wrong size. Length = 16. Pos = 398, 746.\n",
      "\tAt least one of the images has the wrong size. Length = 20. Pos = 300, 688.\n",
      "\tAt least one of the images has the wrong size. Length = 19. Pos = 308, 602.\n",
      "\tAt least one of the images has the wrong size. Length = 20. Pos = 166, 716.\n",
      "\tAt least one of the images has the wrong size. Length = 0. Pos = 12, 864.\n",
      "\tAt least one of the images has the wrong size. Length = 19. Pos = 552, 754.\n",
      "\tAt least one of the images has the wrong size. Length = 0. Pos = 854, 1018.\n",
      "\tAt least one of the images has the wrong size. Length = 16. Pos = 406, 762.\n",
      "\tAt least one of the images has the wrong size. Length = 0. Pos = 1018, 330.\n",
      "\tAt least one of the images has the wrong size. Length = 20. Pos = 456, 988.\n",
      "\tAt least one of the images has the wrong size. Length = 0. Pos = 4, 126.\n",
      "\tAt least one of the images has the wrong size. Length = 19. Pos = 290, 220.\n",
      "\tAt least one of the images has the wrong size. Length = 0. Pos = 10, 926.\n",
      "\tAt least one of the images has the wrong size. Length = 20. Pos = 320, 568.\n",
      "\tAt least one of the images has the wrong size. Length = 17. Pos = 854, 778.\n",
      "\tAt least one of the images has the wrong size. Length = 20. Pos = 404, 762.\n",
      "\tAt least one of the images has the wrong size. Length = 18. Pos = 354, 588.\n",
      "\tAt least one of the images has the wrong size. Length = 0. Pos = 1018, 376.\n",
      "\tAt least one of the images has the wrong size. Length = 20. Pos = 58, 574.\n",
      "\tAt least one of the images has the wrong size. Length = 20. Pos = 986, 946.\n",
      "\tAt least one of the images has the wrong size. Length = 20. Pos = 72, 166.\n",
      "Starting cropping for random locations.\n"
     ]
    },
    {
     "name": "stderr",
     "output_type": "stream",
     "text": [
      "\n"
     ]
    }
   ],
   "source": [
    "for path, filename in zip(image_paths, filenames):\n",
    "# Create btrack objects (with properties) from the segmentation data\n",
    "    # By setting properties=('area',) the tracking algorithm takes into account the mask's area in addition to x/y.\n",
    "    # By setting assign_class_ID=True adds the object ID that will be used later in merging tracking results with the dfProp table.\n",
    "    print(f'Starting tracking for: {filename}')\n",
    "    btObj = btrack.utils.segmentation_to_objects(\n",
    "            gt_filtered, properties=(\"area\",), assign_class_ID=True\n",
    "    )\n",
    "    _, fovY, fovX = gt_filtered.shape\n",
    "\n",
    "    with btrack.BayesianTracker() as tracker:\n",
    "        # configure the tracker using a config JSON file\n",
    "        tracker.configure(BT_CONFIG_FILE)\n",
    "        tracker.update_method = BayesianUpdates.APPROXIMATE\n",
    "        tracker.max_search_radius = EPS_TRACK\n",
    "    \n",
    "        # append the objects to be tracked\n",
    "        tracker.append(btObj)\n",
    "    \n",
    "        # set the volume (Z axis volume limits default to [-1e5, 1e5] for 2D data)\n",
    "        tracker.volume = ((0, fovX), (0, fovY))\n",
    "    \n",
    "        # track them (in interactive mode)\n",
    "        tracker.track_interactive(step_size=100)\n",
    "    \n",
    "        # generate hypotheses and run the global optimizer\n",
    "        tracker.optimize()\n",
    "    \n",
    "        # get the tracks as a python list\n",
    "        btTracks = tracker.tracks\n",
    "\n",
    "\n",
    "    dfBTracks = pd.concat(pd.DataFrame(t.to_dict([\"ID\", \"t\", \"x\", \"y\"])) for t in btTracks)\n",
    "\n",
    "    dfBTracks.rename(\n",
    "        columns={\n",
    "            \"ID\": \"track_id\",\n",
    "            \"t\": \"t\",\n",
    "            \"x\": \"x\",\n",
    "            \"y\": \"y\",\n",
    "            \"class_id\": \"obj_id\"\n",
    "        }, inplace = True\n",
    "    )\n",
    "\n",
    "    dfBTracks[\"obj_id\"] = dfBTracks[\"obj_id\"].astype(\"Int32\")\n",
    "\n",
    "    print(\"\\t Tracking done.\\n\")\n",
    "\n",
    "    print(\"Start merging btrack output with stardist output.\")\n",
    "    merged_df = summary_df.merge(dfBTracks.drop(columns=[\"x\", \"y\", \"area\"]), on=[\"obj_id\", \"t\"], how=\"left\")\n",
    "    merged_df_long = merged_df[merged_df.groupby(\"track_id\")[\"track_id\"].transform('size') >= TRK_MIN_LEN]\n",
    "    print(\"\\tDone!\\n\")\n",
    "\n",
    "    print(\"Converting Obj_IDs to Track_IDs in stardist masks.\")\n",
    "    mappings = []\n",
    "    tracked_masks = np.zeros_like(gt_filtered)\n",
    "    for t, mask_frame in enumerate(gt_filtered):\n",
    "        current_df = merged_df[merged_df['t'] == t]\n",
    "        obj_to_track = current_df.set_index('obj_id')['track_id'].to_dict()\n",
    "        mappings.append(obj_to_track)\n",
    "        \n",
    "        for obj_id, track_id in obj_to_track.items():\n",
    "            tracked_masks[t][mask_frame == obj_id] = track_id\n",
    "            \n",
    "    # Create dict with switched key value pairs (value becomes key)\n",
    "    rev_mappings = []\n",
    "    for obj_to_track in mappings:\n",
    "        track_to_obj = {y: x for x, y in obj_to_track.items()}\n",
    "        rev_mappings.append(track_to_obj)\n",
    "    print(\"\\tDone!\\n\")\n",
    "\n",
    "\n",
    "    ## Match manual and stardist annotations\n",
    "    print(\"Matching manual and stardist annotations\")\n",
    "    # Read CSV with manual apoptosis annotations \n",
    "    apo_file = os.path.join(APO_DIR, f'{filename}.csv')\n",
    "    apo_annotations = pd.read_csv(apo_file, header=None, names=['filename', 'x', 'y', 't'])\n",
    "\n",
    "    # Match handmade annotations with stardist detections\n",
    "    delta_ts = []\n",
    "    corresponding_objs = []\n",
    "    corresponding_tracks = []\n",
    "    strdst_x = []\n",
    "    strdst_y = []\n",
    "    for _, row in tqdm(apo_annotations.iterrows(), total=len(apo_annotations), desc=\"Processing Annotations\"):\n",
    "        t, x, y = int(row['t']), int(row['x']), int(row['y'])\n",
    "        centroids = details[t]['points']\n",
    "        # Convert to NumPy array\n",
    "        centroids = np.array(centroids)  # Shape: (N, 2)\n",
    "        \n",
    "        # Compute L2 norm (Euclidean distance)\n",
    "        distances = np.linalg.norm(centroids - np.array([x, y]), axis=1)\n",
    "\n",
    "        match_index = np.argmin(distances)    \n",
    "        match_centroid = centroids[match_index]\n",
    "        #strdst_x.append(match_centroid[1])\n",
    "        #strdst_y.append(match_centroid[0])\n",
    "        alt_distance_to_paolo = distances[match_index]\n",
    "        dist_alt_matching.append(alt_distance_to_paolo)\n",
    "\n",
    "        \n",
    "        # Perfect match\n",
    "        if tracked_masks[t, y, x] != 0:\n",
    "            corresponding_tracks.append(tracked_masks[t, y, x])\n",
    "            corresponding_objs.append(gt_filtered[t, y, x])\n",
    "            delta_ts.append(0)\n",
    "            num_matches += 1\n",
    "        # Also search previous and coming frames if position is background at time t\n",
    "        else:\n",
    "            t_start = max(0, t-3)\n",
    "            t_end = min(t+3+1, tracked_masks.shape[0])\n",
    "            previous_frames = tracked_masks[t_start:t_end, y, x]\n",
    "            if previous_frames.size > 0:\n",
    "                counts = np.bincount(previous_frames)\n",
    "                match_id = np.argmax(counts)\n",
    "            else:\n",
    "                match_id = 0 \n",
    "\n",
    "            if match_id == 0:\n",
    "                num_mismatches += 1\n",
    "            else:\n",
    "                num_matches += 1\n",
    "            \n",
    "            for delta in [0, 1, -1, 2, -2, 3, -3]:\n",
    "                if (t + delta) in range(t_start, t_end):\n",
    "                    if tracked_masks[t + delta, y, x] == match_id:\n",
    "                        corresponding_tracks.append(match_id)\n",
    "                        corresponding_objs.append(gt_filtered[t + delta, y, x])\n",
    "                        delta_ts.append(delta)\n",
    "                        break\n",
    "                            \n",
    "        # Extract centroid of best matching object\n",
    "        centroids = details[t + delta_ts[-1]]['points']\n",
    "        match_centroid = centroids[corresponding_objs[-1]-1] if corresponding_objs[-1] > 0 else (9999, 9999)\n",
    "        strdst_x.append(match_centroid[1])\n",
    "        strdst_y.append(match_centroid[0])\n",
    "        # Euclidean distance, used for plotting and validation\n",
    "        distance_to_paolo = np.sqrt(((match_centroid[1]- row['x'])**2 + (match_centroid[0] - row['y'])**2))\n",
    "        dist_paolo_stardist.append(distance_to_paolo)\n",
    "\n",
    "    # Add object ID and centroids to apo annotation dataframe    \n",
    "    apo_annotations['matching_object'] = corresponding_objs\n",
    "    apo_annotations['matching_track'] = corresponding_tracks\n",
    "    apo_annotations['strdst_x'] = strdst_x\n",
    "    apo_annotations['strdst_y'] = strdst_y\n",
    "    apo_annotations['delta_ts'] = delta_ts\n",
    "\n",
    "    # Save again as CSV with added stardist centroids      \n",
    "    #apo_annotations.to_csv(os.path.join(CSV_DIR, f'{filename}.csv'), index=False)\n",
    "\n",
    "    # Save summary df as CSV\n",
    "    #summary_df.to_csv(os.path.join(DF_DIR, f'{filename}_pd_df.csv'), index=False)\n",
    "\n",
    "    # Save labels\n",
    "    #if SAVE_MASKS:\n",
    "    #    mask_path = os.path.join(MASK_DIR, f'{filename}.npz')\n",
    "    #    np.savez_compressed(mask_path, gt=gt_filtered)\n",
    "    print(\"\\tMatching finished.\\n\")\n",
    "\n",
    "\n",
    "    # Load images to extract windows\n",
    "    imgs = load_image_stack(os.path.join(IMG_DIR, f'{filename}.tif'))\n",
    "    \n",
    "    # Counter so we can sample same amount of random tracks as apoptotic\n",
    "    num_random_tracks = 0 \n",
    "\n",
    "    # Vars for window cropping\n",
    "    num_frames = MAX_TRACKING_DURATION // acquisition_freq\n",
    "    WINDOW_SIZE = 61\n",
    "    target_size = WINDOW_SIZE if WINDOW_SIZE%2 != 0 else WINDOW_SIZE + 1\n",
    "    merged_df_long.loc[:, 'apoptotic'] = 0\n",
    "\n",
    "    apo_track_ids = pd.DataFrame(columns=['track_id', 'apo_start_t'])\n",
    "    \n",
    "    print('Starting cropping for apo cells.')\n",
    "    for i, row in tqdm(apo_annotations.iterrows(), total=len(apo_annotations), desc=\"Processing Annotations\"):\n",
    "        current_track_id = row.loc['matching_track']\n",
    "        current_t = row.loc['t'] + row.loc['delta_ts']\n",
    "\n",
    "        apo_track_ids.loc[i, 'track_id'] = current_track_id\n",
    "        apo_track_ids.loc[i, 'apo_start_t'] = current_t\n",
    "\n",
    "        #current_track_id = current_track_id.squeeze()\n",
    "        if not np.isscalar(current_track_id):\n",
    "            current_track_id = current_track_id.iloc[0]\n",
    "\n",
    "        \n",
    "        single_cell_df = merged_df_long.loc[(merged_df_long['track_id'] == current_track_id) & (merged_df_long['t'] >= current_t)]\n",
    "        if len(single_cell_df) < num_frames + 1:\n",
    "            print(f\"\\tSkipping current track: {current_track_id}. Reason: Track lost too quickly after anno.\")\n",
    "            continue\n",
    "        \n",
    "        # Count track length after manual apoptosis annotation (for histogram later)\n",
    "        num_entries = single_cell_df.shape[0]\n",
    "        survival_times.append(num_entries)\n",
    "\n",
    "        # merged_df_long.loc[single_cell_df.index, 'apoptotic'] = 1\n",
    "        merged_df_long.loc[(merged_df_long['track_id'] == current_track_id) & (merged_df_long['t'] >= current_t), 'apoptotic'] = 1\n",
    "        single_cell_df = single_cell_df.loc[single_cell_df['t'] < current_t + num_frames + step]\n",
    "        \n",
    "        \n",
    "        windows = []\n",
    "        ### TODO: put to variables\n",
    "        for _, sc_row in single_cell_df.iterrows():\n",
    "            window = crop_window(imgs[int(sc_row['t'])], int(sc_row['x']), int(sc_row['y']), WINDOW_SIZE)\n",
    "            if window.shape == (target_size, target_size):    ### This is a bit dangerous! can mess up time if we simply leave a window out\n",
    "                windows.append(window)\n",
    "            else:\n",
    "                windows.append(None)\n",
    "\n",
    "\n",
    "        chosen_offset = None\n",
    "        for offset in range(step):\n",
    "            sub_windows = windows[offset::step]\n",
    "            if all(x is not None for x in sub_windows):  \n",
    "                chosen_offset = offset\n",
    "                break  # Stop as soon as a valid sequence is found\n",
    "\n",
    "        if chosen_offset is None:\n",
    "            print(\"No valid start point found.\")\n",
    "        else:\n",
    "            sub_windows = windows[chosen_offset::step]\n",
    "            sub_windows = np.asarray(sub_windows)\n",
    "            if len(sub_windows) == (MAX_TRACKING_DURATION // step) + 1:\n",
    "                tiff.imwrite(os.path.join(CROPS_DIR, filename, f'trackID_{current_track_id}.tif'), sub_windows)\n",
    "                tiff.imwrite(os.path.join(WINDOWS_DIR, 'apo', f'apo_{filename}_{i}.tif'), sub_windows)\n",
    "                num_random_tracks += 1\n",
    "            else:\n",
    "                print(f'\\tAt least one of the images has the wrong size after cropping and could not be used. Length = {len(windows)}.')\n",
    "            \n",
    "\n",
    "    print('Starting cropping for non-apo cells.')\n",
    "    # Get crops of healthy cells\n",
    "    long_no_apo_df = merged_df_long[merged_df_long['apoptotic'] == 0]\n",
    "\n",
    "    \n",
    "    unique_track_ids = np.unique(long_no_apo_df['track_id'])\n",
    "\n",
    "    \n",
    "    for i, track_id in tqdm(enumerate(unique_track_ids), total=len(unique_track_ids), desc=\"Cropping non-apo Windows\"):\n",
    "        single_cell_df = long_no_apo_df.loc[long_no_apo_df['track_id'] == track_id]\n",
    "        start_t = min(single_cell_df['t'])\n",
    "        # same length as for apoptotic cells\n",
    "        single_cell_df = single_cell_df.loc[single_cell_df['t'] <= start_t + num_frames]\n",
    "        windows = []\n",
    "        for _, sc_row in single_cell_df.iterrows():\n",
    "            window = crop_window(imgs[int(sc_row['t'])], int(sc_row['x']), int(sc_row['y']), WINDOW_SIZE)\n",
    "            if window.shape == (target_size, target_size):    ### This is a bit dangerous! can mess up time if we simply leave a window out\n",
    "                windows.append(window)\n",
    "\n",
    "        if len(windows) == (MAX_TRACKING_DURATION) + 1:\n",
    "            windows = np.asarray(windows)\n",
    "            tiff.imwrite(os.path.join(CROPS_DIR, f'no_apo_{filename}', f'trackID_{track_id}.tif'), windows[::step])\n",
    "            tiff.imwrite(os.path.join(WINDOWS_DIR, 'no_apo', f'no_apo_{filename}_{i}.tif'), windows[::step])\n",
    "        else:\n",
    "            print(f'\\tAt least one of the images has the wrong size. Length = {len(windows)}. Pos = {sc_row[\"x\"]}, {sc_row[\"y\"]}.')\n",
    "\n",
    "    \n",
    "    # Gather random crops \n",
    "    ### I think this could be problematic, oftentimes is full of cells so not really background or negative\n",
    "    ### TODO Check that no apoptotic cell is in window\n",
    "    print('Starting cropping for random locations.')\n",
    "\n",
    "    # Assuming imgs is a list/array of your image frames,\n",
    "    # and each image has dimensions: img_height x img_width\n",
    "    img_height, img_width = imgs[0].shape\n",
    "    \n",
    "    # Create a directory for random crops if needed\n",
    "    RANDOM_DIR = os.path.join(WINDOWS_DIR, 'random')\n",
    "    os.makedirs(RANDOM_DIR, exist_ok=True)\n",
    "\n",
    "    iter_count = 0\n",
    "    crop_count = 0\n",
    "    while (crop_count <= num_random_tracks) & (iter_count <= 100):    # Iter count only to stop runaway code\n",
    "    # for track in range(num_random_tracks):\n",
    "        # Randomly choose a start time such that the track fits in your image sequence\n",
    "        start_t = np.random.randint(0, len(imgs) - num_frames)\n",
    "        \n",
    "        # Randomly generate valid (x, y) coordinates for the crop center\n",
    "        random_x = np.random.randint(WINDOW_SIZE//2, img_width - WINDOW_SIZE//2)\n",
    "        random_y = np.random.randint(WINDOW_SIZE//2, img_height - WINDOW_SIZE//2)\n",
    "        \n",
    "        windows = []\n",
    "        # Extract a window for each frame in the track duration\n",
    "        for t in range(start_t, start_t + num_frames + 1, step):\n",
    "            window = crop_window(imgs[t], random_x, random_y, WINDOW_SIZE)\n",
    "            track_id_mask_crop = crop_window(tracked_masks[t], random_x, random_y, WINDOW_SIZE)\n",
    "            present_track_ids = track_id_mask_crop.flatten().tolist()\n",
    "            \n",
    "\n",
    "            ### Continue here\n",
    "            current_apo_track_ids = apo_track_ids.loc[apo_track_ids['apo_start_t'] <= t]\n",
    "            current_apo_ids = set(current_apo_track_ids['track_id'])\n",
    "\n",
    "            \n",
    "            if not any(pixel in current_apo_track_ids for pixel in present_track_ids) and (window.shape == (target_size, target_size)):\n",
    "                windows.append(window)\n",
    "            else:\n",
    "                print(f\"Frame {t}: Invalid window, skipping.\")\n",
    "\n",
    "            \n",
    "            #if window.shape == (target_size, target_size):\n",
    "            #    windows.append(window)\n",
    "            #else:\n",
    "            #    print(f\"Frame {t}: Invalid window, skipping.\")\n",
    "    \n",
    "        if len(windows) == (MAX_TRACKING_DURATION//FRAME_INTERVAL) + 1:\n",
    "            windows = np.asarray(windows)\n",
    "            tiff.imwrite(os.path.join(CROPS_DIR, f'random_{filename}', f'ID_{crop_count}.tif'), windows)\n",
    "            tiff.imwrite(os.path.join(RANDOM_DIR, f'random_{filename}_{crop_count}.tif'), windows)\n",
    "            crop_count += 1\n",
    "            iter_count += 1\n",
    "        else:\n",
    "            print(f'\\tAt least one of the images has the wrong size. Length = {len(windows)}')\n",
    "            iter_count += 1"
   ]
  },
  {
   "cell_type": "code",
   "execution_count": null,
   "metadata": {},
   "outputs": [],
   "source": []
  },
  {
   "cell_type": "markdown",
   "metadata": {},
   "source": [
    "### First all in one approach"
   ]
  },
  {
   "cell_type": "code",
   "execution_count": 34,
   "metadata": {
    "scrolled": true
   },
   "outputs": [
    {
     "name": "stdout",
     "output_type": "stream",
     "text": [
      "['Exp01_Site01']\n",
      "Found model '2D_versatile_fluo' for 'StarDist2D'.\n",
      "Loading network weights from 'weights_best.h5'.\n",
      "Loading thresholds from 'thresholds.json'.\n",
      "Using default values: prob_thresh=0.479071, nms_thresh=0.3.\n"
     ]
    },
    {
     "name": "stderr",
     "output_type": "stream",
     "text": [
      "functional.py (237): The structure of `inputs` doesn't match the expected structure.           | 0/1441 [00:00<?, ?it/s]\n",
      "Expected: ['input']\n",
      "Received: inputs=Tensor(shape=(1, 256, 256, 1))\n",
      "functional.py (237): The structure of `inputs` doesn't match the expected structure.\n",
      "Expected: ['input']\n",
      "Received: inputs=Tensor(shape=(1, None, None, 1))\n",
      "100%|███████████████████████████████████████████████████████████████████████████████| 1441/1441 [13:17<00:00,  1.81it/s]\n",
      "[INFO][2025/03/14 05:33:48 PM] Localizing objects from segmentation...\n",
      "INFO:btrack.io._localization | Localizing objects from segmentation...\n",
      "100%|███████████████████████████████████████████████████████████████████████████████| 1441/1441 [01:46<00:00, 13.50it/s]\n",
      "[INFO][2025/03/14 05:35:35 PM] Objects are of type: <class 'dict'>\n",
      "INFO:btrack.io.utils | Objects are of type: <class 'dict'>\n",
      "[INFO][2025/03/14 05:35:39 PM] ...Found 612856 objects in 1441 frames.\n",
      "INFO:btrack.io._localization | ...Found 612856 objects in 1441 frames.\n",
      "[INFO][2025/03/14 05:35:39 PM] Loaded btrack: /home/nbahou/miniforge3/envs/ERK_gpu/lib/python3.10/site-packages/btrack/libs/libtracker.so\n",
      "INFO:btrack.libwrapper | Loaded btrack: /home/nbahou/miniforge3/envs/ERK_gpu/lib/python3.10/site-packages/btrack/libs/libtracker.so\n",
      "[INFO][2025/03/14 05:35:39 PM] Starting BayesianTracker session\n",
      "INFO:btrack.core | Starting BayesianTracker session\n",
      "[INFO][2025/03/14 05:35:39 PM] Loading configuration file: extras/cell_config.json\n",
      "INFO:btrack.config | Loading configuration file: extras/cell_config.json\n",
      "[INFO][2025/03/14 05:35:39 PM] Objects are of type: <class 'list'>\n",
      "INFO:btrack.io.utils | Objects are of type: <class 'list'>\n",
      "[WARNING][2025/03/14 05:35:40 PM] `track_interactive` will be deprecated. Use `track` instead.\n",
      "WARNING:btrack.core | `track_interactive` will be deprecated. Use `track` instead.\n",
      "[INFO][2025/03/14 05:35:40 PM] Starting tracking... \n",
      "INFO:btrack.core | Starting tracking... \n",
      "[INFO][2025/03/14 05:35:40 PM] Update using: ['MOTION']\n",
      "INFO:btrack.core | Update using: ['MOTION']\n",
      "[INFO][2025/03/14 05:35:40 PM] Tracking objects in frames 0 to 99 (of 1441)...\n",
      "INFO:btrack.core | Tracking objects in frames 0 to 99 (of 1441)...\n",
      "[INFO][2025/03/14 05:35:41 PM]  - Timing (Bayesian updates: 3.91ms, Linking: 1.76ms)\n",
      "INFO:btrack.utils |  - Timing (Bayesian updates: 3.91ms, Linking: 1.76ms)\n",
      "[INFO][2025/03/14 05:35:41 PM]  - Probabilities (Link: 1.00000, Lost: 1.00000)\n",
      "INFO:btrack.utils |  - Probabilities (Link: 1.00000, Lost: 1.00000)\n",
      "[INFO][2025/03/14 05:35:41 PM]  - Stats (Active: 448, Lost: 2073, Conflicts resolved: 24)\n",
      "INFO:btrack.utils |  - Stats (Active: 448, Lost: 2073, Conflicts resolved: 24)\n",
      "[INFO][2025/03/14 05:35:41 PM] Tracking objects in frames 100 to 199 (of 1441)...\n",
      "INFO:btrack.core | Tracking objects in frames 100 to 199 (of 1441)...\n",
      "[INFO][2025/03/14 05:35:41 PM]  - Timing (Bayesian updates: 3.84ms, Linking: 1.79ms)\n",
      "INFO:btrack.utils |  - Timing (Bayesian updates: 3.84ms, Linking: 1.79ms)\n",
      "[INFO][2025/03/14 05:35:41 PM]  - Probabilities (Link: 1.00000, Lost: 0.67601)\n",
      "INFO:btrack.utils |  - Probabilities (Link: 1.00000, Lost: 0.67601)\n",
      "[INFO][2025/03/14 05:35:41 PM]  - Stats (Active: 441, Lost: 3981, Conflicts resolved: 39)\n",
      "INFO:btrack.utils |  - Stats (Active: 441, Lost: 3981, Conflicts resolved: 39)\n",
      "[INFO][2025/03/14 05:35:41 PM] Tracking objects in frames 200 to 299 (of 1441)...\n",
      "INFO:btrack.core | Tracking objects in frames 200 to 299 (of 1441)...\n",
      "[INFO][2025/03/14 05:35:42 PM]  - Timing (Bayesian updates: 4.04ms, Linking: 1.91ms)\n",
      "INFO:btrack.utils |  - Timing (Bayesian updates: 4.04ms, Linking: 1.91ms)\n",
      "[INFO][2025/03/14 05:35:42 PM]  - Probabilities (Link: 1.00000, Lost: 1.00000)\n",
      "INFO:btrack.utils |  - Probabilities (Link: 1.00000, Lost: 1.00000)\n",
      "[INFO][2025/03/14 05:35:42 PM]  - Stats (Active: 457, Lost: 6165, Conflicts resolved: 69)\n",
      "INFO:btrack.utils |  - Stats (Active: 457, Lost: 6165, Conflicts resolved: 69)\n",
      "[INFO][2025/03/14 05:35:42 PM] Tracking objects in frames 300 to 399 (of 1441)...\n",
      "INFO:btrack.core | Tracking objects in frames 300 to 399 (of 1441)...\n",
      "[INFO][2025/03/14 05:35:42 PM]  - Timing (Bayesian updates: 3.87ms, Linking: 1.86ms)\n",
      "INFO:btrack.utils |  - Timing (Bayesian updates: 3.87ms, Linking: 1.86ms)\n",
      "[INFO][2025/03/14 05:35:42 PM]  - Probabilities (Link: 1.00000, Lost: 1.00000)\n",
      "INFO:btrack.utils |  - Probabilities (Link: 1.00000, Lost: 1.00000)\n",
      "[INFO][2025/03/14 05:35:42 PM]  - Stats (Active: 453, Lost: 9460, Conflicts resolved: 110)\n",
      "INFO:btrack.utils |  - Stats (Active: 453, Lost: 9460, Conflicts resolved: 110)\n",
      "[INFO][2025/03/14 05:35:42 PM] Tracking objects in frames 400 to 499 (of 1441)...\n",
      "INFO:btrack.core | Tracking objects in frames 400 to 499 (of 1441)...\n",
      "[INFO][2025/03/14 05:35:43 PM]  - Timing (Bayesian updates: 3.94ms, Linking: 1.88ms)\n",
      "INFO:btrack.utils |  - Timing (Bayesian updates: 3.94ms, Linking: 1.88ms)\n",
      "[INFO][2025/03/14 05:35:43 PM]  - Probabilities (Link: 1.00000, Lost: 1.00000)\n",
      "INFO:btrack.utils |  - Probabilities (Link: 1.00000, Lost: 1.00000)\n",
      "[INFO][2025/03/14 05:35:43 PM]  - Stats (Active: 458, Lost: 14116, Conflicts resolved: 153)\n",
      "INFO:btrack.utils |  - Stats (Active: 458, Lost: 14116, Conflicts resolved: 153)\n",
      "[INFO][2025/03/14 05:35:43 PM] Tracking objects in frames 500 to 599 (of 1441)...\n",
      "INFO:btrack.core | Tracking objects in frames 500 to 599 (of 1441)...\n",
      "[INFO][2025/03/14 05:35:44 PM]  - Timing (Bayesian updates: 3.93ms, Linking: 1.82ms)\n",
      "INFO:btrack.utils |  - Timing (Bayesian updates: 3.93ms, Linking: 1.82ms)\n",
      "[INFO][2025/03/14 05:35:44 PM]  - Probabilities (Link: 1.00000, Lost: 0.83601)\n",
      "INFO:btrack.utils |  - Probabilities (Link: 1.00000, Lost: 0.83601)\n",
      "[INFO][2025/03/14 05:35:44 PM]  - Stats (Active: 455, Lost: 17831, Conflicts resolved: 179)\n",
      "INFO:btrack.utils |  - Stats (Active: 455, Lost: 17831, Conflicts resolved: 179)\n",
      "[INFO][2025/03/14 05:35:44 PM] Tracking objects in frames 600 to 699 (of 1441)...\n",
      "INFO:btrack.core | Tracking objects in frames 600 to 699 (of 1441)...\n",
      "[INFO][2025/03/14 05:35:44 PM]  - Timing (Bayesian updates: 4.96ms, Linking: 1.89ms)\n",
      "INFO:btrack.utils |  - Timing (Bayesian updates: 4.96ms, Linking: 1.89ms)\n",
      "[INFO][2025/03/14 05:35:44 PM]  - Probabilities (Link: 1.00000, Lost: 0.76902)\n",
      "INFO:btrack.utils |  - Probabilities (Link: 1.00000, Lost: 0.76902)\n",
      "[INFO][2025/03/14 05:35:44 PM]  - Stats (Active: 455, Lost: 21270, Conflicts resolved: 219)\n",
      "INFO:btrack.utils |  - Stats (Active: 455, Lost: 21270, Conflicts resolved: 219)\n",
      "[INFO][2025/03/14 05:35:44 PM] Tracking objects in frames 700 to 799 (of 1441)...\n",
      "INFO:btrack.core | Tracking objects in frames 700 to 799 (of 1441)...\n",
      "[INFO][2025/03/14 05:35:45 PM]  - Timing (Bayesian updates: 4.03ms, Linking: 1.91ms)\n",
      "INFO:btrack.utils |  - Timing (Bayesian updates: 4.03ms, Linking: 1.91ms)\n",
      "[INFO][2025/03/14 05:35:45 PM]  - Probabilities (Link: 1.00000, Lost: 0.58028)\n",
      "INFO:btrack.utils |  - Probabilities (Link: 1.00000, Lost: 0.58028)\n",
      "[INFO][2025/03/14 05:35:45 PM]  - Stats (Active: 467, Lost: 24560, Conflicts resolved: 240)\n",
      "INFO:btrack.utils |  - Stats (Active: 467, Lost: 24560, Conflicts resolved: 240)\n",
      "[INFO][2025/03/14 05:35:45 PM] Tracking objects in frames 800 to 899 (of 1441)...\n",
      "INFO:btrack.core | Tracking objects in frames 800 to 899 (of 1441)...\n",
      "[INFO][2025/03/14 05:35:46 PM]  - Timing (Bayesian updates: 3.82ms, Linking: 1.83ms)\n",
      "INFO:btrack.utils |  - Timing (Bayesian updates: 3.82ms, Linking: 1.83ms)\n",
      "[INFO][2025/03/14 05:35:46 PM]  - Probabilities (Link: 1.00000, Lost: 0.81172)\n",
      "INFO:btrack.utils |  - Probabilities (Link: 1.00000, Lost: 0.81172)\n",
      "[INFO][2025/03/14 05:35:46 PM]  - Stats (Active: 450, Lost: 27315, Conflicts resolved: 267)\n",
      "INFO:btrack.utils |  - Stats (Active: 450, Lost: 27315, Conflicts resolved: 267)\n",
      "[INFO][2025/03/14 05:35:46 PM] Tracking objects in frames 900 to 999 (of 1441)...\n",
      "INFO:btrack.core | Tracking objects in frames 900 to 999 (of 1441)...\n",
      "[INFO][2025/03/14 05:35:46 PM]  - Timing (Bayesian updates: 3.56ms, Linking: 1.71ms)\n",
      "INFO:btrack.utils |  - Timing (Bayesian updates: 3.56ms, Linking: 1.71ms)\n",
      "[INFO][2025/03/14 05:35:46 PM]  - Probabilities (Link: 1.00000, Lost: 1.00000)\n",
      "INFO:btrack.utils |  - Probabilities (Link: 1.00000, Lost: 1.00000)\n",
      "[INFO][2025/03/14 05:35:46 PM]  - Stats (Active: 432, Lost: 30261, Conflicts resolved: 283)\n",
      "INFO:btrack.utils |  - Stats (Active: 432, Lost: 30261, Conflicts resolved: 283)\n",
      "[INFO][2025/03/14 05:35:46 PM] Tracking objects in frames 1000 to 1099 (of 1441)...\n",
      "INFO:btrack.core | Tracking objects in frames 1000 to 1099 (of 1441)...\n",
      "[INFO][2025/03/14 05:35:47 PM]  - Timing (Bayesian updates: 3.68ms, Linking: 1.80ms)\n",
      "INFO:btrack.utils |  - Timing (Bayesian updates: 3.68ms, Linking: 1.80ms)\n",
      "[INFO][2025/03/14 05:35:47 PM]  - Probabilities (Link: 1.00000, Lost: 0.99999)\n",
      "INFO:btrack.utils |  - Probabilities (Link: 1.00000, Lost: 0.99999)\n",
      "[INFO][2025/03/14 05:35:47 PM]  - Stats (Active: 445, Lost: 32678, Conflicts resolved: 292)\n",
      "INFO:btrack.utils |  - Stats (Active: 445, Lost: 32678, Conflicts resolved: 292)\n",
      "[INFO][2025/03/14 05:35:47 PM] Tracking objects in frames 1100 to 1199 (of 1441)...\n",
      "INFO:btrack.core | Tracking objects in frames 1100 to 1199 (of 1441)...\n",
      "[INFO][2025/03/14 05:35:47 PM]  - Timing (Bayesian updates: 3.81ms, Linking: 1.82ms)\n",
      "INFO:btrack.utils |  - Timing (Bayesian updates: 3.81ms, Linking: 1.82ms)\n",
      "[INFO][2025/03/14 05:35:47 PM]  - Probabilities (Link: 1.00000, Lost: 1.00000)\n",
      "INFO:btrack.utils |  - Probabilities (Link: 1.00000, Lost: 1.00000)\n",
      "[INFO][2025/03/14 05:35:47 PM]  - Stats (Active: 459, Lost: 35754, Conflicts resolved: 320)\n",
      "INFO:btrack.utils |  - Stats (Active: 459, Lost: 35754, Conflicts resolved: 320)\n",
      "[INFO][2025/03/14 05:35:47 PM] Tracking objects in frames 1200 to 1299 (of 1441)...\n",
      "INFO:btrack.core | Tracking objects in frames 1200 to 1299 (of 1441)...\n",
      "[INFO][2025/03/14 05:35:48 PM]  - Timing (Bayesian updates: 3.58ms, Linking: 1.70ms)\n",
      "INFO:btrack.utils |  - Timing (Bayesian updates: 3.58ms, Linking: 1.70ms)\n",
      "[INFO][2025/03/14 05:35:48 PM]  - Probabilities (Link: 1.00000, Lost: 1.00000)\n",
      "INFO:btrack.utils |  - Probabilities (Link: 1.00000, Lost: 1.00000)\n",
      "[INFO][2025/03/14 05:35:48 PM]  - Stats (Active: 441, Lost: 38686, Conflicts resolved: 345)\n",
      "INFO:btrack.utils |  - Stats (Active: 441, Lost: 38686, Conflicts resolved: 345)\n",
      "[INFO][2025/03/14 05:35:48 PM] Tracking objects in frames 1300 to 1399 (of 1441)...\n",
      "INFO:btrack.core | Tracking objects in frames 1300 to 1399 (of 1441)...\n",
      "[INFO][2025/03/14 05:35:48 PM]  - Timing (Bayesian updates: 3.73ms, Linking: 1.83ms)\n",
      "INFO:btrack.utils |  - Timing (Bayesian updates: 3.73ms, Linking: 1.83ms)\n",
      "[INFO][2025/03/14 05:35:48 PM]  - Probabilities (Link: 1.00000, Lost: 0.99623)\n",
      "INFO:btrack.utils |  - Probabilities (Link: 1.00000, Lost: 0.99623)\n",
      "[INFO][2025/03/14 05:35:48 PM]  - Stats (Active: 446, Lost: 42148, Conflicts resolved: 373)\n",
      "INFO:btrack.utils |  - Stats (Active: 446, Lost: 42148, Conflicts resolved: 373)\n",
      "[INFO][2025/03/14 05:35:48 PM] Tracking objects in frames 1400 to 1441 (of 1441)...\n",
      "INFO:btrack.core | Tracking objects in frames 1400 to 1441 (of 1441)...\n",
      "[INFO][2025/03/14 05:35:49 PM]  - Timing (Bayesian updates: 3.65ms, Linking: 1.72ms)\n",
      "INFO:btrack.utils |  - Timing (Bayesian updates: 3.65ms, Linking: 1.72ms)\n",
      "[INFO][2025/03/14 05:35:49 PM]  - Probabilities (Link: 1.00000, Lost: 0.99929)\n",
      "INFO:btrack.utils |  - Probabilities (Link: 1.00000, Lost: 0.99929)\n",
      "[INFO][2025/03/14 05:35:49 PM] SUCCESS.\n",
      "INFO:btrack.core | SUCCESS.\n",
      "[INFO][2025/03/14 05:35:49 PM]  - Found 7449 tracks in 1441 frames (in 0.0s)\n",
      "INFO:btrack.core |  - Found 7449 tracks in 1441 frames (in 0.0s)\n",
      "[INFO][2025/03/14 05:35:49 PM]  - Inserted 1718 dummy objects to fill tracking gaps\n",
      "INFO:btrack.core |  - Inserted 1718 dummy objects to fill tracking gaps\n",
      "[INFO][2025/03/14 05:35:49 PM] Loading hypothesis model: cell_hypothesis\n",
      "INFO:btrack.core | Loading hypothesis model: cell_hypothesis\n",
      "[INFO][2025/03/14 05:35:49 PM] Calculating hypotheses (relax: True)...\n",
      "INFO:btrack.core | Calculating hypotheses (relax: True)...\n",
      "[INFO][2025/03/14 05:35:49 PM] Setting up constraints matrix for global optimisation...\n",
      "INFO:btrack.optimise.optimiser | Setting up constraints matrix for global optimisation...\n",
      "[INFO][2025/03/14 05:35:49 PM] Optimizing...\n",
      "INFO:btrack.optimise.optimiser | Optimizing...\n",
      "[INFO][2025/03/14 05:35:57 PM] Optimization complete. (Solution: optimal)\n",
      "INFO:btrack.optimise.optimiser | Optimization complete. (Solution: optimal)\n",
      "[INFO][2025/03/14 05:35:57 PM]  - Fates.FALSE_POSITIVE: 2772 (of 7449)\n",
      "INFO:btrack.core |  - Fates.FALSE_POSITIVE: 2772 (of 7449)\n",
      "[INFO][2025/03/14 05:35:57 PM]  - Fates.LINK: 2520 (of 4747)\n",
      "INFO:btrack.core |  - Fates.LINK: 2520 (of 4747)\n",
      "[INFO][2025/03/14 05:35:57 PM]  - Fates.DIVIDE: 195 (of 1211)\n",
      "INFO:btrack.core |  - Fates.DIVIDE: 195 (of 1211)\n",
      "[INFO][2025/03/14 05:35:57 PM]  - Fates.INITIALIZE_BORDER: 450 (of 1159)\n",
      "INFO:btrack.core |  - Fates.INITIALIZE_BORDER: 450 (of 1159)\n",
      "[INFO][2025/03/14 05:35:57 PM]  - Fates.INITIALIZE_FRONT: 412 (of 431)\n",
      "INFO:btrack.core |  - Fates.INITIALIZE_FRONT: 412 (of 431)\n",
      "[INFO][2025/03/14 05:35:57 PM]  - Fates.INITIALIZE_LAZY: 905 (of 5859)\n",
      "INFO:btrack.core |  - Fates.INITIALIZE_LAZY: 905 (of 5859)\n",
      "[INFO][2025/03/14 05:35:57 PM]  - Fates.TERMINATE_BORDER: 423 (of 1118)\n",
      "INFO:btrack.core |  - Fates.TERMINATE_BORDER: 423 (of 1118)\n",
      "[INFO][2025/03/14 05:35:57 PM]  - Fates.TERMINATE_BACK: 422 (of 437)\n",
      "INFO:btrack.core |  - Fates.TERMINATE_BACK: 422 (of 437)\n",
      "[INFO][2025/03/14 05:35:57 PM]  - Fates.TERMINATE_LAZY: 1117 (of 5894)\n",
      "INFO:btrack.core |  - Fates.TERMINATE_LAZY: 1117 (of 5894)\n",
      "[INFO][2025/03/14 05:35:57 PM]  - TOTAL: 28305 hypotheses\n",
      "INFO:btrack.core |  - TOTAL: 28305 hypotheses\n"
     ]
    },
    {
     "name": "stdout",
     "output_type": "stream",
     "text": [
      "GLPK Integer Optimizer 5.0\n",
      "29796 rows, 28305 columns, 42923 non-zeros\n",
      "28305 integer variables, all of which are binary\n",
      "Preprocessing...\n",
      "14898 rows, 28305 columns, 42923 non-zeros\n",
      "28305 integer variables, all of which are binary\n",
      "Scaling...\n",
      " A: min|aij| =  1.000e+00  max|aij| =  1.000e+00  ratio =  1.000e+00\n",
      "Problem data seem to be well scaled\n",
      "Constructing initial basis...\n",
      "Size of triangular part is 14898\n",
      "Solving LP relaxation...\n",
      "GLPK Simplex Optimizer 5.0\n",
      "14898 rows, 28305 columns, 42923 non-zeros\n",
      "*     0: obj =   8.451693242e+04 inf =   0.000e+00 (10678)\n",
      "Perturbing LP to avoid stalling [511]...\n",
      "*  8936: obj =   2.825073387e+04 inf =   2.000e-09 (1447) 5\n",
      "Removing LP perturbation [10417]...\n",
      "* 10417: obj =   2.708178225e+04 inf =   0.000e+00 (0) 4\n",
      "OPTIMAL LP SOLUTION FOUND\n",
      "Integer optimization begins...\n",
      "Long-step dual simplex will be used\n",
      "+ 10417: mip =     not found yet >=              -inf        (1; 0)\n",
      "+ 10438: >>>>>   2.709167410e+04 >=   2.708690811e+04 < 0.1% (16; 0)\n",
      "+ 10477: mip =   2.709167410e+04 >=     tree is empty   0.0% (0; 33)\n",
      "INTEGER OPTIMAL SOLUTION FOUND\n"
     ]
    },
    {
     "name": "stderr",
     "output_type": "stream",
     "text": [
      "[INFO][2025/03/14 05:35:57 PM] Completed optimization with 4929 tracks\n",
      "INFO:btrack.core | Completed optimization with 4929 tracks\n",
      "[INFO][2025/03/14 05:35:58 PM] Ending BayesianTracker session\n",
      "INFO:btrack.core | Ending BayesianTracker session\n"
     ]
    },
    {
     "name": "stdout",
     "output_type": "stream",
     "text": [
      "Starting cropping for apo cells.\n",
      "\tAt least one of the images has the wrong size. Length = 2.\n",
      "No valid sequence found.\n",
      "No valid sequence found.\n"
     ]
    },
    {
     "name": "stderr",
     "output_type": "stream",
     "text": [
      "3446242522.py (295): \n",
      "A value is trying to be set on a copy of a slice from a DataFrame.\n",
      "Try using .loc[row_indexer,col_indexer] = value instead\n",
      "\n",
      "See the caveats in the documentation: https://pandas.pydata.org/pandas-docs/stable/user_guide/indexing.html#returning-a-view-versus-a-copy\n"
     ]
    },
    {
     "name": "stdout",
     "output_type": "stream",
     "text": [
      "\tAt least one of the images has the wrong size. Length = 0.\n",
      "Starting cropping for non-apo cells.\n",
      "Starting cropping for random locations.\n"
     ]
    }
   ],
   "source": [
    "image_paths = get_image_paths(os.path.join(IMG_DIR))\n",
    "\n",
    "### TODO remove :2 here, was only for testing\n",
    "filenames = [os.path.splitext(os.path.basename(path))[0] for path in image_paths[:1]]\n",
    "print(filenames)\n",
    "\n",
    "# Create directories for saving if they do not exist\n",
    "output_dirs = [CSV_DIR, MASK_DIR, DF_DIR, CROPS_DIR, CLASS_DCT_PATH, WINDOWS_DIR]\n",
    "for path in output_dirs:\n",
    "    os.makedirs(path, exist_ok=True)\n",
    "\n",
    "# Set up GT_mask prediction with stardist\n",
    "if USE_GPU:\n",
    "    import gputools\n",
    "    from csbdeep.utils.tf import limit_gpu_memory\n",
    "    limit_gpu_memory(None, allow_growth=True)\n",
    "\n",
    "model = StarDist2D.from_pretrained(\"2D_versatile_fluo\")    # Load standard model to create GT\n",
    "axis_norm = (0,1)    # for normalization\n",
    "\n",
    "# Frame rate and movie length for crops\n",
    "experiments_list = pd.read_csv(EXPERIMENT_INFO, header=0)\n",
    "MAX_TRACKING_DURATION = 20    # In minutes\n",
    "FRAME_INTERVAL = 5    # minutes between images we want\n",
    "num_timepoints = MAX_TRACKING_DURATION // FRAME_INTERVAL\n",
    "\n",
    "\n",
    "\n",
    "\n",
    "\n",
    "\n",
    "# Initialize list to collect distances between stardist and manual annotations\n",
    "dist_paolo_stardist = []\n",
    "dist_alt_matching = []\n",
    "\n",
    "num_matches = 0\n",
    "num_mismatches = 0\n",
    "\n",
    "# initalize a list to investigate track lengths after apoptosis\n",
    "survival_times = []\n",
    "\n",
    "# Loop over all files in target directory\n",
    "for path, filename in zip(image_paths, filenames):\n",
    "    # Skip file if not in experiment info csv\n",
    "    experiment_num = filename.split('_')[0]\n",
    "    matching_row = experiments_list[experiments_list['Experiment'] == experiment_num] \n",
    "    if matching_row.empty:\n",
    "        print(f\"Warning: Experiment {experiment_num} not found in the list. Skipping.\")\n",
    "        continue  # Skip this iteration\n",
    "    # Skip file if specified interval between frames is not a multiple of that in input images\n",
    "    acquisition_freq = matching_row['Acquisition_frequency(min)'].iloc[0]\n",
    "    if FRAME_INTERVAL%acquisition_freq != 0:\n",
    "        print(f\"Skipping {filename}: {FRAME_INTERVAL} is not a multiple of {acquisition_freq}.\")\n",
    "        continue\n",
    "    step = FRAME_INTERVAL // acquisition_freq\n",
    "\n",
    "    # Create directory for cropped windows\n",
    "    os.makedirs(os.path.join(CROPS_DIR, filename), exist_ok=True)\n",
    "    os.makedirs(os.path.join(WINDOWS_DIR, 'apo'), exist_ok=True)\n",
    "    os.makedirs(os.path.join(CROPS_DIR, f'no_apo_{filename}'), exist_ok=True)\n",
    "    os.makedirs(os.path.join(WINDOWS_DIR, 'no_apo'), exist_ok=True)\n",
    "    os.makedirs(os.path.join(CROPS_DIR, f'random_{filename}'), exist_ok=True)\n",
    "    os.makedirs(os.path.join(WINDOWS_DIR, 'random'), exist_ok=True)\n",
    "\n",
    "    \n",
    "    # Load and normalize image stack\n",
    "    h2b_imgs = load_image_stack(path) #[::step_size,:,:]\n",
    "    h2b_imgs_normal = np.asarray([normalize(img,1,99.8,axis=axis_norm) for img in h2b_imgs])\n",
    "\n",
    "    # Predict labels with pretrained stardist model\n",
    "    gt = []    #--> lables\n",
    "    details = []    # centroids and more\n",
    "    for x in tqdm(h2b_imgs_normal):\n",
    "        labels, det = model.predict_instances(x, n_tiles=model._guess_n_tiles(x), show_tile_progress=False)\n",
    "        gt.append(labels)\n",
    "        details.append(det)\n",
    "    gt = np.asarray(gt)\n",
    "\n",
    "         \n",
    "    # Remove small objects and create DF with segmentation info (object_id, t, x, y)\n",
    "    gt_filtered = np.zeros_like(gt, dtype=np.uint16)\n",
    "    num_frames = gt.shape[0]\n",
    "    df_list = []\n",
    "    for frame in range(num_frames):\n",
    "        gt_filtered[frame] = remove_small_objects(\n",
    "            gt[frame],\n",
    "            min_size = MIN_NUC_SIZE\n",
    "        )\n",
    "\n",
    "        # Create DF after removing small objects\n",
    "        unique_ids = np.unique(gt_filtered[frame])\n",
    "        unique_ids = unique_ids[unique_ids > 0]\n",
    "        x = []\n",
    "        y = []\n",
    "        timepoint = np.full_like(unique_ids, frame)\n",
    "\n",
    "        current_details = details[frame]['points']    # --> centroids\n",
    "        for obj_id in unique_ids:\n",
    "            position = current_details[obj_id - 1]    # -1 because obj have 1 indexing, centroids start from 0\n",
    "            x.append(position[1])\n",
    "            y.append(position[0])\n",
    "\n",
    "        d = {\n",
    "            'obj_id': unique_ids,\n",
    "            't': timepoint,\n",
    "            'x': x,\n",
    "            'y': y\n",
    "        }\n",
    "        current_df = pd.DataFrame(d)\n",
    "        df_list.append(current_df)\n",
    "\n",
    "    # Concatenate DFs for each t so we get one DF per file\n",
    "    summary_df = pd.concat(df_list, ignore_index = True)\n",
    "\n",
    "\n",
    "    # Create btrack objects (with properties) from the segmentation data\n",
    "    # By setting properties=('area',) the tracking algorithm takes into account the mask's area in addition to x/y.\n",
    "    # By setting assign_class_ID=True adds the object ID that will be used later in merging tracking results with the dfProp table.\n",
    "    btObj = btrack.utils.segmentation_to_objects(\n",
    "            gt_filtered, properties=(\"area\",), assign_class_ID=True\n",
    "    )\n",
    "    _, fovY, fovX = gt_filtered.shape\n",
    "\n",
    "    with btrack.BayesianTracker() as tracker:\n",
    "        # configure the tracker using a config JSON file\n",
    "        tracker.configure(BT_CONFIG_FILE)\n",
    "        tracker.update_method = BayesianUpdates.APPROXIMATE\n",
    "        tracker.max_search_radius = EPS_TRACK\n",
    "    \n",
    "        # append the objects to be tracked\n",
    "        tracker.append(btObj)\n",
    "    \n",
    "        # set the volume (Z axis volume limits default to [-1e5, 1e5] for 2D data)\n",
    "        tracker.volume = ((0, fovX), (0, fovY))\n",
    "    \n",
    "        # track them (in interactive mode)\n",
    "        tracker.track_interactive(step_size=100)\n",
    "    \n",
    "        # generate hypotheses and run the global optimizer\n",
    "        tracker.optimize()\n",
    "    \n",
    "        # get the tracks as a python list\n",
    "        btTracks = tracker.tracks\n",
    "\n",
    "\n",
    "    dfBTracks = pd.concat(pd.DataFrame(t.to_dict([\"ID\", \"t\", \"x\", \"y\"])) for t in btTracks)\n",
    "\n",
    "    dfBTracks.rename(\n",
    "        columns={\n",
    "            \"ID\": \"track_id\",\n",
    "            \"t\": \"t\",\n",
    "            \"x\": \"x\",\n",
    "            \"y\": \"y\",\n",
    "            \"class_id\": \"obj_id\"\n",
    "        }, inplace = True\n",
    "    )\n",
    "\n",
    "    dfBTracks[\"obj_id\"] = dfBTracks[\"obj_id\"].astype(\"Int32\")\n",
    "\n",
    "    merged_df = summary_df.merge(dfBTracks.drop(columns=[\"x\", \"y\", \"area\"]), on=[\"obj_id\", \"t\"], how=\"left\")\n",
    "    merged_df_long = merged_df[merged_df.groupby(\"track_id\")[\"track_id\"].transform('size') >= TRK_MIN_LEN]\n",
    "\n",
    "    mappings = []\n",
    "    tracked_masks = np.zeros_like(gt_filtered)\n",
    "    for t, mask_frame in enumerate(gt_filtered):\n",
    "        current_df = merged_df[merged_df['t'] == t]\n",
    "        obj_to_track = current_df.set_index('obj_id')['track_id'].to_dict()\n",
    "        mappings.append(obj_to_track)\n",
    "        \n",
    "        for obj_id, track_id in obj_to_track.items():\n",
    "            tracked_masks[t][mask_frame == obj_id] = track_id\n",
    "            \n",
    "    # Create dict with switched key value pairs (value becomes key)\n",
    "    rev_mappings = []\n",
    "    for obj_to_track in mappings:\n",
    "        track_to_obj = {y: x for x, y in obj_to_track.items()}\n",
    "        rev_mappings.append(track_to_obj)\n",
    "\n",
    "\n",
    "    ## Match manual and stardist annotations\n",
    "    # Read CSV with manual apoptosis annotations \n",
    "    apo_file = os.path.join(APO_DIR, f'{filename}.csv')\n",
    "    apo_annotations = pd.read_csv(apo_file, header=None, names=['filename', 'x', 'y', 't'])\n",
    "\n",
    "    # Match handmade annotations with stardist detections\n",
    "    delta_ts = []\n",
    "    corresponding_objs = []\n",
    "    corresponding_tracks = []\n",
    "    strdst_x = []\n",
    "    strdst_y = []\n",
    "    for _, row in apo_annotations.iterrows():\n",
    "        t, x, y = int(row['t']), int(row['x']), int(row['y'])\n",
    "        centroids = details[t]['points']\n",
    "        # Convert to NumPy array\n",
    "        centroids = np.array(centroids)  # Shape: (N, 2)\n",
    "        \n",
    "        # Compute L2 norm (Euclidean distance)\n",
    "        distances = np.linalg.norm(centroids - np.array([x, y]), axis=1)\n",
    "\n",
    "        match_index = np.argmin(distances)    \n",
    "        match_centroid = centroids[match_index]\n",
    "        #strdst_x.append(match_centroid[1])\n",
    "        #strdst_y.append(match_centroid[0])\n",
    "        alt_distance_to_paolo = distances[match_index]\n",
    "        dist_alt_matching.append(alt_distance_to_paolo)\n",
    "\n",
    "        \n",
    "        # Perfect match\n",
    "        if tracked_masks[t, y, x] != 0:\n",
    "            corresponding_tracks.append(tracked_masks[t, y, x])\n",
    "            corresponding_objs.append(gt_filtered[t, y, x])\n",
    "            delta_ts.append(0)\n",
    "            num_matches += 1\n",
    "        # Also search previous and coming frames if position is background at time t\n",
    "        else:\n",
    "            t_start = max(0, t-3)\n",
    "            t_end = min(t+3+1, tracked_masks.shape[0])\n",
    "            previous_frames = tracked_masks[t_start:t_end, y, x]\n",
    "            if previous_frames.size > 0:\n",
    "                counts = np.bincount(previous_frames)\n",
    "                match_id = np.argmax(counts)\n",
    "            else:\n",
    "                match_id = 0 \n",
    "\n",
    "            if match_id == 0:\n",
    "                num_mismatches += 1\n",
    "            else:\n",
    "                num_matches += 1\n",
    "            \n",
    "            for delta in [0, 1, -1, 2, -2, 3, -3]:\n",
    "                if (t + delta) in range(t_start, t_end):\n",
    "                    if tracked_masks[t + delta, y, x] == match_id:\n",
    "                        corresponding_tracks.append(match_id)\n",
    "                        corresponding_objs.append(gt_filtered[t + delta, y, x])\n",
    "                        delta_ts.append(delta)\n",
    "                        break\n",
    "                            \n",
    "        # Extract centroid of best matching object\n",
    "        centroids = details[t + delta_ts[-1]]['points']\n",
    "        match_centroid = centroids[corresponding_objs[-1]-1] if corresponding_objs[-1] > 0 else (9999, 9999)\n",
    "        strdst_x.append(match_centroid[1])\n",
    "        strdst_y.append(match_centroid[0])\n",
    "        # Euclidean distance, used for plotting and validation\n",
    "        distance_to_paolo = np.sqrt(((match_centroid[1]- row['x'])**2 + (match_centroid[0] - row['y'])**2))\n",
    "        dist_paolo_stardist.append(distance_to_paolo)\n",
    "\n",
    "    # Add object ID and centroids to apo annotation dataframe    \n",
    "    apo_annotations['matching_object'] = corresponding_objs\n",
    "    apo_annotations['matching_track'] = corresponding_tracks\n",
    "    apo_annotations['strdst_x'] = strdst_x\n",
    "    apo_annotations['strdst_y'] = strdst_y\n",
    "    apo_annotations['delta_ts'] = delta_ts\n",
    "\n",
    "    # Save again as CSV with added stardist centroids      \n",
    "    #apo_annotations.to_csv(os.path.join(CSV_DIR, f'{filename}.csv'), index=False)\n",
    "\n",
    "    # Save summary df as CSV\n",
    "    #summary_df.to_csv(os.path.join(DF_DIR, f'{filename}_pd_df.csv'), index=False)\n",
    "\n",
    "    # Save labels\n",
    "    #if SAVE_MASKS:\n",
    "    #    mask_path = os.path.join(MASK_DIR, f'{filename}.npz')\n",
    "    #    np.savez_compressed(mask_path, gt=gt_filtered)\n",
    "\n",
    "\n",
    "\n",
    "    # Load images to extract windows\n",
    "    imgs = load_image_stack(os.path.join(IMG_DIR, f'{filename}.tif'))\n",
    "    \n",
    "    # Counter so we can sample same amount of random tracks as apoptotic\n",
    "    num_random_tracks = 0 \n",
    "\n",
    "    # Vars for window cropping\n",
    "    num_frames = MAX_TRACKING_DURATION // acquisition_freq\n",
    "    WINDOW_SIZE = 61\n",
    "    target_size = WINDOW_SIZE if WINDOW_SIZE%2 != 0 else WINDOW_SIZE + 1\n",
    "\n",
    "    print('Starting cropping for apo cells.')\n",
    "    for i, row in apo_annotations.iterrows():\n",
    "        current_track_id = row.loc['matching_track']\n",
    "        current_t = row.loc['t'] + row.loc['delta_ts']\n",
    "\n",
    "        #current_track_id = current_track_id.squeeze()\n",
    "        if not np.isscalar(current_track_id):\n",
    "            current_track_id = current_track_id.iloc[0]\n",
    "\n",
    "        # Extract only rows with current cell and a t bigger than what was specified in annotations\n",
    "        single_cell_df = merged_df_long.loc[(merged_df_long['track_id'] == current_track_id) & (merged_df_long['t'] >= current_t)]\n",
    "        # Count track length after manual apoptosis annotation (for histogram later)\n",
    "        num_entries = single_cell_df.shape[0]\n",
    "        survival_times.append(num_entries)\n",
    "\n",
    "        # Skip track if too short for specified tracking duration\n",
    "        if len(single_cell_df) < num_frames + 1:\n",
    "            print(f\"Skipping current track: {current_track_id}. Reason: Track lost too quickly after anno.\")\n",
    "\n",
    "        merged_df_long.loc[merged_df_long['track_id'] == current_track_id, 'apoptotic'] = 1\n",
    "\n",
    "        single_cell_df = single_cell_df.loc[single_cell_df['t'] < current_t + num_frames + step]\n",
    "        \n",
    "        \n",
    "        windows = []\n",
    "        ### TODO: put to variables\n",
    "        for _, row in single_cell_df.iterrows():\n",
    "            window = crop_window(imgs[int(row['t'])], int(row['x']), int(row['y']), WINDOW_SIZE)\n",
    "            if window.shape == (target_size, target_size):    \n",
    "                windows.append(window)\n",
    "            else:\n",
    "                windows.append(None)\n",
    "\n",
    "        \n",
    "\n",
    "        chosen_offset = None\n",
    "        for offset in range(step):\n",
    "            sub_windows = windows[offset::step]\n",
    "            if all(x is not None for x in sub_windows):  \n",
    "                chosen_offset = offset\n",
    "                break  # Stop as soon as a valid sequence is found\n",
    "\n",
    "        if chosen_offset is None:\n",
    "            print(\"No valid starting point found.\")\n",
    "        else:\n",
    "            sub_windows = windows[chosen_offset::step]\n",
    "            sub_windows = np.asarray(sub_windows)\n",
    "            if len(sub_windows) == (MAX_TRACKING_DURATION // step) + 1:\n",
    "                tiff.imwrite(os.path.join(CROPS_DIR, filename, f'trackID_{current_track_id}.tif'), sub_windows)\n",
    "                tiff.imwrite(os.path.join(WINDOWS_DIR, 'apo', f'apo_{filename}_{chosen_offset}.tif'), sub_windows)\n",
    "            else:\n",
    "                print(f'\\tAt least one of the images has the wrong size. Length = {len(windows)}.')\n",
    "            \n",
    "\n",
    "    print('Starting cropping for non-apo cells.')\n",
    "    # Get crops of healthy cells\n",
    "    long_no_apo_df = merged_df_long[merged_df_long['apoptotic'] == 0]\n",
    "\n",
    "    \n",
    "    unique_track_ids = np.unique(long_no_apo_df['track_id'])\n",
    "\n",
    "    for i, track_id in enumerate(unique_track_ids):\n",
    "        single_cell_df = long_no_apo_df.loc[long_no_apo_df['track_id'] == track_id]\n",
    "        start_t = min(single_cell_df['t'])\n",
    "        # same length as for apoptotic cells\n",
    "        single_cell_df = single_cell_df.loc[single_cell_df['t'] <= start_t + num_frames]\n",
    "        windows = []\n",
    "        for _, row in single_cell_df.iterrows():\n",
    "            window = crop_window(imgs[int(row['t'])], int(row['x']), int(row['y']), WINDOW_SIZE)\n",
    "            if window.shape == (target_size, target_size):    ### This is a bit dangerous! can mess up time if we simply leave a window out\n",
    "                windows.append(window)\n",
    "\n",
    "        if len(windows) == MAX_TRACKING_DURATION + 1:\n",
    "            windows = np.asarray(windows)\n",
    "            tiff.imwrite(os.path.join(CROPS_DIR, f'no_apo_{filename}', f'trackID_{track_id}.tif'), windows[::step])\n",
    "            tiff.imwrite(os.path.join(WINDOWS_DIR, 'no_apo', f'no_apo_{filename}_{i}.tif'), windows[::step])\n",
    "        else:\n",
    "            print(f'\\tAt least one of the images has the wrong size. Length = {len(windows)}')\n",
    "\n",
    "    \n",
    "    # Gather random crops \n",
    "    ### I think this could be problematic, oftentimes is full of cells so not really background or negative\n",
    "    ### TODO Check that no apoptotic cell is in window\n",
    "    print('Starting cropping for random locations.')\n",
    "\n",
    "    # Assuming imgs is a list/array of your image frames,\n",
    "    # and each image has dimensions: img_height x img_width\n",
    "    img_height, img_width = imgs[0].shape\n",
    "    \n",
    "    # Create a directory for random crops if needed\n",
    "    RANDOM_DIR = os.path.join(WINDOWS_DIR, 'random')\n",
    "    os.makedirs(RANDOM_DIR, exist_ok=True)\n",
    "    \n",
    "    for track in range(num_random_tracks):\n",
    "        # Randomly choose a start time such that the track fits in your image sequence\n",
    "        start_t = np.random.randint(0, len(imgs) - num_frames)\n",
    "        \n",
    "        # Randomly generate valid (x, y) coordinates for the crop center\n",
    "        random_x = np.random.randint(WINDOW_SIZE//2, img_width - WINDOW_SIZE//2)\n",
    "        random_y = np.random.randint(WINDOW_SIZE//2, img_height - WINDOW_SIZE//2)\n",
    "        \n",
    "        windows = []\n",
    "        # Extract a window for each frame in the track duration\n",
    "        for t in range(start_t, start_t + num_frames + 1, step): \n",
    "            window = crop_window(imgs[t], random_x, random_y, WINDOW_SIZE)\n",
    "            if window.shape == (target_size, target_size):\n",
    "                windows.append(window)\n",
    "            else:\n",
    "                print(f\"Frame {t}: Invalid window shape, skipping.\")\n",
    "    \n",
    "        if len(windows) == (MAX_TRACKING_DURATION/FRAME_INTERVAL) + 1:\n",
    "            windows = np.asarray(windows)\n",
    "            tiff.imwrite(os.path.join(CROPS_DIR, f'random_{filename}', f'ID_{track}.tif'), windows[::step])\n",
    "            tiff.imwrite(os.path.join(WINDOWS_DIR, 'random', f'random_{filename}_{track}.tif'), windows[::step])\n",
    "            \n",
    "        else:\n",
    "            print(f'\\tAt least one of the images has the wrong size. Length = {len(windows)}')\n",
    "        \n"
   ]
  },
  {
   "cell_type": "markdown",
   "metadata": {},
   "source": [
    "### Plots"
   ]
  },
  {
   "cell_type": "code",
   "execution_count": 6,
   "metadata": {},
   "outputs": [
    {
     "data": {
      "image/png": "[encoded data removed]",
      "text/plain": [
       "<Figure size 640x480 with 1 Axes>"
      ]
     },
     "metadata": {},
     "output_type": "display_data"
    }
   ],
   "source": [
    "# Create histogram\n",
    "plt.hist(dist_paolo_stardist, bins=25, range=(0, 50), color='blue', edgecolor='black', alpha=0.7)\n",
    "plt.xlim(0, 50)\n",
    "\n",
    "\n",
    "# Labels and title\n",
    "plt.xlabel('Distance (L2-norm, Pixels)')\n",
    "plt.ylabel('Frequency')\n",
    "plt.title('Distances between manual and Stardist centroids')\n",
    "\n",
    "# Show plot\n",
    "plt.show()"
   ]
  },
  {
   "cell_type": "code",
   "execution_count": 7,
   "metadata": {},
   "outputs": [
    {
     "data": {
      "image/png": "[encoded data removed]",
      "text/plain": [
       "<Figure size 1000x500 with 1 Axes>"
      ]
     },
     "metadata": {},
     "output_type": "display_data"
    },
    {
     "name": "stdout",
     "output_type": "stream",
     "text": [
      "Original Matching - Mean Distance: 4.654222065130671\n",
      "L2 Norm Matching - Mean Distance: 20.8033545248053\n",
      "Original Matching - Median Distance: 4.123105625617661\n",
      "L2 Norm Matching - Median Distance: 19.849433241279208\n",
      "Original Matching - Min/Max: 1.0 / 19.4164878389476\n",
      "L2 Norm Matching - Min/Max: 3.605551275463989 / 50.24937810560445\n"
     ]
    }
   ],
   "source": [
    "import matplotlib.pyplot as plt\n",
    "\n",
    "# Ensure lists are NumPy arrays for efficient calculations\n",
    "dist_paolo_stardist = np.array(dist_paolo_stardist)\n",
    "dist_alt_matching = np.array(dist_alt_matching)\n",
    "\n",
    "# Plot histograms\n",
    "plt.figure(figsize=(10, 5))\n",
    "plt.hist(dist_paolo_stardist, bins=30, alpha=0.5, label=\"Original Matching\", color='blue', range = (0, 60))\n",
    "plt.hist(dist_alt_matching, bins=30, alpha=0.5, label=\"L2 Norm Matching\", color='red', range = (0, 60))\n",
    "plt.xlabel(\"Distance\")\n",
    "plt.ylabel(\"Frequency\")\n",
    "plt.title(\"Comparison of Matching Approaches\")\n",
    "plt.legend()\n",
    "plt.show()\n",
    "\n",
    "# Print summary statistics\n",
    "print(\"Original Matching - Mean Distance:\", np.mean(dist_paolo_stardist))\n",
    "print(\"L2 Norm Matching - Mean Distance:\", np.mean(dist_alt_matching))\n",
    "print(\"Original Matching - Median Distance:\", np.median(dist_paolo_stardist))\n",
    "print(\"L2 Norm Matching - Median Distance:\", np.median(dist_alt_matching))\n",
    "print(\"Original Matching - Min/Max:\", np.min(dist_paolo_stardist), \"/\", np.max(dist_paolo_stardist))\n",
    "print(\"L2 Norm Matching - Min/Max:\", np.min(dist_alt_matching), \"/\", np.max(dist_alt_matching))\n"
   ]
  },
  {
   "cell_type": "code",
   "execution_count": 8,
   "metadata": {},
   "outputs": [
    {
     "data": {
      "image/png": "[encoded data removed]",
      "text/plain": [
       "<Figure size 1000x600 with 1 Axes>"
      ]
     },
     "metadata": {},
     "output_type": "display_data"
    }
   ],
   "source": [
    "import matplotlib.pyplot as plt\n",
    "\n",
    "# Count occurrences of each track_id to determine track lengths\n",
    "track_lengths = merged_df[\"track_id\"].value_counts()\n",
    "\n",
    "# Plot histogram\n",
    "plt.figure(figsize=(10, 6))\n",
    "plt.hist(track_lengths, bins=20, edgecolor=\"black\", alpha=0.7)\n",
    "\n",
    "# Labels and title\n",
    "plt.xlabel(\"Track Length\")\n",
    "plt.ylabel(\"Frequency\")\n",
    "plt.title(\"Histogram of Track Lengths\")\n",
    "\n",
    "# Show plot\n",
    "plt.show()"
   ]
  },
  {
   "cell_type": "code",
   "execution_count": 9,
   "metadata": {},
   "outputs": [
    {
     "data": {
      "image/png": "[encoded data removed]",
      "text/plain": [
       "<Figure size 1000x600 with 1 Axes>"
      ]
     },
     "metadata": {},
     "output_type": "display_data"
    }
   ],
   "source": [
    "import matplotlib.pyplot as plt\n",
    "\n",
    "# Count occurrences of each track_id to determine track lengths\n",
    "track_lengths = merged_df_long[\"track_id\"].value_counts()\n",
    "\n",
    "# Plot histogram\n",
    "plt.figure(figsize=(10, 6))\n",
    "plt.hist(track_lengths, bins=20, edgecolor=\"black\", alpha=0.7)\n",
    "\n",
    "# Labels and title\n",
    "plt.xlabel(\"Track Length\")\n",
    "plt.ylabel(\"Frequency\")\n",
    "plt.title(\"Histogram of Track Lengths\")\n",
    "\n",
    "# Show plot\n",
    "plt.show()"
   ]
  },
  {
   "cell_type": "code",
   "execution_count": 10,
   "metadata": {},
   "outputs": [
    {
     "data": {
      "image/png": "[encoded data removed]",
      "text/plain": [
       "<Figure size 800x600 with 1 Axes>"
      ]
     },
     "metadata": {},
     "output_type": "display_data"
    }
   ],
   "source": [
    "# Option 1: Histogram of survival times in frames\n",
    "plt.figure(figsize=(8, 6))\n",
    "plt.hist(survival_times, bins=range(min(survival_times), max(survival_times)+2), edgecolor='black')\n",
    "plt.xlabel(\"Survival Time (frames)\")\n",
    "plt.ylabel(\"Number of Cells\")\n",
    "plt.title(\"Histogram of Cell Survival Times (Frames)\")\n",
    "plt.show()"
   ]
  },
  {
   "cell_type": "code",
   "execution_count": 11,
   "metadata": {},
   "outputs": [
    {
     "data": {
      "image/png": "[encoded data removed]",
      "text/plain": [
       "<Figure size 800x600 with 1 Axes>"
      ]
     },
     "metadata": {},
     "output_type": "display_data"
    }
   ],
   "source": [
    "# Option 1: Histogram of survival times in frames\n",
    "plt.figure(figsize=(8, 6))\n",
    "plt.hist(survival_times, bins=20, range = (0, 200), edgecolor='black')\n",
    "plt.xlim(0, 200)\n",
    "plt.xlabel(\"Survival Time (frames)\")\n",
    "plt.ylabel(\"Number of Cells\")\n",
    "plt.title(\"Histogram of Cell Survival Times (Frames)\")\n",
    "plt.show()"
   ]
  },
  {
   "cell_type": "code",
   "execution_count": 12,
   "metadata": {},
   "outputs": [
    {
     "data": {
      "image/png": "[encoded data removed]",
      "text/plain": [
       "<Figure size 800x600 with 1 Axes>"
      ]
     },
     "metadata": {},
     "output_type": "display_data"
    }
   ],
   "source": [
    "# Option 2: Convert survival times to minutes (if FRAME_INTERVAL is defined)\n",
    "time_per_frame = 1    # One minute per frame\n",
    "\n",
    "survival_times_minutes = [t * time_per_frame for t in survival_times]\n",
    "plt.figure(figsize=(8, 6))\n",
    "# Create bins with step size equal to FRAME_INTERVAL\n",
    "bins = range(min(survival_times_minutes), max(survival_times_minutes) + FRAME_INTERVAL, FRAME_INTERVAL)\n",
    "plt.hist(survival_times_minutes, bins=bins, edgecolor='black')\n",
    "plt.xlabel(\"Survival Time (minutes)\")\n",
    "plt.ylabel(\"Number of Cells\")\n",
    "plt.title(\"Histogram of Cell Survival Times (Minutes)\")\n",
    "plt.show()"
   ]
  },
  {
   "cell_type": "code",
   "execution_count": 13,
   "metadata": {},
   "outputs": [
    {
     "data": {
      "text/plain": [
       "1.0"
      ]
     },
     "execution_count": 13,
     "metadata": {},
     "output_type": "execute_result"
    }
   ],
   "source": [
    "num_matches/(num_matches+num_mismatches)"
   ]
  },
  {
   "cell_type": "markdown",
   "metadata": {},
   "source": [
    "### Plots from first approach"
   ]
  },
  {
   "cell_type": "code",
   "execution_count": 5,
   "metadata": {},
   "outputs": [
    {
     "data": {
      "image/png": "[encoded data removed]",
      "text/plain": [
       "<Figure size 640x480 with 1 Axes>"
      ]
     },
     "metadata": {},
     "output_type": "display_data"
    }
   ],
   "source": [
    "# Create histogram\n",
    "plt.hist(dist_paolo_stardist, bins=25, range=(0, 50), color='blue', edgecolor='black', alpha=0.7)\n",
    "plt.xlim(0, 50)\n",
    "\n",
    "\n",
    "# Labels and title\n",
    "plt.xlabel('Distance (L2-norm, Pixels)')\n",
    "plt.ylabel('Frequency')\n",
    "plt.title('Distances between manual and Stardist centroids')\n",
    "\n",
    "# Show plot\n",
    "plt.show()"
   ]
  },
  {
   "cell_type": "code",
   "execution_count": 6,
   "metadata": {},
   "outputs": [
    {
     "data": {
      "image/png": "[encoded data removed]",
      "text/plain": [
       "<Figure size 1000x500 with 1 Axes>"
      ]
     },
     "metadata": {},
     "output_type": "display_data"
    },
    {
     "name": "stdout",
     "output_type": "stream",
     "text": [
      "Original Matching - Mean Distance: 4.1448278829182605\n",
      "L2 Norm Matching - Mean Distance: 21.339171822758782\n",
      "Original Matching - Median Distance: 4.0\n",
      "L2 Norm Matching - Median Distance: 20.0\n",
      "Original Matching - Min/Max: 1.0 / 9.219544457292887\n",
      "L2 Norm Matching - Min/Max: 3.605551275463989 / 50.24937810560445\n"
     ]
    }
   ],
   "source": [
    "import matplotlib.pyplot as plt\n",
    "\n",
    "# Ensure lists are NumPy arrays for efficient calculations\n",
    "dist_paolo_stardist = np.array(dist_paolo_stardist)\n",
    "dist_alt_matching = np.array(dist_alt_matching)\n",
    "\n",
    "# Plot histograms\n",
    "plt.figure(figsize=(10, 5))\n",
    "plt.hist(dist_paolo_stardist, bins=30, alpha=0.5, label=\"Original Matching\", color='blue', range = (0, 60))\n",
    "plt.hist(dist_alt_matching, bins=30, alpha=0.5, label=\"L2 Norm Matching\", color='red', range = (0, 60))\n",
    "plt.xlabel(\"Distance\")\n",
    "plt.ylabel(\"Frequency\")\n",
    "plt.title(\"Comparison of Matching Approaches\")\n",
    "plt.legend()\n",
    "plt.show()\n",
    "\n",
    "# Print summary statistics\n",
    "print(\"Original Matching - Mean Distance:\", np.mean(dist_paolo_stardist))\n",
    "print(\"L2 Norm Matching - Mean Distance:\", np.mean(dist_alt_matching))\n",
    "print(\"Original Matching - Median Distance:\", np.median(dist_paolo_stardist))\n",
    "print(\"L2 Norm Matching - Median Distance:\", np.median(dist_alt_matching))\n",
    "print(\"Original Matching - Min/Max:\", np.min(dist_paolo_stardist), \"/\", np.max(dist_paolo_stardist))\n",
    "print(\"L2 Norm Matching - Min/Max:\", np.min(dist_alt_matching), \"/\", np.max(dist_alt_matching))\n"
   ]
  },
  {
   "cell_type": "code",
   "execution_count": 7,
   "metadata": {},
   "outputs": [
    {
     "data": {
      "image/png": "[encoded data removed]",
      "text/plain": [
       "<Figure size 1000x600 with 1 Axes>"
      ]
     },
     "metadata": {},
     "output_type": "display_data"
    }
   ],
   "source": [
    "import matplotlib.pyplot as plt\n",
    "\n",
    "# Count occurrences of each track_id to determine track lengths\n",
    "track_lengths = merged_df[\"track_id\"].value_counts()\n",
    "\n",
    "# Plot histogram\n",
    "plt.figure(figsize=(10, 6))\n",
    "plt.hist(track_lengths, bins=20, edgecolor=\"black\", alpha=0.7)\n",
    "\n",
    "# Labels and title\n",
    "plt.xlabel(\"Track Length\")\n",
    "plt.ylabel(\"Frequency\")\n",
    "plt.title(\"Histogram of Track Lengths\")\n",
    "\n",
    "# Show plot\n",
    "plt.show()"
   ]
  },
  {
   "cell_type": "code",
   "execution_count": 8,
   "metadata": {},
   "outputs": [
    {
     "data": {
      "image/png": "[encoded data removed]",
      "text/plain": [
       "<Figure size 1000x600 with 1 Axes>"
      ]
     },
     "metadata": {},
     "output_type": "display_data"
    }
   ],
   "source": [
    "import matplotlib.pyplot as plt\n",
    "\n",
    "# Count occurrences of each track_id to determine track lengths\n",
    "track_lengths = merged_df_long[\"track_id\"].value_counts()\n",
    "\n",
    "# Plot histogram\n",
    "plt.figure(figsize=(10, 6))\n",
    "plt.hist(track_lengths, bins=20, edgecolor=\"black\", alpha=0.7)\n",
    "\n",
    "# Labels and title\n",
    "plt.xlabel(\"Track Length\")\n",
    "plt.ylabel(\"Frequency\")\n",
    "plt.title(\"Histogram of Track Lengths\")\n",
    "\n",
    "# Show plot\n",
    "plt.show()"
   ]
  },
  {
   "cell_type": "code",
   "execution_count": 9,
   "metadata": {},
   "outputs": [
    {
     "data": {
      "image/png": "[encoded data removed]",
      "text/plain": [
       "<Figure size 800x600 with 1 Axes>"
      ]
     },
     "metadata": {},
     "output_type": "display_data"
    }
   ],
   "source": [
    "# Option 1: Histogram of survival times in frames\n",
    "plt.figure(figsize=(8, 6))\n",
    "plt.hist(survival_times, bins=range(min(survival_times), max(survival_times)+2), edgecolor='black')\n",
    "plt.xlabel(\"Survival Time (frames)\")\n",
    "plt.ylabel(\"Number of Cells\")\n",
    "plt.title(\"Histogram of Cell Survival Times (Frames)\")\n",
    "plt.show()"
   ]
  },
  {
   "cell_type": "code",
   "execution_count": 10,
   "metadata": {},
   "outputs": [
    {
     "data": {
      "image/png": "[encoded data removed]",
      "text/plain": [
       "<Figure size 800x600 with 1 Axes>"
      ]
     },
     "metadata": {},
     "output_type": "display_data"
    }
   ],
   "source": [
    "# Option 1: Histogram of survival times in frames\n",
    "plt.figure(figsize=(8, 6))\n",
    "plt.hist(survival_times, bins=20, range = (0, 200), edgecolor='black')\n",
    "plt.xlim(0, 200)\n",
    "plt.xlabel(\"Survival Time (frames)\")\n",
    "plt.ylabel(\"Number of Cells\")\n",
    "plt.title(\"Histogram of Cell Survival Times (Frames)\")\n",
    "plt.show()"
   ]
  },
  {
   "cell_type": "code",
   "execution_count": 11,
   "metadata": {},
   "outputs": [
    {
     "data": {
      "image/png": "[encoded data removed]",
      "text/plain": [
       "<Figure size 800x600 with 1 Axes>"
      ]
     },
     "metadata": {},
     "output_type": "display_data"
    }
   ],
   "source": [
    "# Option 2: Convert survival times to minutes (if FRAME_INTERVAL is defined)\n",
    "time_per_frame = 1    # One minute per frame\n",
    "\n",
    "survival_times_minutes = [t * time_per_frame for t in survival_times]\n",
    "plt.figure(figsize=(8, 6))\n",
    "# Create bins with step size equal to FRAME_INTERVAL\n",
    "bins = range(min(survival_times_minutes), max(survival_times_minutes) + FRAME_INTERVAL, FRAME_INTERVAL)\n",
    "plt.hist(survival_times_minutes, bins=bins, edgecolor='black')\n",
    "plt.xlabel(\"Survival Time (minutes)\")\n",
    "plt.ylabel(\"Number of Cells\")\n",
    "plt.title(\"Histogram of Cell Survival Times (Minutes)\")\n",
    "plt.show()"
   ]
  },
  {
   "cell_type": "code",
   "execution_count": 9,
   "metadata": {},
   "outputs": [
    {
     "data": {
      "text/plain": [
       "1.0"
      ]
     },
     "execution_count": 9,
     "metadata": {},
     "output_type": "execute_result"
    }
   ],
   "source": [
    "num_matches/(num_matches+num_mismatches)"
   ]
  },
  {
   "cell_type": "code",
   "execution_count": 10,
   "metadata": {},
   "outputs": [
    {
     "data": {
      "text/plain": [
       "0"
      ]
     },
     "execution_count": 10,
     "metadata": {},
     "output_type": "execute_result"
    }
   ],
   "source": [
    "num_mismatches"
   ]
  }
 ],
 "metadata": {
  "kernelspec": {
   "display_name": "Python 3 (ipykernel)",
   "language": "python",
   "name": "python3"
  },
  "language_info": {
   "codemirror_mode": {
    "name": "ipython",
    "version": 3
   },
   "file_extension": ".py",
   "mimetype": "text/x-python",
   "name": "python",
   "nbconvert_exporter": "python",
   "pygments_lexer": "ipython3",
   "version": "3.10.14"
  }
 },
 "nbformat": 4,
 "nbformat_minor": 4
}
