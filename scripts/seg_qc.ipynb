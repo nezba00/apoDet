{
 "cells": [
  {
   "cell_type": "markdown",
   "metadata": {},
   "source": [
    "## Script to check quality of segmentation masks"
   ]
  },
  {
   "cell_type": "code",
   "execution_count": 1,
   "metadata": {
    "vscode": {
     "languageId": "plaintext"
    }
   },
   "outputs": [],
   "source": [
    "import os\n",
    "import numpy as np\n",
    "# Visualization\n",
    "import matplotlib.pyplot as plt\n",
    "\n",
    "import tifffile as tiff\n",
    "from preprocessing import (filter_segmentation, get_image_paths,\n",
    "                           run_segmentation, SEGMENTATION_CONFIG)"
   ]
  },
  {
   "cell_type": "code",
   "execution_count": 2,
   "metadata": {
    "scrolled": true
   },
   "outputs": [],
   "source": [
    "IMG_DIR = \"/mnt/imaging.data/PertzLab/apoDetection/TIFFs\"\n",
    "MASK_DIR = \"/home/nbahou/myimaging/apoDet/data/dataset1/apo_masks\"\n",
    "\n",
    "image_paths = get_image_paths(os.path.join(IMG_DIR))\n",
    "filenames = [os.path.splitext(os.path.basename(path))[0]\n",
    "             for path in image_paths[:2]]\n",
    "\n",
    "paths = [\n",
    "        os.path.abspath(os.path.join(MASK_DIR, f))\n",
    "        for f in os.listdir(MASK_DIR)\n",
    "    ]\n",
    "mask_paths = sorted(paths)\n",
    "mask_filenames = [os.path.splitext(os.path.basename(path))[0]\n",
    "             for path in mask_paths[:2]]\n",
    "\n",
    "index = 0\n",
    "masks = np.load(mask_paths[index])['gt']\n",
    "imgs = tiff.imread(image_paths[index])\n"
   ]
  },
  {
   "cell_type": "code",
   "execution_count": 11,
   "metadata": {},
   "outputs": [
    {
     "name": "stdout",
     "output_type": "stream",
     "text": [
      "['Exp01_Site01', 'Exp01_Site02']\n"
     ]
    }
   ],
   "source": [
    "print(mask_filenames)"
   ]
  },
  {
   "cell_type": "code",
   "execution_count": 3,
   "metadata": {},
   "outputs": [
    {
     "data": {
      "application/vnd.jupyter.widget-view+json": {
       "model_id": "120c3325012a42269249a98e34c34e0a",
       "version_major": 2,
       "version_minor": 0
      },
      "text/plain": [
       "VBox(children=(HBox(children=(Button(description='Previous', style=ButtonStyle()), IntSlider(value=0, descript…"
      ]
     },
     "metadata": {},
     "output_type": "display_data"
    },
    {
     "data": {
      "application/vnd.jupyter.widget-view+json": {
       "model_id": "ee6f84f3a1844adeb83daf26996ee09f",
       "version_major": 2,
       "version_minor": 0
      },
      "text/plain": [
       "Output()"
      ]
     },
     "metadata": {},
     "output_type": "display_data"
    }
   ],
   "source": [
    "import ipywidgets as widgets\n",
    "from IPython.display import display, clear_output\n",
    "\n",
    "n_frames, H, W = imgs.shape\n",
    "\n",
    "# --- Widgets ---\n",
    "frame_slider = widgets.IntSlider(0, 0, n_frames-1, 1, description=\"Frame\")\n",
    "x_slider = widgets.IntSlider(0, 0, W-1, 10, description=\"X\")\n",
    "y_slider = widgets.IntSlider(0, 0, H-1, 10, description=\"Y\")\n",
    "window_slider = widgets.IntSlider(200, 10, min(H, W), 10, description=\"Window size\")\n",
    "invert_checkbox = widgets.Checkbox(value=False, description='Invert image')\n",
    "play_button = widgets.Play(interval=150, value=0, min=0, max=n_frames-1, step=1, description=\"Play\")\n",
    "widgets.jslink((play_button, 'value'), (frame_slider, 'value'))\n",
    "\n",
    "prev_button = widgets.Button(description=\"Previous\")\n",
    "next_button = widgets.Button(description=\"Next\")\n",
    "out = widgets.Output()\n",
    "\n",
    "current_frame = 0\n",
    "\n",
    "# --- Display Function ---\n",
    "def show_frame(frame):\n",
    "    x = x_slider.value\n",
    "    y = y_slider.value\n",
    "    size = window_slider.value\n",
    "\n",
    "    x_end = min(x + size, W)\n",
    "    y_end = min(y + size, H)\n",
    "\n",
    "    img_crop = imgs[frame, y:y_end, x:x_end]\n",
    "    mask_crop = masks[frame, y:y_end, x:x_end]\n",
    "    mask_display = np.ma.masked_where(mask_crop == 0, mask_crop)\n",
    "\n",
    "    # Invert if toggle is checked\n",
    "    if invert_checkbox.value:\n",
    "        img_crop = np.clip(img_crop, 0, 5000)\n",
    "        img_crop = 5000 - img_crop\n",
    "\n",
    "    with out:\n",
    "        clear_output(wait=True)\n",
    "        fig, ax = plt.subplots(figsize=(6, 6))\n",
    "        ax.imshow(img_crop, cmap='gray', vmin=0, vmax=5000)\n",
    "        ax.imshow(mask_display, cmap='jet', alpha=0.5)\n",
    "        ax.set_title(f\"Frame {frame}\")\n",
    "        ax.axis('off')\n",
    "        plt.show()\n",
    "\n",
    "# --- Event Handlers ---\n",
    "def on_slider_change(change):\n",
    "    global current_frame\n",
    "    current_frame = frame_slider.value\n",
    "    show_frame(current_frame)\n",
    "\n",
    "def on_prev_clicked(b):\n",
    "    global current_frame\n",
    "    if current_frame > 0:\n",
    "        current_frame -= 1\n",
    "        frame_slider.value = current_frame\n",
    "\n",
    "def on_next_clicked(b):\n",
    "    global current_frame\n",
    "    if current_frame < n_frames - 1:\n",
    "        current_frame += 1\n",
    "        frame_slider.value = current_frame\n",
    "\n",
    "# --- Link events ---\n",
    "frame_slider.observe(on_slider_change, names='value')\n",
    "x_slider.observe(lambda c: show_frame(current_frame), names='value')\n",
    "y_slider.observe(lambda c: show_frame(current_frame), names='value')\n",
    "window_slider.observe(lambda c: show_frame(current_frame), names='value')\n",
    "invert_checkbox.observe(lambda c: show_frame(current_frame), names='value')\n",
    "prev_button.on_click(on_prev_clicked)\n",
    "next_button.on_click(on_next_clicked)\n",
    "\n",
    "# --- Layout and launch ---\n",
    "controls = widgets.VBox([\n",
    "    widgets.HBox([prev_button, frame_slider, next_button, play_button]),\n",
    "    x_slider,\n",
    "    y_slider,\n",
    "    window_slider,\n",
    "    invert_checkbox\n",
    "])\n",
    "\n",
    "display(controls, out)\n",
    "show_frame(current_frame)\n"
   ]
  }
 ],
 "metadata": {
  "kernelspec": {
   "display_name": "Python 3 (ipykernel)",
   "language": "python",
   "name": "python3"
  },
  "language_info": {
   "codemirror_mode": {
    "name": "ipython",
    "version": 3
   },
   "file_extension": ".py",
   "mimetype": "text/x-python",
   "name": "python",
   "nbconvert_exporter": "python",
   "pygments_lexer": "ipython3",
   "version": "3.10.14"
  }
 },
 "nbformat": 4,
 "nbformat_minor": 4
}
